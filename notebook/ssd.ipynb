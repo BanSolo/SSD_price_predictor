{
 "cells": [
  {
   "cell_type": "markdown",
   "metadata": {},
   "source": [
    "# SSD Price Predictor\n",
    "### Adrián Bán"
   ]
  },
  {
   "cell_type": "markdown",
   "metadata": {},
   "source": [
    "Ennek a projektnek a célja az SSD meghajtók tulajdonságaikat tartalmazó adathalmaz alapján megjósolni, hogy adott paraméterek mellett várhatóan mennyibe fog kerülni a termék. Az adatok 2021. április 25-én lettek rögzítve."
   ]
  },
  {
   "cell_type": "markdown",
   "metadata": {},
   "source": [
    "Szükséges könyvtárak"
   ]
  },
  {
   "cell_type": "code",
   "execution_count": 1,
   "metadata": {},
   "outputs": [],
   "source": [
    "import pandas as pd\n",
    "import numpy as np\n",
    "import seaborn as sns\n",
    "import matplotlib.pyplot as plt\n",
    "import pickle\n",
    "\n",
    "from sklearn.metrics import mean_squared_error\n",
    "from sklearn.model_selection import GridSearchCV\n",
    "from sklearn.linear_model import LinearRegression\n",
    "from sklearn.tree import DecisionTreeRegressor\n",
    "from sklearn.ensemble import RandomForestRegressor\n",
    "from sklearn.svm import SVR\n",
    "from sklearn.model_selection import cross_val_score\n",
    "from sklearn.model_selection import train_test_split\n",
    "from sklearn.preprocessing import OneHotEncoder\n",
    "from sklearn.preprocessing import StandardScaler"
   ]
  },
  {
   "cell_type": "markdown",
   "metadata": {},
   "source": [
    "Adathalmaz"
   ]
  },
  {
   "cell_type": "code",
   "execution_count": 2,
   "metadata": {},
   "outputs": [],
   "source": [
    "df = pd.read_csv('../data/ssd.csv')"
   ]
  },
  {
   "cell_type": "code",
   "execution_count": 3,
   "metadata": {},
   "outputs": [
    {
     "data": {
      "text/html": [
       "<div>\n",
       "<style scoped>\n",
       "    .dataframe tbody tr th:only-of-type {\n",
       "        vertical-align: middle;\n",
       "    }\n",
       "\n",
       "    .dataframe tbody tr th {\n",
       "        vertical-align: top;\n",
       "    }\n",
       "\n",
       "    .dataframe thead th {\n",
       "        text-align: right;\n",
       "    }\n",
       "</style>\n",
       "<table border=\"1\" class=\"dataframe\">\n",
       "  <thead>\n",
       "    <tr style=\"text-align: right;\">\n",
       "      <th></th>\n",
       "      <th>Megnevezés</th>\n",
       "      <th>Méret</th>\n",
       "      <th>Csatlakozás</th>\n",
       "      <th>Technológia</th>\n",
       "      <th>Tároló kapacitás</th>\n",
       "      <th>SSD max írás</th>\n",
       "      <th>SSD max olvasás</th>\n",
       "      <th>TBW</th>\n",
       "      <th>Világítás</th>\n",
       "      <th>Hűtőborda</th>\n",
       "      <th>Ár (FT)</th>\n",
       "      <th>Méretek</th>\n",
       "      <th>PCI-e 4.0 SSD</th>\n",
       "    </tr>\n",
       "  </thead>\n",
       "  <tbody>\n",
       "    <tr>\n",
       "      <th>0</th>\n",
       "      <td>KINGSTON 240GB A400 SATA 3 2.5\" SA400S37/240G</td>\n",
       "      <td>2.5\"</td>\n",
       "      <td>SATA 3</td>\n",
       "      <td>TLC</td>\n",
       "      <td>240 GB</td>\n",
       "      <td>350 MB/s</td>\n",
       "      <td>500 MB/s</td>\n",
       "      <td>80 TB</td>\n",
       "      <td>Nem</td>\n",
       "      <td>Nem</td>\n",
       "      <td>11890</td>\n",
       "      <td>NaN</td>\n",
       "      <td>NaN</td>\n",
       "    </tr>\n",
       "    <tr>\n",
       "      <th>1</th>\n",
       "      <td>KINGSTON 500GB A2000 M.2 PCIe M.2 2280 SA2000M...</td>\n",
       "      <td>M.2 2280</td>\n",
       "      <td>M.2 PCIe</td>\n",
       "      <td>TLC</td>\n",
       "      <td>500 GB</td>\n",
       "      <td>2000 MB/s</td>\n",
       "      <td>2200 MB/s</td>\n",
       "      <td>300 TB</td>\n",
       "      <td>Nem</td>\n",
       "      <td>Nem</td>\n",
       "      <td>22189</td>\n",
       "      <td>80 x 22 x 3.5 mm</td>\n",
       "      <td>NaN</td>\n",
       "    </tr>\n",
       "    <tr>\n",
       "      <th>2</th>\n",
       "      <td>KINGSTON 480GB A400 SATA 3 2.5\" SA400S37/480G</td>\n",
       "      <td>2.5\"</td>\n",
       "      <td>SATA 3</td>\n",
       "      <td>TLC</td>\n",
       "      <td>480 GB</td>\n",
       "      <td>450 MB/s</td>\n",
       "      <td>500 MB/s</td>\n",
       "      <td>160 TB</td>\n",
       "      <td>Nem</td>\n",
       "      <td>Nem</td>\n",
       "      <td>18090</td>\n",
       "      <td>NaN</td>\n",
       "      <td>NaN</td>\n",
       "    </tr>\n",
       "    <tr>\n",
       "      <th>3</th>\n",
       "      <td>KINGSTON 250GB A2000 M.2 PCIe M.2 2280 SA2000M...</td>\n",
       "      <td>M.2 2280</td>\n",
       "      <td>M.2 PCIe</td>\n",
       "      <td>TLC</td>\n",
       "      <td>250 GB</td>\n",
       "      <td>1100 MB/s</td>\n",
       "      <td>2000 MB/s</td>\n",
       "      <td>150 TB</td>\n",
       "      <td>Nem</td>\n",
       "      <td>Nem</td>\n",
       "      <td>14489</td>\n",
       "      <td>80 x 22 x 3.5 mm</td>\n",
       "      <td>NaN</td>\n",
       "    </tr>\n",
       "    <tr>\n",
       "      <th>4</th>\n",
       "      <td>KINGSTON 1TB A2000 M.2 PCIe M.2 2280 SA2000M8/...</td>\n",
       "      <td>M.2 2280</td>\n",
       "      <td>M.2 PCIe</td>\n",
       "      <td>TLC</td>\n",
       "      <td>1000 GB</td>\n",
       "      <td>2000 MB/s</td>\n",
       "      <td>2200 MB/s</td>\n",
       "      <td>600 TB</td>\n",
       "      <td>Nem</td>\n",
       "      <td>Nem</td>\n",
       "      <td>39590</td>\n",
       "      <td>80 x 22 x 3.5 mm</td>\n",
       "      <td>NaN</td>\n",
       "    </tr>\n",
       "    <tr>\n",
       "      <th>...</th>\n",
       "      <td>...</td>\n",
       "      <td>...</td>\n",
       "      <td>...</td>\n",
       "      <td>...</td>\n",
       "      <td>...</td>\n",
       "      <td>...</td>\n",
       "      <td>...</td>\n",
       "      <td>...</td>\n",
       "      <td>...</td>\n",
       "      <td>...</td>\n",
       "      <td>...</td>\n",
       "      <td>...</td>\n",
       "      <td>...</td>\n",
       "    </tr>\n",
       "    <tr>\n",
       "      <th>724</th>\n",
       "      <td>WD 500GB Black SN850 M.2 PCIe M.2 2280 WDBAPY5...</td>\n",
       "      <td>M.2 2280</td>\n",
       "      <td>M.2 PCIe</td>\n",
       "      <td>TLC</td>\n",
       "      <td>500 GB</td>\n",
       "      <td>4100 MB/s</td>\n",
       "      <td>7000 MB/s</td>\n",
       "      <td>300 TB</td>\n",
       "      <td>Nem</td>\n",
       "      <td>Nem</td>\n",
       "      <td>76290</td>\n",
       "      <td>80 x 22 x 2.38 mm</td>\n",
       "      <td>Igen</td>\n",
       "    </tr>\n",
       "    <tr>\n",
       "      <th>725</th>\n",
       "      <td>WD 500GB Blue SN550 NVMe M.2 PCIe M.2 2280 WDB...</td>\n",
       "      <td>M.2 2280</td>\n",
       "      <td>M.2 PCIe</td>\n",
       "      <td>TLC</td>\n",
       "      <td>500 GB</td>\n",
       "      <td>1750 MB/s</td>\n",
       "      <td>2400 MB/s</td>\n",
       "      <td>300 TB</td>\n",
       "      <td>Nem</td>\n",
       "      <td>Nem</td>\n",
       "      <td>64690</td>\n",
       "      <td>80 x 22 x 2.38 mm</td>\n",
       "      <td>NaN</td>\n",
       "    </tr>\n",
       "    <tr>\n",
       "      <th>726</th>\n",
       "      <td>ZADAK 128GB TWSS3 SATA 3 2.5\" ZS128GTWSS3-1</td>\n",
       "      <td>2.5\"</td>\n",
       "      <td>SATA 3</td>\n",
       "      <td>TLC</td>\n",
       "      <td>128 GB</td>\n",
       "      <td>540 MB/s</td>\n",
       "      <td>560 MB/s</td>\n",
       "      <td>0 TB</td>\n",
       "      <td>Nem</td>\n",
       "      <td>Nem</td>\n",
       "      <td>10690</td>\n",
       "      <td>100 x 69.9 x 7 mm</td>\n",
       "      <td>Nem</td>\n",
       "    </tr>\n",
       "    <tr>\n",
       "      <th>727</th>\n",
       "      <td>ZADAK 256GB TWSS3 SATA 3 2.5\" ZS256GTWSS3-1</td>\n",
       "      <td>2.5\"</td>\n",
       "      <td>SATA 3</td>\n",
       "      <td>TLC</td>\n",
       "      <td>256 GB</td>\n",
       "      <td>540 MB/s</td>\n",
       "      <td>560 MB/s</td>\n",
       "      <td>0 TB</td>\n",
       "      <td>Nem</td>\n",
       "      <td>Nem</td>\n",
       "      <td>14089</td>\n",
       "      <td>100 x 69.9 x 7 mm</td>\n",
       "      <td>Nem</td>\n",
       "    </tr>\n",
       "    <tr>\n",
       "      <th>728</th>\n",
       "      <td>ZADAK 512GB TWSS3 SATA 3 2.5\" ZS512GTWSS3-1</td>\n",
       "      <td>2.5\"</td>\n",
       "      <td>SATA 3</td>\n",
       "      <td>TLC</td>\n",
       "      <td>512 GB</td>\n",
       "      <td>540 MB/s</td>\n",
       "      <td>560 MB/s</td>\n",
       "      <td>0 TB</td>\n",
       "      <td>Nem</td>\n",
       "      <td>Nem</td>\n",
       "      <td>24790</td>\n",
       "      <td>100 x 69.9 x 7 mm</td>\n",
       "      <td>Nem</td>\n",
       "    </tr>\n",
       "  </tbody>\n",
       "</table>\n",
       "<p>729 rows × 13 columns</p>\n",
       "</div>"
      ],
      "text/plain": [
       "                                            Megnevezés     Méret Csatlakozás  \\\n",
       "0        KINGSTON 240GB A400 SATA 3 2.5\" SA400S37/240G      2.5\"      SATA 3   \n",
       "1    KINGSTON 500GB A2000 M.2 PCIe M.2 2280 SA2000M...  M.2 2280    M.2 PCIe   \n",
       "2        KINGSTON 480GB A400 SATA 3 2.5\" SA400S37/480G      2.5\"      SATA 3   \n",
       "3    KINGSTON 250GB A2000 M.2 PCIe M.2 2280 SA2000M...  M.2 2280    M.2 PCIe   \n",
       "4    KINGSTON 1TB A2000 M.2 PCIe M.2 2280 SA2000M8/...  M.2 2280    M.2 PCIe   \n",
       "..                                                 ...       ...         ...   \n",
       "724  WD 500GB Black SN850 M.2 PCIe M.2 2280 WDBAPY5...  M.2 2280    M.2 PCIe   \n",
       "725  WD 500GB Blue SN550 NVMe M.2 PCIe M.2 2280 WDB...  M.2 2280    M.2 PCIe   \n",
       "726        ZADAK 128GB TWSS3 SATA 3 2.5\" ZS128GTWSS3-1      2.5\"      SATA 3   \n",
       "727        ZADAK 256GB TWSS3 SATA 3 2.5\" ZS256GTWSS3-1      2.5\"      SATA 3   \n",
       "728        ZADAK 512GB TWSS3 SATA 3 2.5\" ZS512GTWSS3-1      2.5\"      SATA 3   \n",
       "\n",
       "    Technológia Tároló kapacitás SSD max írás SSD max olvasás     TBW  \\\n",
       "0           TLC           240 GB     350 MB/s        500 MB/s   80 TB   \n",
       "1           TLC           500 GB    2000 MB/s       2200 MB/s  300 TB   \n",
       "2           TLC           480 GB     450 MB/s        500 MB/s  160 TB   \n",
       "3           TLC           250 GB    1100 MB/s       2000 MB/s  150 TB   \n",
       "4           TLC          1000 GB    2000 MB/s       2200 MB/s  600 TB   \n",
       "..          ...              ...          ...             ...     ...   \n",
       "724         TLC           500 GB    4100 MB/s       7000 MB/s  300 TB   \n",
       "725         TLC           500 GB    1750 MB/s       2400 MB/s  300 TB   \n",
       "726         TLC           128 GB     540 MB/s        560 MB/s    0 TB   \n",
       "727         TLC           256 GB     540 MB/s        560 MB/s    0 TB   \n",
       "728         TLC           512 GB     540 MB/s        560 MB/s    0 TB   \n",
       "\n",
       "    Világítás Hűtőborda  Ár (FT)            Méretek PCI-e 4.0 SSD  \n",
       "0         Nem       Nem    11890                NaN           NaN  \n",
       "1         Nem       Nem    22189   80 x 22 x 3.5 mm           NaN  \n",
       "2         Nem       Nem    18090                NaN           NaN  \n",
       "3         Nem       Nem    14489   80 x 22 x 3.5 mm           NaN  \n",
       "4         Nem       Nem    39590   80 x 22 x 3.5 mm           NaN  \n",
       "..        ...       ...      ...                ...           ...  \n",
       "724       Nem       Nem    76290  80 x 22 x 2.38 mm          Igen  \n",
       "725       Nem       Nem    64690  80 x 22 x 2.38 mm           NaN  \n",
       "726       Nem       Nem    10690  100 x 69.9 x 7 mm           Nem  \n",
       "727       Nem       Nem    14089  100 x 69.9 x 7 mm           Nem  \n",
       "728       Nem       Nem    24790  100 x 69.9 x 7 mm           Nem  \n",
       "\n",
       "[729 rows x 13 columns]"
      ]
     },
     "execution_count": 3,
     "metadata": {},
     "output_type": "execute_result"
    }
   ],
   "source": [
    "df"
   ]
  },
  {
   "cell_type": "markdown",
   "metadata": {},
   "source": [
    "Mielőtt elkezdenénk bármit is, érdemes értelmezni a különböző adatokat.\n",
    "\n",
    "A *Megnevezés*  mező tartalmazza az SSD nevét.\n",
    "\n",
    "A *Méret* azt, hogy milyen tipusú méret csoportba tartozik.\n",
    "\n",
    "A *Csatlakozás* azt mondja el, hogy milyen szabványt használ a meghajtó.\n",
    "\n",
    "A *Tároló kapacítás* az SSD tárhelyét mutatja meg.\n",
    "\n",
    "Az *SSD max írás* tartalmazza, hogy maximum mekkora sebességgel lehetet adatot írni.\n",
    "\n",
    "Az *SSD max olvasás* tartalmazza, hogy maximum mekkora sebességgel lehetet adatot olvasni.\n",
    "\n",
    "A *TBW* a gyártó által megadott maximum írási mennyiség amennyit az SSD elbír.\n",
    "\n",
    "A *Világítás* azt jelenti rendelkezik-e a termék világítással.\n",
    "\n",
    "A *Hűtőborda* azt jelenti rendelkezik-e a termék hűtőbordával.\n",
    "\n",
    "Az *Ár (FT)* a termék ára.\n",
    "\n",
    "A *Méretek* mutatják meg, hogy a meghajtó milyen fizikai paraméterekkel rendelkezik.\n",
    "\n",
    "A *PCI-e 4.0 SSD* azt mondja meg, hogy a termék rendelkezik-e ezzel a technológiával."
   ]
  },
  {
   "cell_type": "code",
   "execution_count": 4,
   "metadata": {},
   "outputs": [
    {
     "name": "stdout",
     "output_type": "stream",
     "text": [
      "<class 'pandas.core.frame.DataFrame'>\n",
      "RangeIndex: 729 entries, 0 to 728\n",
      "Data columns (total 13 columns):\n",
      " #   Column            Non-Null Count  Dtype \n",
      "---  ------            --------------  ----- \n",
      " 0   Megnevezés        729 non-null    object\n",
      " 1   Méret             729 non-null    object\n",
      " 2   Csatlakozás       729 non-null    object\n",
      " 3   Technológia       726 non-null    object\n",
      " 4   Tároló kapacitás  729 non-null    object\n",
      " 5   SSD max írás      729 non-null    object\n",
      " 6   SSD max olvasás   729 non-null    object\n",
      " 7   TBW               729 non-null    object\n",
      " 8   Világítás         729 non-null    object\n",
      " 9   Hűtőborda         729 non-null    object\n",
      " 10  Ár (FT)           729 non-null    int64 \n",
      " 11  Méretek           481 non-null    object\n",
      " 12  PCI-e 4.0 SSD     70 non-null     object\n",
      "dtypes: int64(1), object(12)\n",
      "memory usage: 74.2+ KB\n"
     ]
    }
   ],
   "source": [
    "df.info()"
   ]
  },
  {
   "cell_type": "markdown",
   "metadata": {},
   "source": [
    "## Hiányzó értékek"
   ]
  },
  {
   "cell_type": "markdown",
   "metadata": {},
   "source": [
    "Hiányzó értékek az adathalmazban"
   ]
  },
  {
   "cell_type": "code",
   "execution_count": 5,
   "metadata": {
    "scrolled": true
   },
   "outputs": [
    {
     "data": {
      "text/plain": [
       "Megnevezés            0\n",
       "Méret                 0\n",
       "Csatlakozás           0\n",
       "Technológia           3\n",
       "Tároló kapacitás      0\n",
       "SSD max írás          0\n",
       "SSD max olvasás       0\n",
       "TBW                   0\n",
       "Világítás             0\n",
       "Hűtőborda             0\n",
       "Ár (FT)               0\n",
       "Méretek             248\n",
       "PCI-e 4.0 SSD       659\n",
       "dtype: int64"
      ]
     },
     "execution_count": 5,
     "metadata": {},
     "output_type": "execute_result"
    }
   ],
   "source": [
    "df.isnull().sum()"
   ]
  },
  {
   "cell_type": "markdown",
   "metadata": {},
   "source": [
    "Százalékos arányban:"
   ]
  },
  {
   "cell_type": "code",
   "execution_count": 6,
   "metadata": {},
   "outputs": [
    {
     "name": "stdout",
     "output_type": "stream",
     "text": [
      "0.41 %\n"
     ]
    }
   ],
   "source": [
    "percent = ((df['Technológia'].isnull().sum() / df.shape[0]) * 100).round(2)\n",
    "print(percent, '%')"
   ]
  },
  {
   "cell_type": "markdown",
   "metadata": {},
   "source": [
    "A *Technológia* mező elhanyagolhatóan kevés hiányzóértéket tartalmaz."
   ]
  },
  {
   "cell_type": "code",
   "execution_count": 7,
   "metadata": {},
   "outputs": [
    {
     "name": "stdout",
     "output_type": "stream",
     "text": [
      "34.02 %\n"
     ]
    }
   ],
   "source": [
    "percent = ((df['Méretek'].isnull().sum() / df.shape[0]) * 100).round(2)\n",
    "print(percent, '%')"
   ]
  },
  {
   "cell_type": "markdown",
   "metadata": {},
   "source": [
    "A *Méretek* jelentős hiányzó értéket tartalmaz."
   ]
  },
  {
   "cell_type": "code",
   "execution_count": 8,
   "metadata": {},
   "outputs": [
    {
     "name": "stdout",
     "output_type": "stream",
     "text": [
      "90.4 %\n"
     ]
    }
   ],
   "source": [
    "percent = ((df['PCI-e 4.0 SSD'].isnull().sum() / df.shape[0]) * 100).round(2)\n",
    "print(percent, '%')"
   ]
  },
  {
   "cell_type": "markdown",
   "metadata": {},
   "source": [
    "A *PCI-e 4.0 SSD* mezőnek rengetek értéke hiányzik."
   ]
  },
  {
   "cell_type": "markdown",
   "metadata": {},
   "source": [
    "Ezeket a hiányzó értékeket nem lehet benne hagyni az adathalmazban. Különböző módszerek vannak a hiányzó értékek kezelésére, jelenesetben egyszerűen kidobjuk őket."
   ]
  },
  {
   "cell_type": "code",
   "execution_count": 9,
   "metadata": {},
   "outputs": [],
   "source": [
    "df_droped = df.drop(['Méretek', 'PCI-e 4.0 SSD'], axis=1) # oszlopokat/mezőket dobjuk ki\n",
    "df_droped.dropna(inplace=True, axis=0) # sorok/rekordokat dobjuk ki\n",
    "df_droped.reset_index(drop=True, inplace=True) # index beállítása"
   ]
  },
  {
   "cell_type": "code",
   "execution_count": 10,
   "metadata": {},
   "outputs": [
    {
     "data": {
      "text/plain": [
       "Megnevezés          0\n",
       "Méret               0\n",
       "Csatlakozás         0\n",
       "Technológia         0\n",
       "Tároló kapacitás    0\n",
       "SSD max írás        0\n",
       "SSD max olvasás     0\n",
       "TBW                 0\n",
       "Világítás           0\n",
       "Hűtőborda           0\n",
       "Ár (FT)             0\n",
       "dtype: int64"
      ]
     },
     "execution_count": 10,
     "metadata": {},
     "output_type": "execute_result"
    }
   ],
   "source": [
    "df_droped.isnull().sum()"
   ]
  },
  {
   "cell_type": "markdown",
   "metadata": {},
   "source": [
    "Az adathalmaz már nem tartalmaz *NaN* értékeket."
   ]
  },
  {
   "cell_type": "code",
   "execution_count": 11,
   "metadata": {},
   "outputs": [
    {
     "data": {
      "text/plain": [
       "(726, 11)"
      ]
     },
     "execution_count": 11,
     "metadata": {},
     "output_type": "execute_result"
    }
   ],
   "source": [
    "df_droped.shape"
   ]
  },
  {
   "cell_type": "markdown",
   "metadata": {},
   "source": [
    "## Redundáns adatok"
   ]
  },
  {
   "cell_type": "code",
   "execution_count": 12,
   "metadata": {},
   "outputs": [
    {
     "data": {
      "text/plain": [
       "0"
      ]
     },
     "execution_count": 12,
     "metadata": {},
     "output_type": "execute_result"
    }
   ],
   "source": [
    "len(df[df.duplicated() == True])"
   ]
  },
  {
   "cell_type": "markdown",
   "metadata": {},
   "source": [
    "Az adathalmaz nem tartalmaz ismétlődő sorokat."
   ]
  },
  {
   "cell_type": "markdown",
   "metadata": {},
   "source": [
    "## Refaktorálás"
   ]
  },
  {
   "cell_type": "markdown",
   "metadata": {},
   "source": [
    "A mezők különböző értékei."
   ]
  },
  {
   "cell_type": "code",
   "execution_count": 13,
   "metadata": {},
   "outputs": [
    {
     "name": "stdout",
     "output_type": "stream",
     "text": [
      "Méret\n",
      "['2.5\"' 'M.2 2280' 'mSATA' 'M.2 2242' 'HHHL/PCI Express' 'M.2 2230'\n",
      " 'M.2 2260' 'Half Slim']\n",
      "\n",
      "Csatlakozás\n",
      "['SATA 3' 'M.2 PCIe' 'mSATA' 'M.2 SATA' 'PATA/IDE' 'PCI Express' 'SATA 2']\n",
      "\n",
      "Technológia\n",
      "['TLC' 'MLC' 'Optane' 'QLC']\n",
      "\n",
      "Tároló kapacitás\n",
      "['240 GB' '500 GB' '480 GB' '250 GB' '1000 GB' '256 GB' '32 GB' '120 GB'\n",
      " '960 GB' '512 GB' '2000 GB' '128 GB' '4000 GB' '64 GB' '8000 GB'\n",
      " '1920 GB' '3840 GB' '60 GB' '16 GB']\n",
      "\n",
      "SSD max írás\n",
      "['350 MB/s' '2000 MB/s' '450 MB/s' '1100 MB/s' '3200 MB/s' '2700 MB/s'\n",
      " '650 MB/s' '40 MB/s' '530 MB/s' '500 MB/s' '520 MB/s' '320 MB/s'\n",
      " '2300 MB/s' '3300 MB/s' '510 MB/s' '465 MB/s' '380 MB/s' '3000 MB/s'\n",
      " '298 MB/s' '5000 MB/s' '1000 MB/s' '950 MB/s' '420 MB/s' '1700 MB/s'\n",
      " '2600 MB/s' '430 MB/s' '1925 MB/s' '455 MB/s' '1550 MB/s' '1800 MB/s'\n",
      " '460 MB/s' '490 MB/s' '2100 MB/s' '1950 MB/s' '4250 MB/s' '515 MB/s'\n",
      " '1600 MB/s' '375 MB/s' '2400 MB/s' '540 MB/s' '1750 MB/s' '1200 MB/s'\n",
      " '400 MB/s' '1900 MB/s' '480 MB/s' '300 MB/s' '1500 MB/s' '470 MB/s'\n",
      " '410 MB/s' '550 MB/s' '440 MB/s' '4400 MB/s' '2500 MB/s' '2200 MB/s'\n",
      " '425 MB/s' '1050 MB/s' '1150 MB/s' '940 MB/s' '445 MB/s' '67 MB/s'\n",
      " '200 MB/s' '4100 MB/s' '1400 MB/s' '5300 MB/s' '900 MB/s' '880 MB/s'\n",
      " '1880 MB/s' '2900 MB/s' '1300 MB/s' '600 MB/s' '3080 MB/s' '800 MB/s'\n",
      " '310 MB/s' '5100 MB/s' '6400 MB/s' '495 MB/s' '5500 MB/s' '1625 MB/s'\n",
      " '475 MB/s' '360 MB/s' '3100 MB/s' '850 MB/s' '485 MB/s' '205 MB/s'\n",
      " '1650 MB/s' '525 MB/s' '3700 MB/s' '6550 MB/s' '3950 MB/s' '0 MB/s'\n",
      " '523 MB/s' '2250 MB/s' '1250 MB/s' '505 MB/s' '1670 MB/s' '501 MB/s'\n",
      " '275 MB/s' '274 MB/s' '6489 MB/s' '4300 MB/s' '3050 MB/s' '345 MB/s'\n",
      " '290 MB/s' '535 MB/s' '180 MB/s' '370 MB/s' '150 MB/s' '160 MB/s'\n",
      " '170 MB/s' '80 MB/s']\n",
      "\n",
      "SSD max olvasás\n",
      "['500 MB/s' '2200 MB/s' '2000 MB/s' '3500 MB/s' '1450 MB/s' '260 MB/s'\n",
      " '560 MB/s' '540 MB/s' '550 MB/s' '3400 MB/s' '310 MB/s' '6900 MB/s'\n",
      " '1500 MB/s' '520 MB/s' '1700 MB/s' '1900 MB/s' '7000 MB/s' '3470 MB/s'\n",
      " '1800 MB/s' '2400 MB/s' '2500 MB/s' '4950 MB/s' '555 MB/s' '450 MB/s'\n",
      " '3200 MB/s' '3100 MB/s' '545 MB/s' '6400 MB/s' '3840 MB/s' '3000 MB/s'\n",
      " '530 MB/s' '505 MB/s' '1550 MB/s' '2100 MB/s' '5000 MB/s' '3300 MB/s'\n",
      " '1950 MB/s' '3900 MB/s' '2300 MB/s' '535 MB/s' '120 MB/s' '390 MB/s'\n",
      " '525 MB/s' '1580 MB/s' '3480 MB/s' '2900 MB/s' '1600 MB/s' '2600 MB/s'\n",
      " '480 MB/s' '2650 MB/s' '1200 MB/s' '119 MB/s' '7400 MB/s' '3230 MB/s'\n",
      " '460 MB/s' '950 MB/s' '3450 MB/s' '2700 MB/s' '440 MB/s' '1850 MB/s'\n",
      " '4700 MB/s' '0 MB/s' '2050 MB/s' '561 MB/s' '515 MB/s' '510 MB/s'\n",
      " '1215 MB/s' '2110 MB/s' '2010 MB/s' '2105 MB/s' '2750 MB/s' '503 MB/s'\n",
      " '285 MB/s' '6948 MB/s' '5600 MB/s' '3150 MB/s' '2450 MB/s' '3800 MB/s'\n",
      " '570 MB/s']\n",
      "\n",
      "TBW\n",
      "['80 TB' '300 TB' '160 TB' '150 TB' '600 TB' '1200 TB' '75 TB' '45 TB'\n",
      " '0 TB' '40 TB' '200 TB' '180 TB' '100 TB' '360 TB' '400 TB' '320 TB'\n",
      " '640 TB' '800 TB' '1600 TB' '1800 TB' '295 TB' '720 TB' '60 TB' '1280 TB'\n",
      " '380 TB' '1665 TB' '2200 TB' '350 TB' '140 TB' '50 TB' '2400 TB' '120 TB'\n",
      " '70 TB' '280 TB' '110 TB' '30 TB' '181 TB' '480 TB' '700 TB' '850 TB'\n",
      " '4400 TB' '86 TB' '740 TB' '1440 TB' '65 TB' '500 TB' '3115 TB' '240 TB'\n",
      " '3600 TB' '2560 TB' '2880 TB' '125 TB' '875 TB' '3120 TB' '900 TB'\n",
      " '1750 TB' '250 TB' '1300 TB' '1480 TB' '262 TB' '576 TB' '7000 TB'\n",
      " '288 TB' '1000 TB' '119 TB' '530 TB' '1660 TB' '1120 TB' '960 TB'\n",
      " '210 TB' '560 TB' '835 TB' '2065 TB' '425 TB' '820 TB' '225 TB' '450 TB'\n",
      " '1400 TB' '650 TB' '64 TB' '2500 TB' '84 TB' '128 TB' '168 TB' '256 TB'\n",
      " '4800 TB' '3500 TB' '274 TB' '435 TB' '375 TB' '2800 TB' '2600 TB'\n",
      " '531 TB' '5600 TB' '260 TB' '1700 TB' '550 TB' '90 TB']\n",
      "\n",
      "Világítás\n",
      "['Nem' 'Igen']\n",
      "\n",
      "Hűtőborda\n",
      "['Nem' 'Igen']\n",
      "\n"
     ]
    }
   ],
   "source": [
    "for col in df_droped.columns:\n",
    "    if col != 'Megnevezés' and col != 'Ár (FT)':\n",
    "        print(col)\n",
    "        print(df_droped[col].unique())\n",
    "        print()"
   ]
  },
  {
   "cell_type": "markdown",
   "metadata": {},
   "source": [
    "Láthatóan nincsenenk inkonzisztens adataink, azonban több helyen is numerikus adatokkal szeretnénk számolni a továbbiakban, ezért ezeknek a mezőknek az értékeit formázni kell."
   ]
  },
  {
   "cell_type": "code",
   "execution_count": 14,
   "metadata": {},
   "outputs": [],
   "source": [
    "for i in range(df_droped.shape[0]):\n",
    "    df_droped.loc[i, 'Tároló kapacitás'] = df_droped.loc[i, 'Tároló kapacitás'].replace(' GB', '')\n",
    "    df_droped.loc[i, 'SSD max írás'] = df_droped.loc[i, 'SSD max írás'].replace(' MB/s', '')\n",
    "    df_droped.loc[i, 'SSD max olvasás'] = df_droped.loc[i, 'SSD max olvasás'].replace(' MB/s', '')\n",
    "    df_droped.loc[i, 'TBW'] = df_droped.loc[i, 'TBW'].replace(' TB', '')\n",
    "\n",
    "df_droped.rename(columns={'Tároló kapacitás': 'Tároló kapacitás (GB)'}, inplace=True)\n",
    "df_droped.rename(columns={'SSD max írás': 'SSD max írás (MB/s)'}, inplace=True)\n",
    "df_droped.rename(columns={'SSD max olvasás': 'SSD max olvasás (MB/s)'}, inplace=True)\n",
    "df_droped.rename(columns={'TBW': 'TBW (TB)'}, inplace=True)"
   ]
  },
  {
   "cell_type": "code",
   "execution_count": 15,
   "metadata": {},
   "outputs": [
    {
     "name": "stdout",
     "output_type": "stream",
     "text": [
      "Méret\n",
      "['2.5\"' 'M.2 2280' 'mSATA' 'M.2 2242' 'HHHL/PCI Express' 'M.2 2230'\n",
      " 'M.2 2260' 'Half Slim']\n",
      "\n",
      "Csatlakozás\n",
      "['SATA 3' 'M.2 PCIe' 'mSATA' 'M.2 SATA' 'PATA/IDE' 'PCI Express' 'SATA 2']\n",
      "\n",
      "Technológia\n",
      "['TLC' 'MLC' 'Optane' 'QLC']\n",
      "\n",
      "Tároló kapacitás (GB)\n",
      "['240' '500' '480' '250' '1000' '256' '32' '120' '960' '512' '2000' '128'\n",
      " '4000' '64' '8000' '1920' '3840' '60' '16']\n",
      "\n",
      "SSD max írás (MB/s)\n",
      "['350' '2000' '450' '1100' '3200' '2700' '650' '40' '530' '500' '520'\n",
      " '320' '2300' '3300' '510' '465' '380' '3000' '298' '5000' '1000' '950'\n",
      " '420' '1700' '2600' '430' '1925' '455' '1550' '1800' '460' '490' '2100'\n",
      " '1950' '4250' '515' '1600' '375' '2400' '540' '1750' '1200' '400' '1900'\n",
      " '480' '300' '1500' '470' '410' '550' '440' '4400' '2500' '2200' '425'\n",
      " '1050' '1150' '940' '445' '67' '200' '4100' '1400' '5300' '900' '880'\n",
      " '1880' '2900' '1300' '600' '3080' '800' '310' '5100' '6400' '495' '5500'\n",
      " '1625' '475' '360' '3100' '850' '485' '205' '1650' '525' '3700' '6550'\n",
      " '3950' '0' '523' '2250' '1250' '505' '1670' '501' '275' '274' '6489'\n",
      " '4300' '3050' '345' '290' '535' '180' '370' '150' '160' '170' '80']\n",
      "\n",
      "SSD max olvasás (MB/s)\n",
      "['500' '2200' '2000' '3500' '1450' '260' '560' '540' '550' '3400' '310'\n",
      " '6900' '1500' '520' '1700' '1900' '7000' '3470' '1800' '2400' '2500'\n",
      " '4950' '555' '450' '3200' '3100' '545' '6400' '3840' '3000' '530' '505'\n",
      " '1550' '2100' '5000' '3300' '1950' '3900' '2300' '535' '120' '390' '525'\n",
      " '1580' '3480' '2900' '1600' '2600' '480' '2650' '1200' '119' '7400'\n",
      " '3230' '460' '950' '3450' '2700' '440' '1850' '4700' '0' '2050' '561'\n",
      " '515' '510' '1215' '2110' '2010' '2105' '2750' '503' '285' '6948' '5600'\n",
      " '3150' '2450' '3800' '570']\n",
      "\n",
      "TBW (TB)\n",
      "['80' '300' '160' '150' '600' '1200' '75' '45' '0' '40' '200' '180' '100'\n",
      " '360' '400' '320' '640' '800' '1600' '1800' '295' '720' '60' '1280' '380'\n",
      " '1665' '2200' '350' '140' '50' '2400' '120' '70' '280' '110' '30' '181'\n",
      " '480' '700' '850' '4400' '86' '740' '1440' '65' '500' '3115' '240' '3600'\n",
      " '2560' '2880' '125' '875' '3120' '900' '1750' '250' '1300' '1480' '262'\n",
      " '576' '7000' '288' '1000' '119' '530' '1660' '1120' '960' '210' '560'\n",
      " '835' '2065' '425' '820' '225' '450' '1400' '650' '64' '2500' '84' '128'\n",
      " '168' '256' '4800' '3500' '274' '435' '375' '2800' '2600' '531' '5600'\n",
      " '260' '1700' '550' '90']\n",
      "\n",
      "Világítás\n",
      "['Nem' 'Igen']\n",
      "\n",
      "Hűtőborda\n",
      "['Nem' 'Igen']\n",
      "\n"
     ]
    }
   ],
   "source": [
    "for col in df_droped.columns:\n",
    "    if col != 'Megnevezés' and col != 'Ár (FT)':\n",
    "        print(col)\n",
    "        print(df_droped[col].unique())\n",
    "        print()"
   ]
  },
  {
   "cell_type": "markdown",
   "metadata": {},
   "source": [
    "Végül az adatokat numerikus típussá alakítjuk."
   ]
  },
  {
   "cell_type": "code",
   "execution_count": 16,
   "metadata": {},
   "outputs": [],
   "source": [
    "num_cols = ['Tároló kapacitás (GB)', 'SSD max írás (MB/s)', 'SSD max olvasás (MB/s)', 'TBW (TB)']\n",
    "\n",
    "for col in num_cols:\n",
    "    df_droped[col] = pd.to_numeric(df_droped[col])"
   ]
  },
  {
   "cell_type": "code",
   "execution_count": 17,
   "metadata": {},
   "outputs": [
    {
     "name": "stdout",
     "output_type": "stream",
     "text": [
      "<class 'pandas.core.frame.DataFrame'>\n",
      "RangeIndex: 726 entries, 0 to 725\n",
      "Data columns (total 11 columns):\n",
      " #   Column                  Non-Null Count  Dtype \n",
      "---  ------                  --------------  ----- \n",
      " 0   Megnevezés              726 non-null    object\n",
      " 1   Méret                   726 non-null    object\n",
      " 2   Csatlakozás             726 non-null    object\n",
      " 3   Technológia             726 non-null    object\n",
      " 4   Tároló kapacitás (GB)   726 non-null    int64 \n",
      " 5   SSD max írás (MB/s)     726 non-null    int64 \n",
      " 6   SSD max olvasás (MB/s)  726 non-null    int64 \n",
      " 7   TBW (TB)                726 non-null    int64 \n",
      " 8   Világítás               726 non-null    object\n",
      " 9   Hűtőborda               726 non-null    object\n",
      " 10  Ár (FT)                 726 non-null    int64 \n",
      "dtypes: int64(5), object(6)\n",
      "memory usage: 62.5+ KB\n"
     ]
    }
   ],
   "source": [
    "df_droped.info()"
   ]
  },
  {
   "cell_type": "markdown",
   "metadata": {},
   "source": [
    "A formázás után könnyebben észrevehető, hogy vannak olyan értékek különböző mezőkben, amik bár nem minősülnek hiányzó adatnak, de nincsenek mérve, nincs értékük. Az *SSD max írás (MB/s)*, *SSD max olvasás (MB/s)* és a *TBW (TB)* mezők tartalmaznak 0 értékeket.\n",
    "\n",
    "Lássuk mennyi értéket tesznek ki az egész adathalmazból."
   ]
  },
  {
   "cell_type": "code",
   "execution_count": 18,
   "metadata": {},
   "outputs": [
    {
     "data": {
      "text/plain": [
       "6"
      ]
     },
     "execution_count": 18,
     "metadata": {},
     "output_type": "execute_result"
    }
   ],
   "source": [
    "len(df_droped[df_droped['SSD max írás (MB/s)'] == 0])"
   ]
  },
  {
   "cell_type": "code",
   "execution_count": 19,
   "metadata": {},
   "outputs": [
    {
     "data": {
      "text/plain": [
       "4"
      ]
     },
     "execution_count": 19,
     "metadata": {},
     "output_type": "execute_result"
    }
   ],
   "source": [
    "len(df_droped[df_droped['SSD max olvasás (MB/s)'] == 0])"
   ]
  },
  {
   "cell_type": "code",
   "execution_count": 20,
   "metadata": {},
   "outputs": [
    {
     "data": {
      "text/plain": [
       "224"
      ]
     },
     "execution_count": 20,
     "metadata": {},
     "output_type": "execute_result"
    }
   ],
   "source": [
    "len(df_droped[df_droped['TBW (TB)'] == 0])"
   ]
  },
  {
   "cell_type": "code",
   "execution_count": 21,
   "metadata": {},
   "outputs": [
    {
     "data": {
      "text/plain": [
       "226"
      ]
     },
     "execution_count": 21,
     "metadata": {},
     "output_type": "execute_result"
    }
   ],
   "source": [
    "len(df_droped[(df_droped['SSD max írás (MB/s)'] == 0) | (df_droped['SSD max olvasás (MB/s)'] == 0) | (df_droped['TBW (TB)'] == 0)])"
   ]
  },
  {
   "cell_type": "markdown",
   "metadata": {},
   "source": [
    "A *TBW (TB)* mezőnek számos értéke 0, illetve a többi mezőben is fordulnak elő ilyen értékek. Ezek az értékek ilyen formában rontanak a modell teljesitményén, kezelni kell őket. Jelenesetben kidobjuk ezeket."
   ]
  },
  {
   "cell_type": "code",
   "execution_count": 22,
   "metadata": {},
   "outputs": [],
   "source": [
    "indexes = df_droped[(df_droped['SSD max írás (MB/s)'] == 0) | (df_droped['SSD max olvasás (MB/s)'] == 0)].index\n",
    "df_droped.drop('TBW (TB)', inplace=True, axis=1)\n",
    "df_droped = df_droped.drop(indexes)\n",
    "df_droped.reset_index(drop=True, inplace=True)"
   ]
  },
  {
   "cell_type": "code",
   "execution_count": 23,
   "metadata": {},
   "outputs": [
    {
     "data": {
      "text/plain": [
       "(720, 10)"
      ]
     },
     "execution_count": 23,
     "metadata": {},
     "output_type": "execute_result"
    }
   ],
   "source": [
    "df_droped.shape"
   ]
  },
  {
   "cell_type": "markdown",
   "metadata": {},
   "source": [
    "## Outlierek"
   ]
  },
  {
   "cell_type": "code",
   "execution_count": 24,
   "metadata": {},
   "outputs": [
    {
     "data": {
      "text/plain": [
       "<AxesSubplot:>"
      ]
     },
     "execution_count": 24,
     "metadata": {},
     "output_type": "execute_result"
    },
    {
     "data": {
      "image/png": "[encoded data removed]",
      "text/plain": [
       "<Figure size 864x576 with 1 Axes>"
      ]
     },
     "metadata": {
      "needs_background": "light"
     },
     "output_type": "display_data"
    }
   ],
   "source": [
    "plt.figure(figsize=(12, 8))\n",
    "num_cols = ['Tároló kapacitás (GB)', 'SSD max írás (MB/s)', 'SSD max olvasás (MB/s)', 'Ár (FT)']\n",
    "sns.boxplot(data=df_droped[num_cols])"
   ]
  },
  {
   "cell_type": "code",
   "execution_count": 25,
   "metadata": {},
   "outputs": [
    {
     "data": {
      "text/plain": [
       "<AxesSubplot:>"
      ]
     },
     "execution_count": 25,
     "metadata": {},
     "output_type": "execute_result"
    },
    {
     "data": {
      "image/png": "[encoded data removed]",
      "text/plain": [
       "<Figure size 864x576 with 1 Axes>"
      ]
     },
     "metadata": {
      "needs_background": "light"
     },
     "output_type": "display_data"
    }
   ],
   "source": [
    "Q1 = df_droped[num_cols].quantile(0.25)\n",
    "Q3 = df_droped[num_cols].quantile(0.75)\n",
    "IQR = Q3 - Q1\n",
    "\n",
    "df_filtered = df_droped[~((df_droped[num_cols] < (Q1 - 1.5 * IQR)) | (df_droped[num_cols] > (Q3 + 1.5 * IQR))).any(axis=1)]\n",
    "\n",
    "plt.figure(figsize=(12, 8))\n",
    "sns.boxplot(data=df_filtered[num_cols])"
   ]
  },
  {
   "cell_type": "code",
   "execution_count": 26,
   "metadata": {},
   "outputs": [
    {
     "data": {
      "text/plain": [
       "(630, 10)"
      ]
     },
     "execution_count": 26,
     "metadata": {},
     "output_type": "execute_result"
    }
   ],
   "source": [
    "df_filtered.shape"
   ]
  },
  {
   "cell_type": "markdown",
   "metadata": {},
   "source": [
    "## Összefüggések"
   ]
  },
  {
   "cell_type": "code",
   "execution_count": 27,
   "metadata": {},
   "outputs": [
    {
     "data": {
      "text/plain": [
       "<AxesSubplot:>"
      ]
     },
     "execution_count": 27,
     "metadata": {},
     "output_type": "execute_result"
    },
    {
     "data": {
      "image/png": "[encoded data removed]",
      "text/plain": [
       "<Figure size 864x576 with 2 Axes>"
      ]
     },
     "metadata": {
      "needs_background": "light"
     },
     "output_type": "display_data"
    }
   ],
   "source": [
    "plt.figure(figsize=(12, 8))\n",
    "sns.heatmap(df_filtered.corr(), annot=True, cmap=\"Blues\")"
   ]
  },
  {
   "cell_type": "markdown",
   "metadata": {},
   "source": [
    "Erős korreláció fedezhető fel több mező között is."
   ]
  },
  {
   "cell_type": "code",
   "execution_count": 28,
   "metadata": {},
   "outputs": [
    {
     "data": {
      "text/plain": [
       "<seaborn.axisgrid.PairGrid at 0x1879bdb2f70>"
      ]
     },
     "execution_count": 28,
     "metadata": {},
     "output_type": "execute_result"
    },
    {
     "data": {
      "image/png": "[encoded data removed]",
      "text/plain": [
       "<Figure size 720x720 with 20 Axes>"
      ]
     },
     "metadata": {
      "needs_background": "light"
     },
     "output_type": "display_data"
    }
   ],
   "source": [
    "sns.pairplot(data=df_filtered)"
   ]
  },
  {
   "cell_type": "markdown",
   "metadata": {},
   "source": [
    "## Kategorikus mezők \n"
   ]
  },
  {
   "cell_type": "code",
   "execution_count": 29,
   "metadata": {},
   "outputs": [
    {
     "data": {
      "text/html": [
       "<div>\n",
       "<style scoped>\n",
       "    .dataframe tbody tr th:only-of-type {\n",
       "        vertical-align: middle;\n",
       "    }\n",
       "\n",
       "    .dataframe tbody tr th {\n",
       "        vertical-align: top;\n",
       "    }\n",
       "\n",
       "    .dataframe thead th {\n",
       "        text-align: right;\n",
       "    }\n",
       "</style>\n",
       "<table border=\"1\" class=\"dataframe\">\n",
       "  <thead>\n",
       "    <tr style=\"text-align: right;\">\n",
       "      <th></th>\n",
       "      <th>Megnevezés</th>\n",
       "      <th>Méret</th>\n",
       "      <th>Csatlakozás</th>\n",
       "      <th>Technológia</th>\n",
       "      <th>Tároló kapacitás (GB)</th>\n",
       "      <th>SSD max írás (MB/s)</th>\n",
       "      <th>SSD max olvasás (MB/s)</th>\n",
       "      <th>Világítás</th>\n",
       "      <th>Hűtőborda</th>\n",
       "      <th>Ár (FT)</th>\n",
       "    </tr>\n",
       "  </thead>\n",
       "  <tbody>\n",
       "    <tr>\n",
       "      <th>0</th>\n",
       "      <td>KINGSTON 240GB A400 SATA 3 2.5\" SA400S37/240G</td>\n",
       "      <td>2.5\"</td>\n",
       "      <td>SATA 3</td>\n",
       "      <td>TLC</td>\n",
       "      <td>240</td>\n",
       "      <td>350</td>\n",
       "      <td>500</td>\n",
       "      <td>Nem</td>\n",
       "      <td>Nem</td>\n",
       "      <td>11890</td>\n",
       "    </tr>\n",
       "    <tr>\n",
       "      <th>1</th>\n",
       "      <td>KINGSTON 500GB A2000 M.2 PCIe M.2 2280 SA2000M...</td>\n",
       "      <td>M.2 2280</td>\n",
       "      <td>M.2 PCIe</td>\n",
       "      <td>TLC</td>\n",
       "      <td>500</td>\n",
       "      <td>2000</td>\n",
       "      <td>2200</td>\n",
       "      <td>Nem</td>\n",
       "      <td>Nem</td>\n",
       "      <td>22189</td>\n",
       "    </tr>\n",
       "    <tr>\n",
       "      <th>2</th>\n",
       "      <td>KINGSTON 480GB A400 SATA 3 2.5\" SA400S37/480G</td>\n",
       "      <td>2.5\"</td>\n",
       "      <td>SATA 3</td>\n",
       "      <td>TLC</td>\n",
       "      <td>480</td>\n",
       "      <td>450</td>\n",
       "      <td>500</td>\n",
       "      <td>Nem</td>\n",
       "      <td>Nem</td>\n",
       "      <td>18090</td>\n",
       "    </tr>\n",
       "    <tr>\n",
       "      <th>3</th>\n",
       "      <td>KINGSTON 250GB A2000 M.2 PCIe M.2 2280 SA2000M...</td>\n",
       "      <td>M.2 2280</td>\n",
       "      <td>M.2 PCIe</td>\n",
       "      <td>TLC</td>\n",
       "      <td>250</td>\n",
       "      <td>1100</td>\n",
       "      <td>2000</td>\n",
       "      <td>Nem</td>\n",
       "      <td>Nem</td>\n",
       "      <td>14489</td>\n",
       "    </tr>\n",
       "    <tr>\n",
       "      <th>4</th>\n",
       "      <td>KINGSTON 1TB A2000 M.2 PCIe M.2 2280 SA2000M8/...</td>\n",
       "      <td>M.2 2280</td>\n",
       "      <td>M.2 PCIe</td>\n",
       "      <td>TLC</td>\n",
       "      <td>1000</td>\n",
       "      <td>2000</td>\n",
       "      <td>2200</td>\n",
       "      <td>Nem</td>\n",
       "      <td>Nem</td>\n",
       "      <td>39590</td>\n",
       "    </tr>\n",
       "  </tbody>\n",
       "</table>\n",
       "</div>"
      ],
      "text/plain": [
       "                                          Megnevezés     Méret Csatlakozás  \\\n",
       "0      KINGSTON 240GB A400 SATA 3 2.5\" SA400S37/240G      2.5\"      SATA 3   \n",
       "1  KINGSTON 500GB A2000 M.2 PCIe M.2 2280 SA2000M...  M.2 2280    M.2 PCIe   \n",
       "2      KINGSTON 480GB A400 SATA 3 2.5\" SA400S37/480G      2.5\"      SATA 3   \n",
       "3  KINGSTON 250GB A2000 M.2 PCIe M.2 2280 SA2000M...  M.2 2280    M.2 PCIe   \n",
       "4  KINGSTON 1TB A2000 M.2 PCIe M.2 2280 SA2000M8/...  M.2 2280    M.2 PCIe   \n",
       "\n",
       "  Technológia  Tároló kapacitás (GB)  SSD max írás (MB/s)  \\\n",
       "0         TLC                    240                  350   \n",
       "1         TLC                    500                 2000   \n",
       "2         TLC                    480                  450   \n",
       "3         TLC                    250                 1100   \n",
       "4         TLC                   1000                 2000   \n",
       "\n",
       "   SSD max olvasás (MB/s) Világítás Hűtőborda  Ár (FT)  \n",
       "0                     500       Nem       Nem    11890  \n",
       "1                    2200       Nem       Nem    22189  \n",
       "2                     500       Nem       Nem    18090  \n",
       "3                    2000       Nem       Nem    14489  \n",
       "4                    2200       Nem       Nem    39590  "
      ]
     },
     "execution_count": 29,
     "metadata": {},
     "output_type": "execute_result"
    }
   ],
   "source": [
    "df_filtered.head()"
   ]
  },
  {
   "cell_type": "markdown",
   "metadata": {},
   "source": [
    "Kategorikus értékekkel ilyen formában nem lehet számolni. A megoldás *Dummy* változók használata."
   ]
  },
  {
   "cell_type": "code",
   "execution_count": 30,
   "metadata": {},
   "outputs": [],
   "source": [
    "X = df_filtered.iloc[:, 1: -1]\n",
    "y = df_filtered.iloc[:, -1]\n",
    "y = y.values.reshape(-1, 1)"
   ]
  },
  {
   "cell_type": "markdown",
   "metadata": {},
   "source": [
    "Jelenesetben *One-hot encoding*-ot használunk."
   ]
  },
  {
   "cell_type": "code",
   "execution_count": 31,
   "metadata": {},
   "outputs": [
    {
     "data": {
      "text/html": [
       "<div>\n",
       "<style scoped>\n",
       "    .dataframe tbody tr th:only-of-type {\n",
       "        vertical-align: middle;\n",
       "    }\n",
       "\n",
       "    .dataframe tbody tr th {\n",
       "        vertical-align: top;\n",
       "    }\n",
       "\n",
       "    .dataframe thead th {\n",
       "        text-align: right;\n",
       "    }\n",
       "</style>\n",
       "<table border=\"1\" class=\"dataframe\">\n",
       "  <thead>\n",
       "    <tr style=\"text-align: right;\">\n",
       "      <th></th>\n",
       "      <th>Tároló kapacitás (GB)</th>\n",
       "      <th>SSD max írás (MB/s)</th>\n",
       "      <th>SSD max olvasás (MB/s)</th>\n",
       "      <th>0</th>\n",
       "      <th>1</th>\n",
       "      <th>2</th>\n",
       "      <th>3</th>\n",
       "      <th>4</th>\n",
       "      <th>5</th>\n",
       "      <th>6</th>\n",
       "      <th>...</th>\n",
       "      <th>13</th>\n",
       "      <th>14</th>\n",
       "      <th>15</th>\n",
       "      <th>16</th>\n",
       "      <th>17</th>\n",
       "      <th>18</th>\n",
       "      <th>19</th>\n",
       "      <th>20</th>\n",
       "      <th>21</th>\n",
       "      <th>22</th>\n",
       "    </tr>\n",
       "  </thead>\n",
       "  <tbody>\n",
       "    <tr>\n",
       "      <th>0</th>\n",
       "      <td>240</td>\n",
       "      <td>350</td>\n",
       "      <td>500</td>\n",
       "      <td>1.0</td>\n",
       "      <td>0.0</td>\n",
       "      <td>0.0</td>\n",
       "      <td>0.0</td>\n",
       "      <td>0.0</td>\n",
       "      <td>0.0</td>\n",
       "      <td>0.0</td>\n",
       "      <td>...</td>\n",
       "      <td>1.0</td>\n",
       "      <td>0.0</td>\n",
       "      <td>0.0</td>\n",
       "      <td>0.0</td>\n",
       "      <td>0.0</td>\n",
       "      <td>1.0</td>\n",
       "      <td>0.0</td>\n",
       "      <td>1.0</td>\n",
       "      <td>0.0</td>\n",
       "      <td>1.0</td>\n",
       "    </tr>\n",
       "    <tr>\n",
       "      <th>1</th>\n",
       "      <td>500</td>\n",
       "      <td>2000</td>\n",
       "      <td>2200</td>\n",
       "      <td>0.0</td>\n",
       "      <td>0.0</td>\n",
       "      <td>0.0</td>\n",
       "      <td>0.0</td>\n",
       "      <td>0.0</td>\n",
       "      <td>0.0</td>\n",
       "      <td>1.0</td>\n",
       "      <td>...</td>\n",
       "      <td>0.0</td>\n",
       "      <td>0.0</td>\n",
       "      <td>0.0</td>\n",
       "      <td>0.0</td>\n",
       "      <td>0.0</td>\n",
       "      <td>1.0</td>\n",
       "      <td>0.0</td>\n",
       "      <td>1.0</td>\n",
       "      <td>0.0</td>\n",
       "      <td>1.0</td>\n",
       "    </tr>\n",
       "    <tr>\n",
       "      <th>2</th>\n",
       "      <td>480</td>\n",
       "      <td>450</td>\n",
       "      <td>500</td>\n",
       "      <td>1.0</td>\n",
       "      <td>0.0</td>\n",
       "      <td>0.0</td>\n",
       "      <td>0.0</td>\n",
       "      <td>0.0</td>\n",
       "      <td>0.0</td>\n",
       "      <td>0.0</td>\n",
       "      <td>...</td>\n",
       "      <td>1.0</td>\n",
       "      <td>0.0</td>\n",
       "      <td>0.0</td>\n",
       "      <td>0.0</td>\n",
       "      <td>0.0</td>\n",
       "      <td>1.0</td>\n",
       "      <td>0.0</td>\n",
       "      <td>1.0</td>\n",
       "      <td>0.0</td>\n",
       "      <td>1.0</td>\n",
       "    </tr>\n",
       "    <tr>\n",
       "      <th>3</th>\n",
       "      <td>250</td>\n",
       "      <td>1100</td>\n",
       "      <td>2000</td>\n",
       "      <td>0.0</td>\n",
       "      <td>0.0</td>\n",
       "      <td>0.0</td>\n",
       "      <td>0.0</td>\n",
       "      <td>0.0</td>\n",
       "      <td>0.0</td>\n",
       "      <td>1.0</td>\n",
       "      <td>...</td>\n",
       "      <td>0.0</td>\n",
       "      <td>0.0</td>\n",
       "      <td>0.0</td>\n",
       "      <td>0.0</td>\n",
       "      <td>0.0</td>\n",
       "      <td>1.0</td>\n",
       "      <td>0.0</td>\n",
       "      <td>1.0</td>\n",
       "      <td>0.0</td>\n",
       "      <td>1.0</td>\n",
       "    </tr>\n",
       "    <tr>\n",
       "      <th>4</th>\n",
       "      <td>1000</td>\n",
       "      <td>2000</td>\n",
       "      <td>2200</td>\n",
       "      <td>0.0</td>\n",
       "      <td>0.0</td>\n",
       "      <td>0.0</td>\n",
       "      <td>0.0</td>\n",
       "      <td>0.0</td>\n",
       "      <td>0.0</td>\n",
       "      <td>1.0</td>\n",
       "      <td>...</td>\n",
       "      <td>0.0</td>\n",
       "      <td>0.0</td>\n",
       "      <td>0.0</td>\n",
       "      <td>0.0</td>\n",
       "      <td>0.0</td>\n",
       "      <td>1.0</td>\n",
       "      <td>0.0</td>\n",
       "      <td>1.0</td>\n",
       "      <td>0.0</td>\n",
       "      <td>1.0</td>\n",
       "    </tr>\n",
       "    <tr>\n",
       "      <th>...</th>\n",
       "      <td>...</td>\n",
       "      <td>...</td>\n",
       "      <td>...</td>\n",
       "      <td>...</td>\n",
       "      <td>...</td>\n",
       "      <td>...</td>\n",
       "      <td>...</td>\n",
       "      <td>...</td>\n",
       "      <td>...</td>\n",
       "      <td>...</td>\n",
       "      <td>...</td>\n",
       "      <td>...</td>\n",
       "      <td>...</td>\n",
       "      <td>...</td>\n",
       "      <td>...</td>\n",
       "      <td>...</td>\n",
       "      <td>...</td>\n",
       "      <td>...</td>\n",
       "      <td>...</td>\n",
       "      <td>...</td>\n",
       "      <td>...</td>\n",
       "    </tr>\n",
       "    <tr>\n",
       "      <th>709</th>\n",
       "      <td>250</td>\n",
       "      <td>1300</td>\n",
       "      <td>1700</td>\n",
       "      <td>0.0</td>\n",
       "      <td>0.0</td>\n",
       "      <td>0.0</td>\n",
       "      <td>0.0</td>\n",
       "      <td>0.0</td>\n",
       "      <td>0.0</td>\n",
       "      <td>1.0</td>\n",
       "      <td>...</td>\n",
       "      <td>0.0</td>\n",
       "      <td>0.0</td>\n",
       "      <td>0.0</td>\n",
       "      <td>0.0</td>\n",
       "      <td>0.0</td>\n",
       "      <td>1.0</td>\n",
       "      <td>0.0</td>\n",
       "      <td>1.0</td>\n",
       "      <td>0.0</td>\n",
       "      <td>1.0</td>\n",
       "    </tr>\n",
       "    <tr>\n",
       "      <th>716</th>\n",
       "      <td>500</td>\n",
       "      <td>1750</td>\n",
       "      <td>2400</td>\n",
       "      <td>0.0</td>\n",
       "      <td>0.0</td>\n",
       "      <td>0.0</td>\n",
       "      <td>0.0</td>\n",
       "      <td>0.0</td>\n",
       "      <td>0.0</td>\n",
       "      <td>1.0</td>\n",
       "      <td>...</td>\n",
       "      <td>0.0</td>\n",
       "      <td>0.0</td>\n",
       "      <td>0.0</td>\n",
       "      <td>0.0</td>\n",
       "      <td>0.0</td>\n",
       "      <td>1.0</td>\n",
       "      <td>0.0</td>\n",
       "      <td>1.0</td>\n",
       "      <td>0.0</td>\n",
       "      <td>1.0</td>\n",
       "    </tr>\n",
       "    <tr>\n",
       "      <th>717</th>\n",
       "      <td>128</td>\n",
       "      <td>540</td>\n",
       "      <td>560</td>\n",
       "      <td>1.0</td>\n",
       "      <td>0.0</td>\n",
       "      <td>0.0</td>\n",
       "      <td>0.0</td>\n",
       "      <td>0.0</td>\n",
       "      <td>0.0</td>\n",
       "      <td>0.0</td>\n",
       "      <td>...</td>\n",
       "      <td>1.0</td>\n",
       "      <td>0.0</td>\n",
       "      <td>0.0</td>\n",
       "      <td>0.0</td>\n",
       "      <td>0.0</td>\n",
       "      <td>1.0</td>\n",
       "      <td>0.0</td>\n",
       "      <td>1.0</td>\n",
       "      <td>0.0</td>\n",
       "      <td>1.0</td>\n",
       "    </tr>\n",
       "    <tr>\n",
       "      <th>718</th>\n",
       "      <td>256</td>\n",
       "      <td>540</td>\n",
       "      <td>560</td>\n",
       "      <td>1.0</td>\n",
       "      <td>0.0</td>\n",
       "      <td>0.0</td>\n",
       "      <td>0.0</td>\n",
       "      <td>0.0</td>\n",
       "      <td>0.0</td>\n",
       "      <td>0.0</td>\n",
       "      <td>...</td>\n",
       "      <td>1.0</td>\n",
       "      <td>0.0</td>\n",
       "      <td>0.0</td>\n",
       "      <td>0.0</td>\n",
       "      <td>0.0</td>\n",
       "      <td>1.0</td>\n",
       "      <td>0.0</td>\n",
       "      <td>1.0</td>\n",
       "      <td>0.0</td>\n",
       "      <td>1.0</td>\n",
       "    </tr>\n",
       "    <tr>\n",
       "      <th>719</th>\n",
       "      <td>512</td>\n",
       "      <td>540</td>\n",
       "      <td>560</td>\n",
       "      <td>1.0</td>\n",
       "      <td>0.0</td>\n",
       "      <td>0.0</td>\n",
       "      <td>0.0</td>\n",
       "      <td>0.0</td>\n",
       "      <td>0.0</td>\n",
       "      <td>0.0</td>\n",
       "      <td>...</td>\n",
       "      <td>1.0</td>\n",
       "      <td>0.0</td>\n",
       "      <td>0.0</td>\n",
       "      <td>0.0</td>\n",
       "      <td>0.0</td>\n",
       "      <td>1.0</td>\n",
       "      <td>0.0</td>\n",
       "      <td>1.0</td>\n",
       "      <td>0.0</td>\n",
       "      <td>1.0</td>\n",
       "    </tr>\n",
       "  </tbody>\n",
       "</table>\n",
       "<p>630 rows × 26 columns</p>\n",
       "</div>"
      ],
      "text/plain": [
       "     Tároló kapacitás (GB)  SSD max írás (MB/s)  SSD max olvasás (MB/s)    0  \\\n",
       "0                      240                  350                     500  1.0   \n",
       "1                      500                 2000                    2200  0.0   \n",
       "2                      480                  450                     500  1.0   \n",
       "3                      250                 1100                    2000  0.0   \n",
       "4                     1000                 2000                    2200  0.0   \n",
       "..                     ...                  ...                     ...  ...   \n",
       "709                    250                 1300                    1700  0.0   \n",
       "716                    500                 1750                    2400  0.0   \n",
       "717                    128                  540                     560  1.0   \n",
       "718                    256                  540                     560  1.0   \n",
       "719                    512                  540                     560  1.0   \n",
       "\n",
       "       1    2    3    4    5    6  ...   13   14   15   16   17   18   19  \\\n",
       "0    0.0  0.0  0.0  0.0  0.0  0.0  ...  1.0  0.0  0.0  0.0  0.0  1.0  0.0   \n",
       "1    0.0  0.0  0.0  0.0  0.0  1.0  ...  0.0  0.0  0.0  0.0  0.0  1.0  0.0   \n",
       "2    0.0  0.0  0.0  0.0  0.0  0.0  ...  1.0  0.0  0.0  0.0  0.0  1.0  0.0   \n",
       "3    0.0  0.0  0.0  0.0  0.0  1.0  ...  0.0  0.0  0.0  0.0  0.0  1.0  0.0   \n",
       "4    0.0  0.0  0.0  0.0  0.0  1.0  ...  0.0  0.0  0.0  0.0  0.0  1.0  0.0   \n",
       "..   ...  ...  ...  ...  ...  ...  ...  ...  ...  ...  ...  ...  ...  ...   \n",
       "709  0.0  0.0  0.0  0.0  0.0  1.0  ...  0.0  0.0  0.0  0.0  0.0  1.0  0.0   \n",
       "716  0.0  0.0  0.0  0.0  0.0  1.0  ...  0.0  0.0  0.0  0.0  0.0  1.0  0.0   \n",
       "717  0.0  0.0  0.0  0.0  0.0  0.0  ...  1.0  0.0  0.0  0.0  0.0  1.0  0.0   \n",
       "718  0.0  0.0  0.0  0.0  0.0  0.0  ...  1.0  0.0  0.0  0.0  0.0  1.0  0.0   \n",
       "719  0.0  0.0  0.0  0.0  0.0  0.0  ...  1.0  0.0  0.0  0.0  0.0  1.0  0.0   \n",
       "\n",
       "      20   21   22  \n",
       "0    1.0  0.0  1.0  \n",
       "1    1.0  0.0  1.0  \n",
       "2    1.0  0.0  1.0  \n",
       "3    1.0  0.0  1.0  \n",
       "4    1.0  0.0  1.0  \n",
       "..   ...  ...  ...  \n",
       "709  1.0  0.0  1.0  \n",
       "716  1.0  0.0  1.0  \n",
       "717  1.0  0.0  1.0  \n",
       "718  1.0  0.0  1.0  \n",
       "719  1.0  0.0  1.0  \n",
       "\n",
       "[630 rows x 26 columns]"
      ]
     },
     "execution_count": 31,
     "metadata": {},
     "output_type": "execute_result"
    }
   ],
   "source": [
    "oh_encoder = OneHotEncoder(handle_unknown='ignore', sparse=False)\n",
    "oh_cols = pd.DataFrame(oh_encoder.fit_transform(X[['Méret', 'Csatlakozás', 'Technológia', 'Világítás', 'Hűtőborda']]))\n",
    "\n",
    "oh_cols.index = X.index\n",
    "num_X = X.drop(['Méret', 'Csatlakozás', 'Technológia', 'Világítás', 'Hűtőborda'], axis=1)\n",
    "\n",
    "oh_X = pd.concat([num_X, oh_cols], axis=1)\n",
    "oh_X"
   ]
  },
  {
   "cell_type": "markdown",
   "metadata": {},
   "source": [
    "## Tanító és teszt halmazra darabolás"
   ]
  },
  {
   "cell_type": "code",
   "execution_count": 32,
   "metadata": {},
   "outputs": [],
   "source": [
    "X_train, X_test, y_train, y_test = train_test_split(oh_X.values, y, test_size=0.3, random_state=21)"
   ]
  },
  {
   "cell_type": "markdown",
   "metadata": {},
   "source": [
    "## Standardizálás"
   ]
  },
  {
   "cell_type": "code",
   "execution_count": 33,
   "metadata": {},
   "outputs": [],
   "source": [
    "sc = StandardScaler()\n",
    "sc2 = StandardScaler()\n",
    "X_train[:, :3] = sc.fit_transform(X_train[:, :3])\n",
    "X_test[:, :3] = sc.transform(X_test[:, :3])\n",
    "y_train = sc2.fit_transform(y_train)\n",
    "y_test = sc2.transform(y_test)"
   ]
  },
  {
   "cell_type": "markdown",
   "metadata": {},
   "source": [
    "## Modellek"
   ]
  },
  {
   "cell_type": "markdown",
   "metadata": {},
   "source": [
    "### Linear regression"
   ]
  },
  {
   "cell_type": "code",
   "execution_count": 34,
   "metadata": {},
   "outputs": [
    {
     "name": "stdout",
     "output_type": "stream",
     "text": [
      "linear r2 score: 0.858\n",
      "linear train r2 score: 0.881\n",
      "linear test r2 score: 0.852\n"
     ]
    }
   ],
   "source": [
    "linear = LinearRegression()\n",
    "linear.fit(X_train, y_train)\n",
    "results = cross_val_score(estimator=linear, X=X_train, y=y_train, cv=10, n_jobs=-1)\n",
    "print('linear r2 score: {:.3f}'.format(results.mean()))\n",
    "print('linear train r2 score: {:.3f}'.format(linear.score(X_train, y_train)))\n",
    "print('linear test r2 score: {:.3f}'.format(linear.score(X_test, y_test)))"
   ]
  },
  {
   "cell_type": "markdown",
   "metadata": {},
   "source": [
    "Ahogy látható a teszt értéke elég jól közelíti a tanító értéket."
   ]
  },
  {
   "cell_type": "markdown",
   "metadata": {},
   "source": [
    "### Decision tree regression"
   ]
  },
  {
   "cell_type": "code",
   "execution_count": 35,
   "metadata": {},
   "outputs": [
    {
     "name": "stdout",
     "output_type": "stream",
     "text": [
      "tree r2 score: 0.766\n",
      "tree train r2 score: 0.991\n",
      "tree test r2 score: 0.767\n"
     ]
    }
   ],
   "source": [
    "tree = DecisionTreeRegressor()\n",
    "tree.fit(X_train, y_train)\n",
    "results = cross_val_score(estimator=tree, X=X_train, y=y_train, cv=10, n_jobs=-1)\n",
    "print('tree r2 score: {:.3f}'.format(results.mean()))\n",
    "print('tree train r2 score: {:.3f}'.format(tree.score(X_train, y_train)))\n",
    "print('tree test r2 score: {:.3f}'.format(tree.score(X_test, y_test)))"
   ]
  },
  {
   "cell_type": "markdown",
   "metadata": {},
   "source": [
    "Itt a modell nagyon jól teljesít a tanító halmazon, viszont teszt halmazon látszik a túltanulás eredménye."
   ]
  },
  {
   "cell_type": "markdown",
   "metadata": {},
   "source": [
    "Megpróbálhatunk találni jobb paramétereket, mint amik alpból megvannak adva a modellnek. *(Hyperparameter tuning)*"
   ]
  },
  {
   "cell_type": "code",
   "execution_count": 36,
   "metadata": {},
   "outputs": [
    {
     "name": "stdout",
     "output_type": "stream",
     "text": [
      "\n",
      "Best r2: 0.82\n",
      "Best Parameters: {'max_depth': 20, 'max_features': None, 'min_samples_leaf': 5, 'min_samples_split': 10}\n",
      "\n"
     ]
    },
    {
     "name": "stderr",
     "output_type": "stream",
     "text": [
      "C:\\Users\\user\\anaconda3\\lib\\site-packages\\sklearn\\model_selection\\_search.py:918: UserWarning: One or more of the test scores are non-finite: [       nan 0.76780087 0.77478134 0.77661856 0.79444468        nan\n",
      " 0.79200395 0.79576913 0.79712004 0.80676821        nan 0.79423203\n",
      " 0.79961702 0.80684589 0.80897271        nan 0.80210802 0.80290683\n",
      " 0.80506824 0.80884515        nan 0.81789585 0.81921804 0.81921804\n",
      " 0.8178858         nan 0.70505912 0.66870394 0.64462547 0.66259158\n",
      "        nan 0.57865209 0.57110309 0.63993249 0.61517953        nan\n",
      " 0.59870789 0.62994569 0.57125556 0.59179391        nan 0.62450082\n",
      " 0.65710377 0.63494579 0.57831971        nan 0.45104709 0.57513063\n",
      " 0.52195846 0.55494104        nan 0.62724043 0.7771143  0.76090376\n",
      " 0.75312195        nan 0.74698047 0.75776133 0.70120911 0.75602799\n",
      "        nan 0.76777604 0.75821845 0.74906892 0.73388428        nan\n",
      " 0.75443792 0.69052753 0.79559539 0.77644678        nan 0.69164397\n",
      " 0.66859937 0.65676025 0.74544494        nan 0.77751043 0.77861023\n",
      " 0.77694255 0.7909242         nan 0.79221748 0.79263113 0.80008109\n",
      " 0.80229435        nan 0.79525316 0.80131898 0.80326737 0.80790684\n",
      "        nan 0.8032928  0.80250967 0.80558579 0.80565235        nan\n",
      " 0.8182243  0.81899666 0.81899666 0.81743826        nan 0.6151841\n",
      " 0.62014641 0.55390307 0.64839903        nan 0.6767586  0.67478581\n",
      " 0.68274929 0.55147164        nan 0.53563933 0.62684595 0.48507384\n",
      " 0.54135016        nan 0.67593133 0.55614746 0.59805629 0.63674564\n",
      "        nan 0.53458522 0.55655029 0.64890231 0.60391782        nan\n",
      " 0.79188101 0.73745989 0.6701101  0.75400494        nan 0.72653637\n",
      " 0.67835034 0.77206474 0.71280849        nan 0.78877389 0.74516419\n",
      " 0.77959315 0.76189964        nan 0.7538112  0.73545256 0.78961129\n",
      " 0.65661912        nan 0.7284392  0.67371314 0.70704154 0.64706807\n",
      "        nan 0.75945357 0.77673046 0.77853661 0.79372423        nan\n",
      " 0.78828703 0.79335411 0.79776248 0.80256683        nan 0.79530841\n",
      " 0.80134425 0.80444329 0.80823701        nan 0.80073885 0.80007665\n",
      " 0.80574383 0.80684532        nan 0.81894502 0.81788674 0.81921804\n",
      " 0.81893497        nan 0.68026619 0.7000988  0.73808594 0.62336596\n",
      "        nan 0.70532818 0.68315492 0.64007475 0.52161981        nan\n",
      " 0.55851705 0.62570135 0.68497291 0.65362395        nan 0.57753745\n",
      " 0.55329147 0.55291465 0.61800426        nan 0.47629435 0.59269387\n",
      " 0.56331613 0.48319384        nan 0.74107254 0.72143576 0.74598901\n",
      " 0.77458729        nan 0.77863923 0.76453027 0.73501283 0.78770657\n",
      "        nan 0.76838451 0.76747435 0.691718   0.75266966        nan\n",
      " 0.77466598 0.7827231  0.71735709 0.63867205        nan 0.69686086\n",
      " 0.716489   0.69789975 0.70478033        nan 0.76759945 0.77646777\n",
      " 0.77649562 0.7946402         nan 0.7930928  0.79451489 0.80117219\n",
      " 0.8046755         nan 0.79629897 0.79876807 0.80338694 0.80942844\n",
      "        nan 0.80052319 0.80182588 0.80685912 0.80789803        nan\n",
      " 0.81893625 0.8189359  0.81922681 0.81893497        nan 0.63948871\n",
      " 0.67974591 0.56805957 0.64557267        nan 0.52005681 0.53510295\n",
      " 0.66499619 0.64477155        nan 0.65889206 0.56370564 0.58418197\n",
      " 0.62278919        nan 0.58593321 0.6309679  0.67723391 0.54846137\n",
      "        nan 0.48033702 0.65145639 0.61699054 0.56760581        nan\n",
      " 0.68908015 0.73960207 0.77485355 0.78098776        nan 0.76829082\n",
      " 0.69619561 0.725443   0.73698432        nan 0.7062042  0.75652194\n",
      " 0.6889999  0.7489867         nan 0.63678689 0.77646577 0.72404407\n",
      " 0.76505375        nan 0.73460537 0.69595792 0.74506682 0.77587232\n",
      "        nan 0.77138448 0.77523203 0.77593977 0.79193897        nan\n",
      " 0.79170644 0.79240658 0.79916374 0.80252468        nan 0.79755916\n",
      " 0.80027862 0.80440626 0.80792354        nan 0.80210743 0.79925887\n",
      " 0.80781253 0.8067225         nan 0.81893625 0.81789585 0.81788674\n",
      " 0.81893497        nan 0.63246109 0.60899561 0.63339722 0.68409671\n",
      "        nan 0.61069253 0.70214386 0.61053456 0.60314573        nan\n",
      " 0.61571131 0.64728028 0.62638712 0.62173667        nan 0.56421729\n",
      " 0.68242969 0.57258458 0.45722164        nan 0.57546096 0.5461125\n",
      " 0.55413021 0.66026362        nan 0.68338942 0.76295235 0.75306521\n",
      " 0.67391039        nan 0.75598998 0.75099514 0.73114532 0.75271747\n",
      "        nan 0.76146053 0.77677296 0.72211206 0.73012249        nan\n",
      " 0.75645801 0.75372124 0.75328893 0.71902693        nan 0.81309754\n",
      " 0.69851962 0.75544088 0.75268943        nan 0.77635281 0.77668977\n",
      " 0.77712557 0.79214787        nan 0.79268721 0.79555508 0.79990725\n",
      " 0.80516129        nan 0.79508879 0.80049511 0.80333381 0.80823667\n",
      "        nan 0.8020651  0.80130813 0.80491558 0.80913674        nan\n",
      " 0.81789551 0.81922646 0.81921804 0.81847923        nan 0.67360831\n",
      " 0.65572476 0.70482574 0.56489963        nan 0.69607576 0.66371155\n",
      " 0.66383916 0.55328094        nan 0.68338193 0.63534913 0.50870764\n",
      " 0.60869327        nan 0.45086289 0.59277209 0.54280397 0.53789109\n",
      "        nan 0.50496642 0.51752693 0.551121   0.66417155        nan\n",
      " 0.72949402 0.75286973 0.73015843 0.71078249        nan 0.75913346\n",
      " 0.75313511 0.80536962 0.78128357        nan 0.66653035 0.70569274\n",
      " 0.76416135 0.76688414        nan 0.77886795 0.76491839 0.68427142\n",
      " 0.67569934        nan 0.68692517 0.70150437 0.74010269 0.75210264\n",
      "        nan 0.76140919 0.77359516 0.77807331 0.79389253        nan\n",
      " 0.78898036 0.79459315 0.79799781 0.80335313        nan 0.79513075\n",
      " 0.79942071 0.80533441 0.80823667        nan 0.80005147 0.80124868\n",
      " 0.80750253 0.80791783        nan 0.81894502 0.81894502 0.81789585\n",
      " 0.8178858         nan 0.62785851 0.64091156 0.62540863 0.61907354\n",
      "        nan 0.61487266 0.67980869 0.55937086 0.62990456        nan\n",
      " 0.55686554 0.6114129  0.61142624 0.58022229        nan 0.52882076\n",
      " 0.50836511 0.50539592 0.62566493        nan 0.53537624 0.58147941\n",
      " 0.5330286  0.68415304        nan 0.76184055 0.74221295 0.74742917\n",
      " 0.74894483        nan 0.72619995 0.74886593 0.77830146 0.77592349\n",
      "        nan 0.78432941 0.74760133 0.74661939 0.74700294        nan\n",
      " 0.73493599 0.78562947 0.75768583 0.73080087        nan 0.77187936\n",
      " 0.73203795 0.67693705 0.77010774        nan 0.76675727 0.77503382\n",
      " 0.77601142 0.79133843        nan 0.79009286 0.79363572 0.79742889\n",
      " 0.80616331        nan 0.79512471 0.79984405 0.80604804 0.80942639\n",
      "        nan 0.80234665 0.80041593 0.80483256 0.80838941        nan\n",
      " 0.81788709 0.81894502 0.81922681 0.81743007        nan 0.69236984\n",
      " 0.64184804 0.67462663 0.7074334         nan 0.60251713 0.60946811\n",
      " 0.53410273 0.54785733        nan 0.59836516 0.51134785 0.60465157\n",
      " 0.56508385        nan 0.67583728 0.55518592 0.58284018 0.6388745\n",
      "        nan 0.5806867  0.60424707 0.54400722 0.62957574        nan\n",
      " 0.68091771 0.72990254 0.72040562 0.76641512        nan 0.7708712\n",
      " 0.72090457 0.77768081 0.73900918        nan 0.80783968 0.73787021\n",
      " 0.71237613 0.73993669        nan 0.70143594 0.78964734 0.7393267\n",
      " 0.77943617        nan 0.78101948 0.7559689  0.76568197 0.7031666 ]\n",
      "  warnings.warn(\n",
      "C:\\Users\\user\\anaconda3\\lib\\site-packages\\sklearn\\model_selection\\_search.py:918: UserWarning: One or more of the train scores are non-finite: [       nan 0.9921727  0.94671675 0.93980244 0.93291287        nan\n",
      " 0.9488239  0.93189281 0.92859195 0.92472819        nan 0.92266393\n",
      " 0.91987529 0.91715317 0.91428175        nan 0.91213026 0.91213027\n",
      " 0.91039875 0.90815411        nan 0.90209977 0.90209977 0.90209977\n",
      " 0.90063388        nan 0.9921727  0.86583207 0.86426258 0.84439344\n",
      "        nan 0.82246287 0.79649899 0.76873964 0.72789011        nan\n",
      " 0.75871721 0.74155148 0.69445684 0.72896565        nan 0.71636167\n",
      " 0.72807562 0.68790538 0.67321762        nan 0.59527046 0.62274854\n",
      " 0.61167179 0.63374489        nan 0.9921727  0.93501529 0.90783453\n",
      " 0.89290357        nan 0.91384356 0.86697498 0.85586797 0.87783968\n",
      "        nan 0.88866615 0.86629228 0.86046702 0.84621666        nan\n",
      " 0.86457853 0.81715644 0.86315261 0.85862888        nan 0.80949031\n",
      " 0.79498362 0.77216692 0.81623016        nan 0.98860257 0.94522075\n",
      " 0.93866175 0.93204897        nan 0.94749552 0.93094416 0.92793364\n",
      " 0.92425159        nan 0.92211201 0.91938887 0.91677666 0.91405037\n",
      "        nan 0.91195108 0.91195108 0.910245   0.90804514        nan\n",
      " 0.90199156 0.90199156 0.90199156 0.90056245        nan 0.91241775\n",
      " 0.81711625 0.78683838 0.8180818         nan 0.8044671  0.77147848\n",
      " 0.79655329 0.68226548        nan 0.68932201 0.75941909 0.64150741\n",
      " 0.66271139        nan 0.73566571 0.65564191 0.65016197 0.71858916\n",
      "        nan 0.64634298 0.64055872 0.64124203 0.65172245        nan\n",
      " 0.97276339 0.92463534 0.88895984 0.9010275         nan 0.8774502\n",
      " 0.86898937 0.86446676 0.86716342        nan 0.87994398 0.86462792\n",
      " 0.864901   0.84234228        nan 0.82414356 0.83423404 0.8310889\n",
      " 0.76989483        nan 0.80557486 0.81089486 0.80897252 0.77534306\n",
      "        nan 0.99196531 0.94669303 0.93978494 0.93290377        nan\n",
      " 0.94880812 0.93188682 0.92859025 0.92472649        nan 0.92266237\n",
      " 0.91987523 0.91715317 0.91428175        nan 0.91213026 0.91213027\n",
      " 0.91039875 0.90815411        nan 0.90209977 0.90209977 0.90209977\n",
      " 0.90063388        nan 0.98729862 0.87861416 0.88491056 0.8237392\n",
      "        nan 0.81954882 0.81735868 0.81683734 0.7084537         nan\n",
      " 0.72662232 0.73368247 0.78398064 0.74335351        nan 0.61529959\n",
      " 0.62838792 0.63053859 0.74458416        nan 0.59418918 0.69678166\n",
      " 0.65224212 0.59378971        nan 0.99157686 0.92103619 0.90162082\n",
      " 0.90674046        nan 0.91435245 0.88456299 0.88058341 0.88296496\n",
      "        nan 0.86124349 0.86682106 0.85517695 0.86204359        nan\n",
      " 0.85840143 0.87810591 0.83913689 0.81094354        nan 0.82302227\n",
      " 0.815652   0.80674485 0.79553802        nan 0.99217267 0.94671675\n",
      " 0.93980244 0.93291287        nan 0.94882279 0.93189281 0.92859195\n",
      " 0.92472819        nan 0.92266378 0.91987515 0.91715317 0.91428175\n",
      "        nan 0.91213026 0.91213026 0.91039875 0.9081544         nan\n",
      " 0.90209977 0.90209977 0.90209977 0.90063388        nan 0.99212929\n",
      " 0.89302225 0.82709725 0.8421163         nan 0.80765465 0.69814484\n",
      " 0.83476702 0.75789047        nan 0.73221604 0.67092047 0.73403788\n",
      " 0.70032633        nan 0.66873227 0.71306175 0.71247629 0.61825525\n",
      "        nan 0.59877805 0.76058317 0.70756548 0.64047883        nan\n",
      " 0.99216102 0.91447017 0.91492823 0.92221477        nan 0.91435459\n",
      " 0.87440039 0.86288237 0.86165792        nan 0.83878217 0.86509729\n",
      " 0.8143603  0.85012779        nan 0.81742886 0.85856804 0.8394134\n",
      " 0.85055671        nan 0.83607121 0.81825882 0.82235653 0.84896431\n",
      "        nan 0.9921727  0.94671675 0.93980244 0.93291287        nan\n",
      " 0.9488239  0.93189281 0.92859195 0.92472819        nan 0.92266393\n",
      " 0.91987523 0.91715317 0.91428175        nan 0.91213027 0.91213026\n",
      " 0.91039875 0.90815411        nan 0.90209977 0.90209977 0.90209977\n",
      " 0.90063388        nan 0.9921727  0.88406958 0.84104607 0.85921235\n",
      "        nan 0.82516078 0.81183749 0.76963585 0.74852705        nan\n",
      " 0.71127277 0.77202986 0.76766643 0.7598587         nan 0.70675222\n",
      " 0.75232696 0.6845506  0.65401609        nan 0.70713057 0.63915507\n",
      " 0.65392606 0.73095467        nan 0.9921727  0.92511401 0.91535251\n",
      " 0.89759617        nan 0.918929   0.88290087 0.86792712 0.85500896\n",
      "        nan 0.86174916 0.86744912 0.8210995  0.83014849        nan\n",
      " 0.85445783 0.85487795 0.83560596 0.81749697        nan 0.86143884\n",
      " 0.79410777 0.83387976 0.82291857        nan 0.9921727  0.94671675\n",
      " 0.93980244 0.93291287        nan 0.9488239  0.93189281 0.92859195\n",
      " 0.92472819        nan 0.92266386 0.91987523 0.91715317 0.91428175\n",
      "        nan 0.91213026 0.91213026 0.91039875 0.9081544         nan\n",
      " 0.90209977 0.90209977 0.90209977 0.90063388        nan 0.9921727\n",
      " 0.88686601 0.86613794 0.81788343        nan 0.85097126 0.8108922\n",
      " 0.79755501 0.7284435         nan 0.77219883 0.77756858 0.66998044\n",
      " 0.76595917        nan 0.51301126 0.69676608 0.72086641 0.67159585\n",
      "        nan 0.60826054 0.65148612 0.67231851 0.68364558        nan\n",
      " 0.9921727  0.92077054 0.91386131 0.9178297         nan 0.91458718\n",
      " 0.89557667 0.8945488  0.87634845        nan 0.85216789 0.87256364\n",
      " 0.86994801 0.84117002        nan 0.83974612 0.84927345 0.83798573\n",
      " 0.81523041        nan 0.78299943 0.78742018 0.79395172 0.84682814\n",
      "        nan 0.9921727  0.94671675 0.93980244 0.93291287        nan\n",
      " 0.9488239  0.93189281 0.92859195 0.92472819        nan 0.92266386\n",
      " 0.91987523 0.91715317 0.91428175        nan 0.91213027 0.91213027\n",
      " 0.91039875 0.9081544         nan 0.90209977 0.90209977 0.90209977\n",
      " 0.90063388        nan 0.9921727  0.86927962 0.86869862 0.824162\n",
      "        nan 0.79793225 0.79732031 0.70651682 0.77929452        nan\n",
      " 0.7195276  0.7155958  0.72620239 0.73578324        nan 0.65351703\n",
      " 0.6762188  0.61127451 0.7213924         nan 0.70039699 0.64726225\n",
      " 0.60245011 0.7260626         nan 0.9921727  0.91204957 0.91999791\n",
      " 0.89937981        nan 0.8959342  0.88029286 0.88500054 0.87356017\n",
      "        nan 0.88981336 0.83041986 0.84106759 0.85740583        nan\n",
      " 0.8258272  0.86391746 0.84390843 0.84747657        nan 0.83438908\n",
      " 0.82232205 0.81238656 0.84042955        nan 0.9921727  0.94671675\n",
      " 0.93980244 0.93291287        nan 0.9488239  0.93189281 0.92859195\n",
      " 0.92472819        nan 0.92266372 0.91987529 0.91715317 0.91428175\n",
      "        nan 0.91213027 0.91213026 0.91039875 0.90815411        nan\n",
      " 0.90209977 0.90209977 0.90209977 0.90063388        nan 0.9921727\n",
      " 0.88596123 0.85775616 0.86970914        nan 0.77182037 0.75042338\n",
      " 0.73512243 0.70076826        nan 0.73624854 0.70550223 0.72141052\n",
      " 0.70841667        nan 0.7081225  0.69035921 0.71078481 0.69743715\n",
      "        nan 0.68850553 0.66357336 0.65335625 0.67250376        nan\n",
      " 0.9921727  0.91872114 0.9039996  0.87077732        nan 0.90152876\n",
      " 0.88553064 0.87625457 0.87779616        nan 0.87593436 0.85102087\n",
      " 0.85340823 0.83895037        nan 0.82333573 0.85557098 0.8380189\n",
      " 0.83943238        nan 0.83995107 0.82284398 0.83752629 0.80326106]\n",
      "  warnings.warn(\n"
     ]
    }
   ],
   "source": [
    "parameters = {\n",
    "    'max_depth': [None, 10, 15, 20, 30, 50, 80, 100],\n",
    "    'max_features': [None, 5, 10],\n",
    "    'min_samples_leaf': [1, 2, 3, 4, 5],\n",
    "    'min_samples_split': [1, 2, 8, 10, 12],\n",
    "}\n",
    "\n",
    "grid_search = GridSearchCV(estimator = tree,\n",
    "                           param_grid = parameters,\n",
    "                           scoring = 'r2',\n",
    "                           cv = 10,\n",
    "                           return_train_score = True,\n",
    "                           n_jobs = -1)\n",
    "\n",
    "grid_search.fit(X_train, y_train.ravel())\n",
    "best_r2 = grid_search.best_score_\n",
    "best_parameters = grid_search.best_params_\n",
    "print()\n",
    "print(\"Best r2: {:.2f}\".format(best_r2))\n",
    "print(\"Best Parameters:\", best_parameters)\n",
    "print()"
   ]
  },
  {
   "cell_type": "code",
   "execution_count": 37,
   "metadata": {},
   "outputs": [
    {
     "name": "stdout",
     "output_type": "stream",
     "text": [
      "tree r2 score: 0.819\n",
      "tree train r2 score: 0.903\n",
      "tree test r2 score: 0.847\n"
     ]
    }
   ],
   "source": [
    "tree = DecisionTreeRegressor(max_depth=20, max_features=None, min_samples_leaf=5, min_samples_split=10)\n",
    "tree.fit(X_train, y_train)\n",
    "results = cross_val_score(estimator=tree, X=X_train, y=y_train, cv=10, n_jobs=-1)\n",
    "print('tree r2 score: {:.3f}'.format(results.mean()))\n",
    "print('tree train r2 score: {:.3f}'.format(tree.score(X_train, y_train)))\n",
    "print('tree test r2 score: {:.3f}'.format(tree.score(X_test, y_test)))"
   ]
  },
  {
   "cell_type": "markdown",
   "metadata": {},
   "source": [
    "### Random forest regression"
   ]
  },
  {
   "cell_type": "code",
   "execution_count": 38,
   "metadata": {},
   "outputs": [
    {
     "name": "stdout",
     "output_type": "stream",
     "text": [
      "forest r2 score: 0.843\n",
      "forest train r2 score: 0.976\n",
      "forest test r2 score: 0.858\n"
     ]
    }
   ],
   "source": [
    "forest = RandomForestRegressor()\n",
    "forest.fit(X_train, y_train.ravel())\n",
    "results = cross_val_score(estimator=forest, X=X_train, y=y_train, cv=10, n_jobs=-1)\n",
    "print('forest r2 score: {:.3f}'.format(results.mean()))\n",
    "print('forest train r2 score: {:.3f}'.format(forest.score(X_train, y_train)))\n",
    "print('forest test r2 score: {:.3f}'.format(forest.score(X_test, y_test)))"
   ]
  },
  {
   "cell_type": "markdown",
   "metadata": {},
   "source": [
    "Itt is jól teljesít a modell a tanító halmazon, viszont a teszt halmazon megint jelentősen rosszabbul."
   ]
  },
  {
   "cell_type": "markdown",
   "metadata": {},
   "source": [
    "*Hyperparameter tuning*"
   ]
  },
  {
   "cell_type": "code",
   "execution_count": 39,
   "metadata": {},
   "outputs": [
    {
     "name": "stderr",
     "output_type": "stream",
     "text": [
      "C:\\Users\\user\\anaconda3\\lib\\site-packages\\sklearn\\model_selection\\_search.py:918: UserWarning: One or more of the test scores are non-finite: [       nan        nan        nan ... 0.81209526 0.8117071  0.81265789]\n",
      "  warnings.warn(\n",
      "C:\\Users\\user\\anaconda3\\lib\\site-packages\\sklearn\\model_selection\\_search.py:918: UserWarning: One or more of the train scores are non-finite: [       nan        nan        nan ... 0.86026956 0.8592019  0.85975385]\n",
      "  warnings.warn(\n"
     ]
    },
    {
     "name": "stdout",
     "output_type": "stream",
     "text": [
      "\n",
      "Best r2: 0.849\n",
      "Best Parameters: {'max_depth': 10, 'max_features': 10, 'min_samples_leaf': 1, 'min_samples_split': 2, 'n_estimators': 100}\n",
      "\n"
     ]
    }
   ],
   "source": [
    "parameters = {\n",
    "    'max_depth': [None, 10, 15, 20, 30, 50],\n",
    "    'max_features': [None, 5, 10],\n",
    "    'min_samples_leaf': [1, 2, 3, 4, 5],\n",
    "    'min_samples_split': [1, 2, 8, 10, 12],\n",
    "    'n_estimators': [100, 200, 500, 1000]\n",
    "}\n",
    "\n",
    "grid_search = GridSearchCV(estimator = forest,\n",
    "                           param_grid = parameters,\n",
    "                           scoring = 'r2',\n",
    "                           cv = 10,\n",
    "                           return_train_score = True,\n",
    "                           n_jobs = -1)\n",
    "\n",
    "grid_search.fit(X_train, y_train.ravel())\n",
    "best_r2 = grid_search.best_score_\n",
    "best_parameters = grid_search.best_params_\n",
    "print()\n",
    "print(\"Best r2: {:.3f}\".format(best_r2))\n",
    "print(\"Best Parameters:\", best_parameters)\n",
    "print()"
   ]
  },
  {
   "cell_type": "code",
   "execution_count": 40,
   "metadata": {},
   "outputs": [
    {
     "name": "stdout",
     "output_type": "stream",
     "text": [
      "forest r2 score: 0.796\n",
      "forest train r2 score: 0.967\n",
      "forest test r2 score: 0.885\n"
     ]
    }
   ],
   "source": [
    "forest = RandomForestRegressor(n_estimators=100, max_depth=10, max_features=10, min_samples_split=2, min_samples_leaf=1)\n",
    "forest.fit(X_train, y_train.ravel())\n",
    "results = cross_val_score(estimator=forest, X=X_test, y=y_test, cv=10, n_jobs=-1)\n",
    "print('forest r2 score: {:.3f}'.format(results.mean()))\n",
    "print('forest train r2 score: {:.3f}'.format(forest.score(X_train, y_train)))\n",
    "print('forest test r2 score: {:.3f}'.format(forest.score(X_test, y_test)))"
   ]
  },
  {
   "cell_type": "markdown",
   "metadata": {},
   "source": [
    "### Support vector regression"
   ]
  },
  {
   "cell_type": "code",
   "execution_count": 41,
   "metadata": {},
   "outputs": [
    {
     "name": "stdout",
     "output_type": "stream",
     "text": [
      "svr r2 score: 0.842\n",
      "svr train r2 score: 0.876\n",
      "svr test r2 score: 0.842\n"
     ]
    }
   ],
   "source": [
    "svr = SVR()\n",
    "svr.fit(X_train, y_train.ravel())\n",
    "results = cross_val_score(estimator=svr, X=X_train, y=y_train, cv=10, n_jobs=-1)\n",
    "print('svr r2 score: {:.3f}'.format(results.mean()))\n",
    "print('svr train r2 score: {:.3f}'.format(svr.score(X_train, y_train)))\n",
    "print('svr test r2 score: {:.3f}'.format(svr.score(X_test, y_test)))"
   ]
  },
  {
   "cell_type": "markdown",
   "metadata": {},
   "source": [
    "Csak mint a lineáris regressziónál, itt sincs nagy eltérés a tanító és teszt érték között."
   ]
  },
  {
   "cell_type": "markdown",
   "metadata": {},
   "source": [
    "*Hyperparameter tuning*"
   ]
  },
  {
   "cell_type": "code",
   "execution_count": 42,
   "metadata": {},
   "outputs": [
    {
     "name": "stdout",
     "output_type": "stream",
     "text": [
      "Best r2: 0.85\n",
      "Best Parameters: {'C': 0.5, 'kernel': 'linear'}\n"
     ]
    }
   ],
   "source": [
    "parameters = [{'C': [0.25, 0.5, 0.75, 1], 'kernel': ['linear']},\n",
    "              {'C': [0.25, 0.5, 0.75, 1], 'kernel': ['rbf'], 'gamma': [0.1, 0.2, 0.3, 0.4, 0.5, 0.6, 0.7, 0.8, 0.9]}]\n",
    "\n",
    "grid_search = GridSearchCV(estimator = svr,\n",
    "                           param_grid = parameters,\n",
    "                           scoring = 'r2',\n",
    "                           cv = 10,\n",
    "                           return_train_score = True,\n",
    "                           n_jobs = -1)\n",
    "\n",
    "grid_search.fit(X_train, y_train.ravel())\n",
    "print(\"Best r2: {:.2f}\".format(grid_search.best_score_))\n",
    "print(\"Best Parameters:\", grid_search.best_params_)"
   ]
  },
  {
   "cell_type": "code",
   "execution_count": 43,
   "metadata": {},
   "outputs": [
    {
     "name": "stdout",
     "output_type": "stream",
     "text": [
      "svr r2 score: 0.853\n",
      "svr train r2 score: 0.871\n",
      "svr test r2 score: 0.852\n"
     ]
    }
   ],
   "source": [
    "svr = SVR(kernel='linear', C=0.5)\n",
    "svr.fit(X_train, y_train.ravel())\n",
    "results = cross_val_score(estimator=svr, X=X_train, y=y_train, cv=10, n_jobs=-1)\n",
    "print('svr r2 score: {:.3f}'.format(results.mean()))\n",
    "print('svr train r2 score: {:.3f}'.format(svr.score(X_train, y_train)))\n",
    "print('svr test r2 score: {:.3f}'.format(svr.score(X_test, y_test)))"
   ]
  },
  {
   "cell_type": "markdown",
   "metadata": {},
   "source": [
    "A 4 modell közül a lineáris regresszió és a support vector regression bizonyult a legjobbnak. A továbbiakban a lineáris regressziót használjuk."
   ]
  },
  {
   "cell_type": "markdown",
   "metadata": {},
   "source": [
    "## Prediction"
   ]
  },
  {
   "cell_type": "markdown",
   "metadata": {},
   "source": [
    "Teszteljük a modellt."
   ]
  },
  {
   "cell_type": "code",
   "execution_count": 44,
   "metadata": {},
   "outputs": [
    {
     "data": {
      "text/plain": [
       "24681"
      ]
     },
     "execution_count": 44,
     "metadata": {},
     "output_type": "execute_result"
    }
   ],
   "source": [
    "size = '2.5\"'\n",
    "connection = 'SATA 3'\n",
    "tech = 'TLC'\n",
    "capacity = 512\n",
    "writing = 540\n",
    "reading = 560\n",
    "lights = 'Nem'\n",
    "cooling = 'Nem'\n",
    "\n",
    "num_values = sc.transform([[capacity, writing, reading]])\n",
    "cat_values = oh_encoder.transform(np.array([size, connection, tech, lights, cooling]).reshape(-1, 5))\n",
    "\n",
    "array = []\n",
    "for i in num_values:\n",
    "    for j in i:\n",
    "        array.append(j)\n",
    "for i in cat_values:\n",
    "    for j in i:\n",
    "        array.append(j)\n",
    "\n",
    "result = linear.predict([array])\n",
    "round(sc2.inverse_transform(result)[0][0])"
   ]
  },
  {
   "cell_type": "markdown",
   "metadata": {},
   "source": [
    "## Adatok és objektumok kimentése publikáláshoz"
   ]
  },
  {
   "cell_type": "code",
   "execution_count": 45,
   "metadata": {},
   "outputs": [],
   "source": [
    "filenames = ['finalized_model.sav', 'sc_X.sav', 'sc_y.sav', 'oh_enc.sav']\n",
    "objects = [linear, sc, sc2, oh_encoder]\n",
    "for i in range(len(filenames)):\n",
    "    pickle.dump(objects[i], open('../streamlit/' + filenames[i], 'wb'))\n",
    "\n",
    "df_filtered.to_csv('../streamlit/prepeared_data.csv', index=False, encoding='utf-8')"
   ]
  }
 ],
 "metadata": {
  "kernelspec": {
   "display_name": "Python 3",
   "language": "python",
   "name": "python3"
  },
  "language_info": {
   "codemirror_mode": {
    "name": "ipython",
    "version": 3
   },
   "file_extension": ".py",
   "mimetype": "text/x-python",
   "name": "python",
   "nbconvert_exporter": "python",
   "pygments_lexer": "ipython3",
   "version": "3.8.5"
  }
 },
 "nbformat": 4,
 "nbformat_minor": 4
}
