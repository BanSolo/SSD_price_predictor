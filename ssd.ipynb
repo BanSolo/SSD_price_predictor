{
 "cells": [
  {
   "cell_type": "markdown",
   "metadata": {},
   "source": [
    "## Ennek a projektnek a célja az SSD meghajtókat és tulajdonságaikat tartalmazó adathalmaz alapján megjósolni, hogy adott paraméterek mellett várhatóan mennyibe fog kerülni az SSD."
   ]
  },
  {
   "cell_type": "markdown",
   "metadata": {},
   "source": [
    "Szükséges könyvtárak"
   ]
  },
  {
   "cell_type": "code",
   "execution_count": 255,
   "metadata": {},
   "outputs": [],
   "source": [
    "import pandas as pd\n",
    "import numpy as np\n",
    "import seaborn as sns\n",
    "import matplotlib.pyplot as plt\n",
    "import pickle\n",
    "\n",
    "from sklearn.model_selection import GridSearchCV\n",
    "from sklearn.metrics import mean_squared_error\n",
    "from sklearn.linear_model import LinearRegression\n",
    "from sklearn.tree import DecisionTreeRegressor\n",
    "from sklearn.ensemble import RandomForestRegressor\n",
    "from sklearn.svm import SVR\n",
    "from sklearn.model_selection import cross_val_score\n",
    "from sklearn.model_selection import train_test_split"
   ]
  },
  {
   "cell_type": "markdown",
   "metadata": {},
   "source": [
    "Az adathalmaz"
   ]
  },
  {
   "cell_type": "code",
   "execution_count": 256,
   "metadata": {},
   "outputs": [],
   "source": [
    "df = pd.read_csv('ssd.csv')"
   ]
  },
  {
   "cell_type": "code",
   "execution_count": 257,
   "metadata": {},
   "outputs": [
    {
     "data": {
      "text/html": [
       "<div>\n",
       "<style scoped>\n",
       "    .dataframe tbody tr th:only-of-type {\n",
       "        vertical-align: middle;\n",
       "    }\n",
       "\n",
       "    .dataframe tbody tr th {\n",
       "        vertical-align: top;\n",
       "    }\n",
       "\n",
       "    .dataframe thead th {\n",
       "        text-align: right;\n",
       "    }\n",
       "</style>\n",
       "<table border=\"1\" class=\"dataframe\">\n",
       "  <thead>\n",
       "    <tr style=\"text-align: right;\">\n",
       "      <th></th>\n",
       "      <th>Megnevezés</th>\n",
       "      <th>Méret</th>\n",
       "      <th>Csatlakozás</th>\n",
       "      <th>Technológia</th>\n",
       "      <th>Tároló kapacitás</th>\n",
       "      <th>SSD max írás</th>\n",
       "      <th>SSD max olvasás</th>\n",
       "      <th>TBW</th>\n",
       "      <th>Világítás</th>\n",
       "      <th>Hűtőborda</th>\n",
       "      <th>Ár (FT)</th>\n",
       "      <th>Méretek</th>\n",
       "      <th>PCI-e 4.0 SSD</th>\n",
       "    </tr>\n",
       "  </thead>\n",
       "  <tbody>\n",
       "    <tr>\n",
       "      <th>0</th>\n",
       "      <td>KINGSTON 240GB A400 SATA 3 2.5\" SA400S37/240G</td>\n",
       "      <td>2.5\"</td>\n",
       "      <td>SATA 3</td>\n",
       "      <td>TLC</td>\n",
       "      <td>240 GB</td>\n",
       "      <td>350 MB/s</td>\n",
       "      <td>500 MB/s</td>\n",
       "      <td>80 TB</td>\n",
       "      <td>Nem</td>\n",
       "      <td>Nem</td>\n",
       "      <td>11890</td>\n",
       "      <td>NaN</td>\n",
       "      <td>NaN</td>\n",
       "    </tr>\n",
       "    <tr>\n",
       "      <th>1</th>\n",
       "      <td>KINGSTON 500GB A2000 M.2 PCIe M.2 2280 SA2000M...</td>\n",
       "      <td>M.2 2280</td>\n",
       "      <td>M.2 PCIe</td>\n",
       "      <td>TLC</td>\n",
       "      <td>500 GB</td>\n",
       "      <td>2000 MB/s</td>\n",
       "      <td>2200 MB/s</td>\n",
       "      <td>300 TB</td>\n",
       "      <td>Nem</td>\n",
       "      <td>Nem</td>\n",
       "      <td>22189</td>\n",
       "      <td>80 x 22 x 3.5 mm</td>\n",
       "      <td>NaN</td>\n",
       "    </tr>\n",
       "    <tr>\n",
       "      <th>2</th>\n",
       "      <td>KINGSTON 480GB A400 SATA 3 2.5\" SA400S37/480G</td>\n",
       "      <td>2.5\"</td>\n",
       "      <td>SATA 3</td>\n",
       "      <td>TLC</td>\n",
       "      <td>480 GB</td>\n",
       "      <td>450 MB/s</td>\n",
       "      <td>500 MB/s</td>\n",
       "      <td>160 TB</td>\n",
       "      <td>Nem</td>\n",
       "      <td>Nem</td>\n",
       "      <td>18090</td>\n",
       "      <td>NaN</td>\n",
       "      <td>NaN</td>\n",
       "    </tr>\n",
       "    <tr>\n",
       "      <th>3</th>\n",
       "      <td>KINGSTON 250GB A2000 M.2 PCIe M.2 2280 SA2000M...</td>\n",
       "      <td>M.2 2280</td>\n",
       "      <td>M.2 PCIe</td>\n",
       "      <td>TLC</td>\n",
       "      <td>250 GB</td>\n",
       "      <td>1100 MB/s</td>\n",
       "      <td>2000 MB/s</td>\n",
       "      <td>150 TB</td>\n",
       "      <td>Nem</td>\n",
       "      <td>Nem</td>\n",
       "      <td>14489</td>\n",
       "      <td>80 x 22 x 3.5 mm</td>\n",
       "      <td>NaN</td>\n",
       "    </tr>\n",
       "    <tr>\n",
       "      <th>4</th>\n",
       "      <td>KINGSTON 1TB A2000 M.2 PCIe M.2 2280 SA2000M8/...</td>\n",
       "      <td>M.2 2280</td>\n",
       "      <td>M.2 PCIe</td>\n",
       "      <td>TLC</td>\n",
       "      <td>1000 GB</td>\n",
       "      <td>2000 MB/s</td>\n",
       "      <td>2200 MB/s</td>\n",
       "      <td>600 TB</td>\n",
       "      <td>Nem</td>\n",
       "      <td>Nem</td>\n",
       "      <td>39590</td>\n",
       "      <td>80 x 22 x 3.5 mm</td>\n",
       "      <td>NaN</td>\n",
       "    </tr>\n",
       "    <tr>\n",
       "      <th>...</th>\n",
       "      <td>...</td>\n",
       "      <td>...</td>\n",
       "      <td>...</td>\n",
       "      <td>...</td>\n",
       "      <td>...</td>\n",
       "      <td>...</td>\n",
       "      <td>...</td>\n",
       "      <td>...</td>\n",
       "      <td>...</td>\n",
       "      <td>...</td>\n",
       "      <td>...</td>\n",
       "      <td>...</td>\n",
       "      <td>...</td>\n",
       "    </tr>\n",
       "    <tr>\n",
       "      <th>724</th>\n",
       "      <td>WD 500GB Black SN850 M.2 PCIe M.2 2280 WDBAPY5...</td>\n",
       "      <td>M.2 2280</td>\n",
       "      <td>M.2 PCIe</td>\n",
       "      <td>TLC</td>\n",
       "      <td>500 GB</td>\n",
       "      <td>4100 MB/s</td>\n",
       "      <td>7000 MB/s</td>\n",
       "      <td>300 TB</td>\n",
       "      <td>Nem</td>\n",
       "      <td>Nem</td>\n",
       "      <td>76290</td>\n",
       "      <td>80 x 22 x 2.38 mm</td>\n",
       "      <td>Igen</td>\n",
       "    </tr>\n",
       "    <tr>\n",
       "      <th>725</th>\n",
       "      <td>WD 500GB Blue SN550 NVMe M.2 PCIe M.2 2280 WDB...</td>\n",
       "      <td>M.2 2280</td>\n",
       "      <td>M.2 PCIe</td>\n",
       "      <td>TLC</td>\n",
       "      <td>500 GB</td>\n",
       "      <td>1750 MB/s</td>\n",
       "      <td>2400 MB/s</td>\n",
       "      <td>300 TB</td>\n",
       "      <td>Nem</td>\n",
       "      <td>Nem</td>\n",
       "      <td>64690</td>\n",
       "      <td>80 x 22 x 2.38 mm</td>\n",
       "      <td>NaN</td>\n",
       "    </tr>\n",
       "    <tr>\n",
       "      <th>726</th>\n",
       "      <td>ZADAK 128GB TWSS3 SATA 3 2.5\" ZS128GTWSS3-1</td>\n",
       "      <td>2.5\"</td>\n",
       "      <td>SATA 3</td>\n",
       "      <td>TLC</td>\n",
       "      <td>128 GB</td>\n",
       "      <td>540 MB/s</td>\n",
       "      <td>560 MB/s</td>\n",
       "      <td>0 TB</td>\n",
       "      <td>Nem</td>\n",
       "      <td>Nem</td>\n",
       "      <td>10690</td>\n",
       "      <td>100 x 69.9 x 7 mm</td>\n",
       "      <td>Nem</td>\n",
       "    </tr>\n",
       "    <tr>\n",
       "      <th>727</th>\n",
       "      <td>ZADAK 256GB TWSS3 SATA 3 2.5\" ZS256GTWSS3-1</td>\n",
       "      <td>2.5\"</td>\n",
       "      <td>SATA 3</td>\n",
       "      <td>TLC</td>\n",
       "      <td>256 GB</td>\n",
       "      <td>540 MB/s</td>\n",
       "      <td>560 MB/s</td>\n",
       "      <td>0 TB</td>\n",
       "      <td>Nem</td>\n",
       "      <td>Nem</td>\n",
       "      <td>14089</td>\n",
       "      <td>100 x 69.9 x 7 mm</td>\n",
       "      <td>Nem</td>\n",
       "    </tr>\n",
       "    <tr>\n",
       "      <th>728</th>\n",
       "      <td>ZADAK 512GB TWSS3 SATA 3 2.5\" ZS512GTWSS3-1</td>\n",
       "      <td>2.5\"</td>\n",
       "      <td>SATA 3</td>\n",
       "      <td>TLC</td>\n",
       "      <td>512 GB</td>\n",
       "      <td>540 MB/s</td>\n",
       "      <td>560 MB/s</td>\n",
       "      <td>0 TB</td>\n",
       "      <td>Nem</td>\n",
       "      <td>Nem</td>\n",
       "      <td>24790</td>\n",
       "      <td>100 x 69.9 x 7 mm</td>\n",
       "      <td>Nem</td>\n",
       "    </tr>\n",
       "  </tbody>\n",
       "</table>\n",
       "<p>729 rows × 13 columns</p>\n",
       "</div>"
      ],
      "text/plain": [
       "                                            Megnevezés     Méret Csatlakozás  \\\n",
       "0        KINGSTON 240GB A400 SATA 3 2.5\" SA400S37/240G      2.5\"      SATA 3   \n",
       "1    KINGSTON 500GB A2000 M.2 PCIe M.2 2280 SA2000M...  M.2 2280    M.2 PCIe   \n",
       "2        KINGSTON 480GB A400 SATA 3 2.5\" SA400S37/480G      2.5\"      SATA 3   \n",
       "3    KINGSTON 250GB A2000 M.2 PCIe M.2 2280 SA2000M...  M.2 2280    M.2 PCIe   \n",
       "4    KINGSTON 1TB A2000 M.2 PCIe M.2 2280 SA2000M8/...  M.2 2280    M.2 PCIe   \n",
       "..                                                 ...       ...         ...   \n",
       "724  WD 500GB Black SN850 M.2 PCIe M.2 2280 WDBAPY5...  M.2 2280    M.2 PCIe   \n",
       "725  WD 500GB Blue SN550 NVMe M.2 PCIe M.2 2280 WDB...  M.2 2280    M.2 PCIe   \n",
       "726        ZADAK 128GB TWSS3 SATA 3 2.5\" ZS128GTWSS3-1      2.5\"      SATA 3   \n",
       "727        ZADAK 256GB TWSS3 SATA 3 2.5\" ZS256GTWSS3-1      2.5\"      SATA 3   \n",
       "728        ZADAK 512GB TWSS3 SATA 3 2.5\" ZS512GTWSS3-1      2.5\"      SATA 3   \n",
       "\n",
       "    Technológia Tároló kapacitás SSD max írás SSD max olvasás     TBW  \\\n",
       "0           TLC           240 GB     350 MB/s        500 MB/s   80 TB   \n",
       "1           TLC           500 GB    2000 MB/s       2200 MB/s  300 TB   \n",
       "2           TLC           480 GB     450 MB/s        500 MB/s  160 TB   \n",
       "3           TLC           250 GB    1100 MB/s       2000 MB/s  150 TB   \n",
       "4           TLC          1000 GB    2000 MB/s       2200 MB/s  600 TB   \n",
       "..          ...              ...          ...             ...     ...   \n",
       "724         TLC           500 GB    4100 MB/s       7000 MB/s  300 TB   \n",
       "725         TLC           500 GB    1750 MB/s       2400 MB/s  300 TB   \n",
       "726         TLC           128 GB     540 MB/s        560 MB/s    0 TB   \n",
       "727         TLC           256 GB     540 MB/s        560 MB/s    0 TB   \n",
       "728         TLC           512 GB     540 MB/s        560 MB/s    0 TB   \n",
       "\n",
       "    Világítás Hűtőborda  Ár (FT)            Méretek PCI-e 4.0 SSD  \n",
       "0         Nem       Nem    11890                NaN           NaN  \n",
       "1         Nem       Nem    22189   80 x 22 x 3.5 mm           NaN  \n",
       "2         Nem       Nem    18090                NaN           NaN  \n",
       "3         Nem       Nem    14489   80 x 22 x 3.5 mm           NaN  \n",
       "4         Nem       Nem    39590   80 x 22 x 3.5 mm           NaN  \n",
       "..        ...       ...      ...                ...           ...  \n",
       "724       Nem       Nem    76290  80 x 22 x 2.38 mm          Igen  \n",
       "725       Nem       Nem    64690  80 x 22 x 2.38 mm           NaN  \n",
       "726       Nem       Nem    10690  100 x 69.9 x 7 mm           Nem  \n",
       "727       Nem       Nem    14089  100 x 69.9 x 7 mm           Nem  \n",
       "728       Nem       Nem    24790  100 x 69.9 x 7 mm           Nem  \n",
       "\n",
       "[729 rows x 13 columns]"
      ]
     },
     "execution_count": 257,
     "metadata": {},
     "output_type": "execute_result"
    }
   ],
   "source": [
    "df"
   ]
  },
  {
   "cell_type": "markdown",
   "metadata": {},
   "source": [
    "Először érdemes értelmezni a különböző adatokat.\n",
    "\n",
    "A Megnevezés mező tartalmazza az SSD nevét.\n",
    "\n",
    "A Méret azt, hogy mekkora az SSD mérete.\n",
    "\n",
    "A Csatlakozás azt mondja el, hogy milyen szabványt használ a meghajtó.\n",
    "\n",
    "A Tároló kapacítás az SSD tárhelyét mutatja meg.\n",
    "\n",
    "Az SSD max írás tartalmazza, hogy maximum mekkora sebességgel lehetet adatot írni.\n",
    "\n",
    "Az SSD max olvasás tartalmazza, hogy maximum mekkora sebességgel lehetet adatot olvasni.\n",
    "\n",
    "A TBW a gyártó által megadott maximum írási mennyiség amennyit az SSD elbír.\n",
    "\n",
    "A Világítás azt jelenti rendelkezik-e a termék világítással.\n",
    "\n",
    "A Hűtőborda azt jelenti rendelkezik-e a termék hűtőbordával.\n",
    "\n",
    "Az Ár (FT) a termék ára.\n",
    "\n",
    "A Méretek mutatják meg, hogy a meghajtó milyen fizikai paraméterekkel rendelkezik.\n",
    "\n",
    "A PCI-e 4.0 SSD azt mondja meg, hogy a termék rendelkezik-e ezzel a technológiával."
   ]
  },
  {
   "cell_type": "code",
   "execution_count": 258,
   "metadata": {},
   "outputs": [
    {
     "name": "stdout",
     "output_type": "stream",
     "text": [
      "<class 'pandas.core.frame.DataFrame'>\n",
      "RangeIndex: 729 entries, 0 to 728\n",
      "Data columns (total 13 columns):\n",
      " #   Column            Non-Null Count  Dtype \n",
      "---  ------            --------------  ----- \n",
      " 0   Megnevezés        729 non-null    object\n",
      " 1   Méret             729 non-null    object\n",
      " 2   Csatlakozás       729 non-null    object\n",
      " 3   Technológia       726 non-null    object\n",
      " 4   Tároló kapacitás  729 non-null    object\n",
      " 5   SSD max írás      729 non-null    object\n",
      " 6   SSD max olvasás   729 non-null    object\n",
      " 7   TBW               729 non-null    object\n",
      " 8   Világítás         729 non-null    object\n",
      " 9   Hűtőborda         729 non-null    object\n",
      " 10  Ár (FT)           729 non-null    int64 \n",
      " 11  Méretek           481 non-null    object\n",
      " 12  PCI-e 4.0 SSD     70 non-null     object\n",
      "dtypes: int64(1), object(12)\n",
      "memory usage: 74.2+ KB\n"
     ]
    }
   ],
   "source": [
    "df.info()"
   ]
  },
  {
   "cell_type": "markdown",
   "metadata": {},
   "source": [
    "### Hiányzó értékek"
   ]
  },
  {
   "cell_type": "markdown",
   "metadata": {},
   "source": [
    "Hiányzó értékek az adathalmazban"
   ]
  },
  {
   "cell_type": "code",
   "execution_count": 259,
   "metadata": {
    "scrolled": true
   },
   "outputs": [
    {
     "data": {
      "text/plain": [
       "Megnevezés            0\n",
       "Méret                 0\n",
       "Csatlakozás           0\n",
       "Technológia           3\n",
       "Tároló kapacitás      0\n",
       "SSD max írás          0\n",
       "SSD max olvasás       0\n",
       "TBW                   0\n",
       "Világítás             0\n",
       "Hűtőborda             0\n",
       "Ár (FT)               0\n",
       "Méretek             248\n",
       "PCI-e 4.0 SSD       659\n",
       "dtype: int64"
      ]
     },
     "execution_count": 259,
     "metadata": {},
     "output_type": "execute_result"
    }
   ],
   "source": [
    "df.isnull().sum()"
   ]
  },
  {
   "cell_type": "markdown",
   "metadata": {},
   "source": [
    "Érdemes megnézni százalékos arányban is."
   ]
  },
  {
   "cell_type": "code",
   "execution_count": 260,
   "metadata": {},
   "outputs": [
    {
     "data": {
      "text/plain": [
       "0.41"
      ]
     },
     "execution_count": 260,
     "metadata": {},
     "output_type": "execute_result"
    }
   ],
   "source": [
    "percent = ((df['Technológia'].isnull().sum() / df.shape[0]) * 100).round(2)\n",
    "percent"
   ]
  },
  {
   "cell_type": "markdown",
   "metadata": {},
   "source": [
    "A Technológia mező elhanyagolhatóan kevés hiányzóértéket tartalmaz"
   ]
  },
  {
   "cell_type": "code",
   "execution_count": 261,
   "metadata": {},
   "outputs": [
    {
     "data": {
      "text/plain": [
       "34.02"
      ]
     },
     "execution_count": 261,
     "metadata": {},
     "output_type": "execute_result"
    }
   ],
   "source": [
    "percent = ((df['Méretek'].isnull().sum() / df.shape[0]) * 100).round(2)\n",
    "percent"
   ]
  },
  {
   "cell_type": "code",
   "execution_count": 262,
   "metadata": {},
   "outputs": [
    {
     "data": {
      "text/plain": [
       "90.4"
      ]
     },
     "execution_count": 262,
     "metadata": {},
     "output_type": "execute_result"
    }
   ],
   "source": [
    "percent = ((df['PCI-e 4.0 SSD'].isnull().sum() / df.shape[0]) * 100).round(2)\n",
    "percent"
   ]
  },
  {
   "cell_type": "markdown",
   "metadata": {},
   "source": [
    "A PCI-e 4.0 SSD mezőnek rengetek értéke hiányzik."
   ]
  },
  {
   "cell_type": "code",
   "execution_count": 263,
   "metadata": {},
   "outputs": [],
   "source": [
    "df_droped = df.drop(['Méretek', 'PCI-e 4.0 SSD'], axis=1)\n",
    "df_droped.dropna(inplace=True, axis=0)\n",
    "df_droped.reset_index(drop=True, inplace=True)"
   ]
  },
  {
   "cell_type": "code",
   "execution_count": 264,
   "metadata": {},
   "outputs": [
    {
     "data": {
      "text/plain": [
       "Megnevezés          0\n",
       "Méret               0\n",
       "Csatlakozás         0\n",
       "Technológia         0\n",
       "Tároló kapacitás    0\n",
       "SSD max írás        0\n",
       "SSD max olvasás     0\n",
       "TBW                 0\n",
       "Világítás           0\n",
       "Hűtőborda           0\n",
       "Ár (FT)             0\n",
       "dtype: int64"
      ]
     },
     "execution_count": 264,
     "metadata": {},
     "output_type": "execute_result"
    }
   ],
   "source": [
    "df_droped.isnull().sum()"
   ]
  },
  {
   "cell_type": "code",
   "execution_count": 265,
   "metadata": {},
   "outputs": [
    {
     "data": {
      "text/plain": [
       "(726, 11)"
      ]
     },
     "execution_count": 265,
     "metadata": {},
     "output_type": "execute_result"
    }
   ],
   "source": [
    "df_droped.shape"
   ]
  },
  {
   "cell_type": "markdown",
   "metadata": {},
   "source": [
    "### Redundáns adatok"
   ]
  },
  {
   "cell_type": "code",
   "execution_count": 266,
   "metadata": {},
   "outputs": [
    {
     "data": {
      "text/plain": [
       "0"
      ]
     },
     "execution_count": 266,
     "metadata": {},
     "output_type": "execute_result"
    }
   ],
   "source": [
    "len(df[df.duplicated() == True])"
   ]
  },
  {
   "cell_type": "markdown",
   "metadata": {},
   "source": [
    "Az adathalmaz nem tartalmaz ismétlődő sorokat."
   ]
  },
  {
   "cell_type": "markdown",
   "metadata": {},
   "source": [
    "### Refactorálás"
   ]
  },
  {
   "cell_type": "markdown",
   "metadata": {},
   "source": [
    "A mezők különböző értékei."
   ]
  },
  {
   "cell_type": "code",
   "execution_count": 267,
   "metadata": {},
   "outputs": [
    {
     "name": "stdout",
     "output_type": "stream",
     "text": [
      "Méret\n",
      "['2.5\"' 'M.2 2280' 'mSATA' 'M.2 2242' 'HHHL/PCI Express' 'M.2 2230'\n",
      " 'M.2 2260' 'Half Slim']\n",
      "\n",
      "Csatlakozás\n",
      "['SATA 3' 'M.2 PCIe' 'mSATA' 'M.2 SATA' 'PATA/IDE' 'PCI Express' 'SATA 2']\n",
      "\n",
      "Technológia\n",
      "['TLC' 'MLC' 'Optane' 'QLC']\n",
      "\n",
      "Tároló kapacitás\n",
      "['240 GB' '500 GB' '480 GB' '250 GB' '1000 GB' '256 GB' '32 GB' '120 GB'\n",
      " '960 GB' '512 GB' '2000 GB' '128 GB' '4000 GB' '64 GB' '8000 GB'\n",
      " '1920 GB' '3840 GB' '60 GB' '16 GB']\n",
      "\n",
      "SSD max írás\n",
      "['350 MB/s' '2000 MB/s' '450 MB/s' '1100 MB/s' '3200 MB/s' '2700 MB/s'\n",
      " '650 MB/s' '40 MB/s' '530 MB/s' '500 MB/s' '520 MB/s' '320 MB/s'\n",
      " '2300 MB/s' '3300 MB/s' '510 MB/s' '465 MB/s' '380 MB/s' '3000 MB/s'\n",
      " '298 MB/s' '5000 MB/s' '1000 MB/s' '950 MB/s' '420 MB/s' '1700 MB/s'\n",
      " '2600 MB/s' '430 MB/s' '1925 MB/s' '455 MB/s' '1550 MB/s' '1800 MB/s'\n",
      " '460 MB/s' '490 MB/s' '2100 MB/s' '1950 MB/s' '4250 MB/s' '515 MB/s'\n",
      " '1600 MB/s' '375 MB/s' '2400 MB/s' '540 MB/s' '1750 MB/s' '1200 MB/s'\n",
      " '400 MB/s' '1900 MB/s' '480 MB/s' '300 MB/s' '1500 MB/s' '470 MB/s'\n",
      " '410 MB/s' '550 MB/s' '440 MB/s' '4400 MB/s' '2500 MB/s' '2200 MB/s'\n",
      " '425 MB/s' '1050 MB/s' '1150 MB/s' '940 MB/s' '445 MB/s' '67 MB/s'\n",
      " '200 MB/s' '4100 MB/s' '1400 MB/s' '5300 MB/s' '900 MB/s' '880 MB/s'\n",
      " '1880 MB/s' '2900 MB/s' '1300 MB/s' '600 MB/s' '3080 MB/s' '800 MB/s'\n",
      " '310 MB/s' '5100 MB/s' '6400 MB/s' '495 MB/s' '5500 MB/s' '1625 MB/s'\n",
      " '475 MB/s' '360 MB/s' '3100 MB/s' '850 MB/s' '485 MB/s' '205 MB/s'\n",
      " '1650 MB/s' '525 MB/s' '3700 MB/s' '6550 MB/s' '3950 MB/s' '0 MB/s'\n",
      " '523 MB/s' '2250 MB/s' '1250 MB/s' '505 MB/s' '1670 MB/s' '501 MB/s'\n",
      " '275 MB/s' '274 MB/s' '6489 MB/s' '4300 MB/s' '3050 MB/s' '345 MB/s'\n",
      " '290 MB/s' '535 MB/s' '180 MB/s' '370 MB/s' '150 MB/s' '160 MB/s'\n",
      " '170 MB/s' '80 MB/s']\n",
      "\n",
      "SSD max olvasás\n",
      "['500 MB/s' '2200 MB/s' '2000 MB/s' '3500 MB/s' '1450 MB/s' '260 MB/s'\n",
      " '560 MB/s' '540 MB/s' '550 MB/s' '3400 MB/s' '310 MB/s' '6900 MB/s'\n",
      " '1500 MB/s' '520 MB/s' '1700 MB/s' '1900 MB/s' '7000 MB/s' '3470 MB/s'\n",
      " '1800 MB/s' '2400 MB/s' '2500 MB/s' '4950 MB/s' '555 MB/s' '450 MB/s'\n",
      " '3200 MB/s' '3100 MB/s' '545 MB/s' '6400 MB/s' '3840 MB/s' '3000 MB/s'\n",
      " '530 MB/s' '505 MB/s' '1550 MB/s' '2100 MB/s' '5000 MB/s' '3300 MB/s'\n",
      " '1950 MB/s' '3900 MB/s' '2300 MB/s' '535 MB/s' '120 MB/s' '390 MB/s'\n",
      " '525 MB/s' '1580 MB/s' '3480 MB/s' '2900 MB/s' '1600 MB/s' '2600 MB/s'\n",
      " '480 MB/s' '2650 MB/s' '1200 MB/s' '119 MB/s' '7400 MB/s' '3230 MB/s'\n",
      " '460 MB/s' '950 MB/s' '3450 MB/s' '2700 MB/s' '440 MB/s' '1850 MB/s'\n",
      " '4700 MB/s' '0 MB/s' '2050 MB/s' '561 MB/s' '515 MB/s' '510 MB/s'\n",
      " '1215 MB/s' '2110 MB/s' '2010 MB/s' '2105 MB/s' '2750 MB/s' '503 MB/s'\n",
      " '285 MB/s' '6948 MB/s' '5600 MB/s' '3150 MB/s' '2450 MB/s' '3800 MB/s'\n",
      " '570 MB/s']\n",
      "\n",
      "TBW\n",
      "['80 TB' '300 TB' '160 TB' '150 TB' '600 TB' '1200 TB' '75 TB' '45 TB'\n",
      " '0 TB' '40 TB' '200 TB' '180 TB' '100 TB' '360 TB' '400 TB' '320 TB'\n",
      " '640 TB' '800 TB' '1600 TB' '1800 TB' '295 TB' '720 TB' '60 TB' '1280 TB'\n",
      " '380 TB' '1665 TB' '2200 TB' '350 TB' '140 TB' '50 TB' '2400 TB' '120 TB'\n",
      " '70 TB' '280 TB' '110 TB' '30 TB' '181 TB' '480 TB' '700 TB' '850 TB'\n",
      " '4400 TB' '86 TB' '740 TB' '1440 TB' '65 TB' '500 TB' '3115 TB' '240 TB'\n",
      " '3600 TB' '2560 TB' '2880 TB' '125 TB' '875 TB' '3120 TB' '900 TB'\n",
      " '1750 TB' '250 TB' '1300 TB' '1480 TB' '262 TB' '576 TB' '7000 TB'\n",
      " '288 TB' '1000 TB' '119 TB' '530 TB' '1660 TB' '1120 TB' '960 TB'\n",
      " '210 TB' '560 TB' '835 TB' '2065 TB' '425 TB' '820 TB' '225 TB' '450 TB'\n",
      " '1400 TB' '650 TB' '64 TB' '2500 TB' '84 TB' '128 TB' '168 TB' '256 TB'\n",
      " '4800 TB' '3500 TB' '274 TB' '435 TB' '375 TB' '2800 TB' '2600 TB'\n",
      " '531 TB' '5600 TB' '260 TB' '1700 TB' '550 TB' '90 TB']\n",
      "\n",
      "Világítás\n",
      "['Nem' 'Igen']\n",
      "\n",
      "Hűtőborda\n",
      "['Nem' 'Igen']\n",
      "\n"
     ]
    }
   ],
   "source": [
    "for col in df_droped.columns:\n",
    "    if col != 'Megnevezés' and col != 'Ár (FT)':\n",
    "        print(col)\n",
    "        print(df_droped[col].unique())\n",
    "        print()"
   ]
  },
  {
   "cell_type": "markdown",
   "metadata": {},
   "source": [
    "Láthatóan nincsenenk inkonzisztens adataink, azonban több helyen is numerikus adatokkal szeretnénk számolni a továbbiakban, ezért ezeknek a mezőknek az értékeit formázni kell."
   ]
  },
  {
   "cell_type": "code",
   "execution_count": 268,
   "metadata": {},
   "outputs": [],
   "source": [
    "for i in range(df_droped.shape[0]):\n",
    "    df_droped.loc[i, 'Tároló kapacitás'] = df_droped.loc[i, 'Tároló kapacitás'].replace(' GB', '')\n",
    "    df_droped.loc[i, 'SSD max írás'] = df_droped.loc[i, 'SSD max írás'].replace(' MB/s', '')\n",
    "    df_droped.loc[i, 'SSD max olvasás'] = df_droped.loc[i, 'SSD max olvasás'].replace(' MB/s', '')\n",
    "    df_droped.loc[i, 'TBW'] = df_droped.loc[i, 'TBW'].replace(' TB', '')\n",
    "\n",
    "df_droped.rename(columns={'Tároló kapacitás': 'Tároló kapacitás (GB)'}, inplace=True)\n",
    "df_droped.rename(columns={'SSD max írás': 'SSD max írás (MB/s)'}, inplace=True)\n",
    "df_droped.rename(columns={'SSD max olvasás': 'SSD max olvasás (MB/s)'}, inplace=True)\n",
    "df_droped.rename(columns={'TBW': 'TBW (TB)'}, inplace=True)"
   ]
  },
  {
   "cell_type": "code",
   "execution_count": 269,
   "metadata": {},
   "outputs": [
    {
     "name": "stdout",
     "output_type": "stream",
     "text": [
      "Méret\n",
      "['2.5\"' 'M.2 2280' 'mSATA' 'M.2 2242' 'HHHL/PCI Express' 'M.2 2230'\n",
      " 'M.2 2260' 'Half Slim']\n",
      "\n",
      "Csatlakozás\n",
      "['SATA 3' 'M.2 PCIe' 'mSATA' 'M.2 SATA' 'PATA/IDE' 'PCI Express' 'SATA 2']\n",
      "\n",
      "Technológia\n",
      "['TLC' 'MLC' 'Optane' 'QLC']\n",
      "\n",
      "Tároló kapacitás (GB)\n",
      "['240' '500' '480' '250' '1000' '256' '32' '120' '960' '512' '2000' '128'\n",
      " '4000' '64' '8000' '1920' '3840' '60' '16']\n",
      "\n",
      "SSD max írás (MB/s)\n",
      "['350' '2000' '450' '1100' '3200' '2700' '650' '40' '530' '500' '520'\n",
      " '320' '2300' '3300' '510' '465' '380' '3000' '298' '5000' '1000' '950'\n",
      " '420' '1700' '2600' '430' '1925' '455' '1550' '1800' '460' '490' '2100'\n",
      " '1950' '4250' '515' '1600' '375' '2400' '540' '1750' '1200' '400' '1900'\n",
      " '480' '300' '1500' '470' '410' '550' '440' '4400' '2500' '2200' '425'\n",
      " '1050' '1150' '940' '445' '67' '200' '4100' '1400' '5300' '900' '880'\n",
      " '1880' '2900' '1300' '600' '3080' '800' '310' '5100' '6400' '495' '5500'\n",
      " '1625' '475' '360' '3100' '850' '485' '205' '1650' '525' '3700' '6550'\n",
      " '3950' '0' '523' '2250' '1250' '505' '1670' '501' '275' '274' '6489'\n",
      " '4300' '3050' '345' '290' '535' '180' '370' '150' '160' '170' '80']\n",
      "\n",
      "SSD max olvasás (MB/s)\n",
      "['500' '2200' '2000' '3500' '1450' '260' '560' '540' '550' '3400' '310'\n",
      " '6900' '1500' '520' '1700' '1900' '7000' '3470' '1800' '2400' '2500'\n",
      " '4950' '555' '450' '3200' '3100' '545' '6400' '3840' '3000' '530' '505'\n",
      " '1550' '2100' '5000' '3300' '1950' '3900' '2300' '535' '120' '390' '525'\n",
      " '1580' '3480' '2900' '1600' '2600' '480' '2650' '1200' '119' '7400'\n",
      " '3230' '460' '950' '3450' '2700' '440' '1850' '4700' '0' '2050' '561'\n",
      " '515' '510' '1215' '2110' '2010' '2105' '2750' '503' '285' '6948' '5600'\n",
      " '3150' '2450' '3800' '570']\n",
      "\n",
      "TBW (TB)\n",
      "['80' '300' '160' '150' '600' '1200' '75' '45' '0' '40' '200' '180' '100'\n",
      " '360' '400' '320' '640' '800' '1600' '1800' '295' '720' '60' '1280' '380'\n",
      " '1665' '2200' '350' '140' '50' '2400' '120' '70' '280' '110' '30' '181'\n",
      " '480' '700' '850' '4400' '86' '740' '1440' '65' '500' '3115' '240' '3600'\n",
      " '2560' '2880' '125' '875' '3120' '900' '1750' '250' '1300' '1480' '262'\n",
      " '576' '7000' '288' '1000' '119' '530' '1660' '1120' '960' '210' '560'\n",
      " '835' '2065' '425' '820' '225' '450' '1400' '650' '64' '2500' '84' '128'\n",
      " '168' '256' '4800' '3500' '274' '435' '375' '2800' '2600' '531' '5600'\n",
      " '260' '1700' '550' '90']\n",
      "\n",
      "Világítás\n",
      "['Nem' 'Igen']\n",
      "\n",
      "Hűtőborda\n",
      "['Nem' 'Igen']\n",
      "\n"
     ]
    }
   ],
   "source": [
    "for col in df_droped.columns:\n",
    "    if col != 'Megnevezés' and col != 'Ár (FT)':\n",
    "        print(col)\n",
    "        print(df_droped[col].unique())\n",
    "        print()"
   ]
  },
  {
   "cell_type": "markdown",
   "metadata": {},
   "source": [
    "Végül az adatokat numerikus típussá alakítjuk."
   ]
  },
  {
   "cell_type": "code",
   "execution_count": 270,
   "metadata": {},
   "outputs": [],
   "source": [
    "num_cols = ['Tároló kapacitás (GB)', 'SSD max írás (MB/s)', 'SSD max olvasás (MB/s)', 'TBW (TB)']\n",
    "\n",
    "for col in num_cols:\n",
    "    df_droped[col] = pd.to_numeric(df_droped[col])"
   ]
  },
  {
   "cell_type": "code",
   "execution_count": 271,
   "metadata": {},
   "outputs": [
    {
     "name": "stdout",
     "output_type": "stream",
     "text": [
      "<class 'pandas.core.frame.DataFrame'>\n",
      "RangeIndex: 726 entries, 0 to 725\n",
      "Data columns (total 11 columns):\n",
      " #   Column                  Non-Null Count  Dtype \n",
      "---  ------                  --------------  ----- \n",
      " 0   Megnevezés              726 non-null    object\n",
      " 1   Méret                   726 non-null    object\n",
      " 2   Csatlakozás             726 non-null    object\n",
      " 3   Technológia             726 non-null    object\n",
      " 4   Tároló kapacitás (GB)   726 non-null    int64 \n",
      " 5   SSD max írás (MB/s)     726 non-null    int64 \n",
      " 6   SSD max olvasás (MB/s)  726 non-null    int64 \n",
      " 7   TBW (TB)                726 non-null    int64 \n",
      " 8   Világítás               726 non-null    object\n",
      " 9   Hűtőborda               726 non-null    object\n",
      " 10  Ár (FT)                 726 non-null    int64 \n",
      "dtypes: int64(5), object(6)\n",
      "memory usage: 62.5+ KB\n"
     ]
    }
   ],
   "source": [
    "df_droped.info()"
   ]
  },
  {
   "cell_type": "markdown",
   "metadata": {},
   "source": [
    "A formázás után könnyebben észrevehető, hogy vannak olyan értékek, amik bár nem minősülnek hiányzó adatnak, de nincsenek mérve. Az SSD max írás (MB/s), SSD max olvasás (MB/s) és a TBW (TB) mezők tartalmaznak 0 értékeket.\n",
    "\n",
    "Lássuk mennyi értéket tesznek ki az egész adathalmazból."
   ]
  },
  {
   "cell_type": "code",
   "execution_count": 272,
   "metadata": {},
   "outputs": [
    {
     "data": {
      "text/plain": [
       "6"
      ]
     },
     "execution_count": 272,
     "metadata": {},
     "output_type": "execute_result"
    }
   ],
   "source": [
    "len(df_droped[df_droped['SSD max írás (MB/s)'] == 0])"
   ]
  },
  {
   "cell_type": "code",
   "execution_count": 273,
   "metadata": {},
   "outputs": [
    {
     "data": {
      "text/plain": [
       "4"
      ]
     },
     "execution_count": 273,
     "metadata": {},
     "output_type": "execute_result"
    }
   ],
   "source": [
    "len(df_droped[df_droped['SSD max olvasás (MB/s)'] == 0])"
   ]
  },
  {
   "cell_type": "code",
   "execution_count": 274,
   "metadata": {},
   "outputs": [
    {
     "data": {
      "text/plain": [
       "224"
      ]
     },
     "execution_count": 274,
     "metadata": {},
     "output_type": "execute_result"
    }
   ],
   "source": [
    "len(df_droped[df_droped['TBW (TB)'] == 0])"
   ]
  },
  {
   "cell_type": "code",
   "execution_count": 275,
   "metadata": {},
   "outputs": [
    {
     "data": {
      "text/plain": [
       "226"
      ]
     },
     "execution_count": 275,
     "metadata": {},
     "output_type": "execute_result"
    }
   ],
   "source": [
    "len(df_droped[(df_droped['SSD max írás (MB/s)'] == 0) | (df_droped['SSD max olvasás (MB/s)'] == 0) | (df_droped['TBW (TB)'] == 0)])"
   ]
  },
  {
   "cell_type": "code",
   "execution_count": 276,
   "metadata": {},
   "outputs": [
    {
     "data": {
      "text/plain": [
       "(726, 10)"
      ]
     },
     "execution_count": 276,
     "metadata": {},
     "output_type": "execute_result"
    }
   ],
   "source": [
    "df_droped.drop('TBW (TB)', inplace=True, axis=1)\n",
    "df_droped.shape"
   ]
  },
  {
   "cell_type": "code",
   "execution_count": null,
   "metadata": {},
   "outputs": [],
   "source": []
  },
  {
   "cell_type": "code",
   "execution_count": 277,
   "metadata": {},
   "outputs": [],
   "source": [
    "indexes = df_droped[(df_droped['SSD max írás (MB/s)'] == 0) | (df_droped['SSD max olvasás (MB/s)'] == 0)].index\n",
    "df_droped = df_droped.drop(indexes)\n",
    "df_droped.reset_index(drop=True, inplace=True)"
   ]
  },
  {
   "cell_type": "code",
   "execution_count": 278,
   "metadata": {},
   "outputs": [
    {
     "data": {
      "text/html": [
       "<div>\n",
       "<style scoped>\n",
       "    .dataframe tbody tr th:only-of-type {\n",
       "        vertical-align: middle;\n",
       "    }\n",
       "\n",
       "    .dataframe tbody tr th {\n",
       "        vertical-align: top;\n",
       "    }\n",
       "\n",
       "    .dataframe thead th {\n",
       "        text-align: right;\n",
       "    }\n",
       "</style>\n",
       "<table border=\"1\" class=\"dataframe\">\n",
       "  <thead>\n",
       "    <tr style=\"text-align: right;\">\n",
       "      <th></th>\n",
       "      <th>Megnevezés</th>\n",
       "      <th>Méret</th>\n",
       "      <th>Csatlakozás</th>\n",
       "      <th>Technológia</th>\n",
       "      <th>Tároló kapacitás (GB)</th>\n",
       "      <th>SSD max írás (MB/s)</th>\n",
       "      <th>SSD max olvasás (MB/s)</th>\n",
       "      <th>Világítás</th>\n",
       "      <th>Hűtőborda</th>\n",
       "      <th>Ár (FT)</th>\n",
       "    </tr>\n",
       "  </thead>\n",
       "  <tbody>\n",
       "    <tr>\n",
       "      <th>0</th>\n",
       "      <td>KINGSTON 240GB A400 SATA 3 2.5\" SA400S37/240G</td>\n",
       "      <td>2.5\"</td>\n",
       "      <td>SATA 3</td>\n",
       "      <td>TLC</td>\n",
       "      <td>240</td>\n",
       "      <td>350</td>\n",
       "      <td>500</td>\n",
       "      <td>Nem</td>\n",
       "      <td>Nem</td>\n",
       "      <td>11890</td>\n",
       "    </tr>\n",
       "    <tr>\n",
       "      <th>1</th>\n",
       "      <td>KINGSTON 500GB A2000 M.2 PCIe M.2 2280 SA2000M...</td>\n",
       "      <td>M.2 2280</td>\n",
       "      <td>M.2 PCIe</td>\n",
       "      <td>TLC</td>\n",
       "      <td>500</td>\n",
       "      <td>2000</td>\n",
       "      <td>2200</td>\n",
       "      <td>Nem</td>\n",
       "      <td>Nem</td>\n",
       "      <td>22189</td>\n",
       "    </tr>\n",
       "    <tr>\n",
       "      <th>2</th>\n",
       "      <td>KINGSTON 480GB A400 SATA 3 2.5\" SA400S37/480G</td>\n",
       "      <td>2.5\"</td>\n",
       "      <td>SATA 3</td>\n",
       "      <td>TLC</td>\n",
       "      <td>480</td>\n",
       "      <td>450</td>\n",
       "      <td>500</td>\n",
       "      <td>Nem</td>\n",
       "      <td>Nem</td>\n",
       "      <td>18090</td>\n",
       "    </tr>\n",
       "    <tr>\n",
       "      <th>3</th>\n",
       "      <td>KINGSTON 250GB A2000 M.2 PCIe M.2 2280 SA2000M...</td>\n",
       "      <td>M.2 2280</td>\n",
       "      <td>M.2 PCIe</td>\n",
       "      <td>TLC</td>\n",
       "      <td>250</td>\n",
       "      <td>1100</td>\n",
       "      <td>2000</td>\n",
       "      <td>Nem</td>\n",
       "      <td>Nem</td>\n",
       "      <td>14489</td>\n",
       "    </tr>\n",
       "    <tr>\n",
       "      <th>4</th>\n",
       "      <td>KINGSTON 1TB A2000 M.2 PCIe M.2 2280 SA2000M8/...</td>\n",
       "      <td>M.2 2280</td>\n",
       "      <td>M.2 PCIe</td>\n",
       "      <td>TLC</td>\n",
       "      <td>1000</td>\n",
       "      <td>2000</td>\n",
       "      <td>2200</td>\n",
       "      <td>Nem</td>\n",
       "      <td>Nem</td>\n",
       "      <td>39590</td>\n",
       "    </tr>\n",
       "    <tr>\n",
       "      <th>...</th>\n",
       "      <td>...</td>\n",
       "      <td>...</td>\n",
       "      <td>...</td>\n",
       "      <td>...</td>\n",
       "      <td>...</td>\n",
       "      <td>...</td>\n",
       "      <td>...</td>\n",
       "      <td>...</td>\n",
       "      <td>...</td>\n",
       "      <td>...</td>\n",
       "    </tr>\n",
       "    <tr>\n",
       "      <th>715</th>\n",
       "      <td>WD 500GB Black SN850 M.2 PCIe M.2 2280 WDBAPY5...</td>\n",
       "      <td>M.2 2280</td>\n",
       "      <td>M.2 PCIe</td>\n",
       "      <td>TLC</td>\n",
       "      <td>500</td>\n",
       "      <td>4100</td>\n",
       "      <td>7000</td>\n",
       "      <td>Nem</td>\n",
       "      <td>Nem</td>\n",
       "      <td>76290</td>\n",
       "    </tr>\n",
       "    <tr>\n",
       "      <th>716</th>\n",
       "      <td>WD 500GB Blue SN550 NVMe M.2 PCIe M.2 2280 WDB...</td>\n",
       "      <td>M.2 2280</td>\n",
       "      <td>M.2 PCIe</td>\n",
       "      <td>TLC</td>\n",
       "      <td>500</td>\n",
       "      <td>1750</td>\n",
       "      <td>2400</td>\n",
       "      <td>Nem</td>\n",
       "      <td>Nem</td>\n",
       "      <td>64690</td>\n",
       "    </tr>\n",
       "    <tr>\n",
       "      <th>717</th>\n",
       "      <td>ZADAK 128GB TWSS3 SATA 3 2.5\" ZS128GTWSS3-1</td>\n",
       "      <td>2.5\"</td>\n",
       "      <td>SATA 3</td>\n",
       "      <td>TLC</td>\n",
       "      <td>128</td>\n",
       "      <td>540</td>\n",
       "      <td>560</td>\n",
       "      <td>Nem</td>\n",
       "      <td>Nem</td>\n",
       "      <td>10690</td>\n",
       "    </tr>\n",
       "    <tr>\n",
       "      <th>718</th>\n",
       "      <td>ZADAK 256GB TWSS3 SATA 3 2.5\" ZS256GTWSS3-1</td>\n",
       "      <td>2.5\"</td>\n",
       "      <td>SATA 3</td>\n",
       "      <td>TLC</td>\n",
       "      <td>256</td>\n",
       "      <td>540</td>\n",
       "      <td>560</td>\n",
       "      <td>Nem</td>\n",
       "      <td>Nem</td>\n",
       "      <td>14089</td>\n",
       "    </tr>\n",
       "    <tr>\n",
       "      <th>719</th>\n",
       "      <td>ZADAK 512GB TWSS3 SATA 3 2.5\" ZS512GTWSS3-1</td>\n",
       "      <td>2.5\"</td>\n",
       "      <td>SATA 3</td>\n",
       "      <td>TLC</td>\n",
       "      <td>512</td>\n",
       "      <td>540</td>\n",
       "      <td>560</td>\n",
       "      <td>Nem</td>\n",
       "      <td>Nem</td>\n",
       "      <td>24790</td>\n",
       "    </tr>\n",
       "  </tbody>\n",
       "</table>\n",
       "<p>720 rows × 10 columns</p>\n",
       "</div>"
      ],
      "text/plain": [
       "                                            Megnevezés     Méret Csatlakozás  \\\n",
       "0        KINGSTON 240GB A400 SATA 3 2.5\" SA400S37/240G      2.5\"      SATA 3   \n",
       "1    KINGSTON 500GB A2000 M.2 PCIe M.2 2280 SA2000M...  M.2 2280    M.2 PCIe   \n",
       "2        KINGSTON 480GB A400 SATA 3 2.5\" SA400S37/480G      2.5\"      SATA 3   \n",
       "3    KINGSTON 250GB A2000 M.2 PCIe M.2 2280 SA2000M...  M.2 2280    M.2 PCIe   \n",
       "4    KINGSTON 1TB A2000 M.2 PCIe M.2 2280 SA2000M8/...  M.2 2280    M.2 PCIe   \n",
       "..                                                 ...       ...         ...   \n",
       "715  WD 500GB Black SN850 M.2 PCIe M.2 2280 WDBAPY5...  M.2 2280    M.2 PCIe   \n",
       "716  WD 500GB Blue SN550 NVMe M.2 PCIe M.2 2280 WDB...  M.2 2280    M.2 PCIe   \n",
       "717        ZADAK 128GB TWSS3 SATA 3 2.5\" ZS128GTWSS3-1      2.5\"      SATA 3   \n",
       "718        ZADAK 256GB TWSS3 SATA 3 2.5\" ZS256GTWSS3-1      2.5\"      SATA 3   \n",
       "719        ZADAK 512GB TWSS3 SATA 3 2.5\" ZS512GTWSS3-1      2.5\"      SATA 3   \n",
       "\n",
       "    Technológia  Tároló kapacitás (GB)  SSD max írás (MB/s)  \\\n",
       "0           TLC                    240                  350   \n",
       "1           TLC                    500                 2000   \n",
       "2           TLC                    480                  450   \n",
       "3           TLC                    250                 1100   \n",
       "4           TLC                   1000                 2000   \n",
       "..          ...                    ...                  ...   \n",
       "715         TLC                    500                 4100   \n",
       "716         TLC                    500                 1750   \n",
       "717         TLC                    128                  540   \n",
       "718         TLC                    256                  540   \n",
       "719         TLC                    512                  540   \n",
       "\n",
       "     SSD max olvasás (MB/s) Világítás Hűtőborda  Ár (FT)  \n",
       "0                       500       Nem       Nem    11890  \n",
       "1                      2200       Nem       Nem    22189  \n",
       "2                       500       Nem       Nem    18090  \n",
       "3                      2000       Nem       Nem    14489  \n",
       "4                      2200       Nem       Nem    39590  \n",
       "..                      ...       ...       ...      ...  \n",
       "715                    7000       Nem       Nem    76290  \n",
       "716                    2400       Nem       Nem    64690  \n",
       "717                     560       Nem       Nem    10690  \n",
       "718                     560       Nem       Nem    14089  \n",
       "719                     560       Nem       Nem    24790  \n",
       "\n",
       "[720 rows x 10 columns]"
      ]
     },
     "execution_count": 278,
     "metadata": {},
     "output_type": "execute_result"
    }
   ],
   "source": [
    "df_droped"
   ]
  },
  {
   "cell_type": "markdown",
   "metadata": {},
   "source": [
    "### Outlierek"
   ]
  },
  {
   "cell_type": "code",
   "execution_count": 279,
   "metadata": {},
   "outputs": [
    {
     "data": {
      "text/plain": [
       "<AxesSubplot:>"
      ]
     },
     "execution_count": 279,
     "metadata": {},
     "output_type": "execute_result"
    },
    {
     "data": {
      "image/png": "[encoded data removed]",
      "text/plain": [
       "<Figure size 1152x720 with 1 Axes>"
      ]
     },
     "metadata": {
      "needs_background": "light"
     },
     "output_type": "display_data"
    }
   ],
   "source": [
    "plt.figure(figsize=(16, 10))\n",
    "num_cols = ['Tároló kapacitás (GB)', 'SSD max írás (MB/s)', 'SSD max olvasás (MB/s)', 'Ár (FT)']\n",
    "sns.boxplot(data=df_droped[num_cols])"
   ]
  },
  {
   "cell_type": "code",
   "execution_count": 280,
   "metadata": {},
   "outputs": [
    {
     "data": {
      "text/plain": [
       "<AxesSubplot:>"
      ]
     },
     "execution_count": 280,
     "metadata": {},
     "output_type": "execute_result"
    },
    {
     "data": {
      "image/png": "[encoded data removed]",
      "text/plain": [
       "<Figure size 1152x720 with 1 Axes>"
      ]
     },
     "metadata": {
      "needs_background": "light"
     },
     "output_type": "display_data"
    }
   ],
   "source": [
    "Q1 = df_droped[num_cols].quantile(0.25)\n",
    "Q3 = df_droped[num_cols].quantile(0.75)\n",
    "IQR = Q3 - Q1\n",
    "\n",
    "df_filtered = df_droped[~((df_droped[num_cols] < (Q1 - 1.5 * IQR)) | (df_droped[num_cols] > (Q3 + 1.5 * IQR))).any(axis=1)]\n",
    "\n",
    "plt.figure(figsize=(16, 10))\n",
    "sns.boxplot(data=df_filtered[num_cols])"
   ]
  },
  {
   "cell_type": "code",
   "execution_count": 281,
   "metadata": {},
   "outputs": [
    {
     "data": {
      "text/plain": [
       "(630, 10)"
      ]
     },
     "execution_count": 281,
     "metadata": {},
     "output_type": "execute_result"
    }
   ],
   "source": [
    "df_filtered.shape"
   ]
  },
  {
   "cell_type": "code",
   "execution_count": 282,
   "metadata": {},
   "outputs": [
    {
     "data": {
      "text/plain": [
       "<AxesSubplot:>"
      ]
     },
     "execution_count": 282,
     "metadata": {},
     "output_type": "execute_result"
    },
    {
     "data": {
      "image/png": "[encoded data removed]",
      "text/plain": [
       "<Figure size 1152x720 with 2 Axes>"
      ]
     },
     "metadata": {
      "needs_background": "light"
     },
     "output_type": "display_data"
    }
   ],
   "source": [
    "plt.figure(figsize=(16, 10))\n",
    "sns.heatmap(df_filtered.corr(), annot=True)"
   ]
  },
  {
   "cell_type": "code",
   "execution_count": 283,
   "metadata": {},
   "outputs": [
    {
     "data": {
      "text/plain": [
       "<matplotlib.collections.PathCollection at 0x2463ef46880>"
      ]
     },
     "execution_count": 283,
     "metadata": {},
     "output_type": "execute_result"
    },
    {
     "data": {
      "image/png": "[encoded data removed]",
      "text/plain": [
       "<Figure size 432x288 with 1 Axes>"
      ]
     },
     "metadata": {
      "needs_background": "light"
     },
     "output_type": "display_data"
    }
   ],
   "source": [
    "plt.scatter(df_filtered['Tároló kapacitás (GB)'], df_filtered['Ár (FT)'])"
   ]
  },
  {
   "cell_type": "code",
   "execution_count": 284,
   "metadata": {},
   "outputs": [
    {
     "data": {
      "text/plain": [
       "<matplotlib.collections.PathCollection at 0x2463ebf3be0>"
      ]
     },
     "execution_count": 284,
     "metadata": {},
     "output_type": "execute_result"
    },
    {
     "data": {
      "image/png": "[encoded data removed]",
      "text/plain": [
       "<Figure size 432x288 with 1 Axes>"
      ]
     },
     "metadata": {
      "needs_background": "light"
     },
     "output_type": "display_data"
    }
   ],
   "source": [
    "plt.scatter(df_filtered['SSD max írás (MB/s)'], df_filtered['Ár (FT)'])"
   ]
  },
  {
   "cell_type": "markdown",
   "metadata": {},
   "source": [
    "### Kategorikus mezők \n"
   ]
  },
  {
   "cell_type": "code",
   "execution_count": 285,
   "metadata": {},
   "outputs": [
    {
     "data": {
      "text/html": [
       "<div>\n",
       "<style scoped>\n",
       "    .dataframe tbody tr th:only-of-type {\n",
       "        vertical-align: middle;\n",
       "    }\n",
       "\n",
       "    .dataframe tbody tr th {\n",
       "        vertical-align: top;\n",
       "    }\n",
       "\n",
       "    .dataframe thead th {\n",
       "        text-align: right;\n",
       "    }\n",
       "</style>\n",
       "<table border=\"1\" class=\"dataframe\">\n",
       "  <thead>\n",
       "    <tr style=\"text-align: right;\">\n",
       "      <th></th>\n",
       "      <th>Megnevezés</th>\n",
       "      <th>Méret</th>\n",
       "      <th>Csatlakozás</th>\n",
       "      <th>Technológia</th>\n",
       "      <th>Tároló kapacitás (GB)</th>\n",
       "      <th>SSD max írás (MB/s)</th>\n",
       "      <th>SSD max olvasás (MB/s)</th>\n",
       "      <th>Világítás</th>\n",
       "      <th>Hűtőborda</th>\n",
       "      <th>Ár (FT)</th>\n",
       "    </tr>\n",
       "  </thead>\n",
       "  <tbody>\n",
       "    <tr>\n",
       "      <th>0</th>\n",
       "      <td>KINGSTON 240GB A400 SATA 3 2.5\" SA400S37/240G</td>\n",
       "      <td>2.5\"</td>\n",
       "      <td>SATA 3</td>\n",
       "      <td>TLC</td>\n",
       "      <td>240</td>\n",
       "      <td>350</td>\n",
       "      <td>500</td>\n",
       "      <td>Nem</td>\n",
       "      <td>Nem</td>\n",
       "      <td>11890</td>\n",
       "    </tr>\n",
       "    <tr>\n",
       "      <th>1</th>\n",
       "      <td>KINGSTON 500GB A2000 M.2 PCIe M.2 2280 SA2000M...</td>\n",
       "      <td>M.2 2280</td>\n",
       "      <td>M.2 PCIe</td>\n",
       "      <td>TLC</td>\n",
       "      <td>500</td>\n",
       "      <td>2000</td>\n",
       "      <td>2200</td>\n",
       "      <td>Nem</td>\n",
       "      <td>Nem</td>\n",
       "      <td>22189</td>\n",
       "    </tr>\n",
       "    <tr>\n",
       "      <th>2</th>\n",
       "      <td>KINGSTON 480GB A400 SATA 3 2.5\" SA400S37/480G</td>\n",
       "      <td>2.5\"</td>\n",
       "      <td>SATA 3</td>\n",
       "      <td>TLC</td>\n",
       "      <td>480</td>\n",
       "      <td>450</td>\n",
       "      <td>500</td>\n",
       "      <td>Nem</td>\n",
       "      <td>Nem</td>\n",
       "      <td>18090</td>\n",
       "    </tr>\n",
       "    <tr>\n",
       "      <th>3</th>\n",
       "      <td>KINGSTON 250GB A2000 M.2 PCIe M.2 2280 SA2000M...</td>\n",
       "      <td>M.2 2280</td>\n",
       "      <td>M.2 PCIe</td>\n",
       "      <td>TLC</td>\n",
       "      <td>250</td>\n",
       "      <td>1100</td>\n",
       "      <td>2000</td>\n",
       "      <td>Nem</td>\n",
       "      <td>Nem</td>\n",
       "      <td>14489</td>\n",
       "    </tr>\n",
       "    <tr>\n",
       "      <th>4</th>\n",
       "      <td>KINGSTON 1TB A2000 M.2 PCIe M.2 2280 SA2000M8/...</td>\n",
       "      <td>M.2 2280</td>\n",
       "      <td>M.2 PCIe</td>\n",
       "      <td>TLC</td>\n",
       "      <td>1000</td>\n",
       "      <td>2000</td>\n",
       "      <td>2200</td>\n",
       "      <td>Nem</td>\n",
       "      <td>Nem</td>\n",
       "      <td>39590</td>\n",
       "    </tr>\n",
       "  </tbody>\n",
       "</table>\n",
       "</div>"
      ],
      "text/plain": [
       "                                          Megnevezés     Méret Csatlakozás  \\\n",
       "0      KINGSTON 240GB A400 SATA 3 2.5\" SA400S37/240G      2.5\"      SATA 3   \n",
       "1  KINGSTON 500GB A2000 M.2 PCIe M.2 2280 SA2000M...  M.2 2280    M.2 PCIe   \n",
       "2      KINGSTON 480GB A400 SATA 3 2.5\" SA400S37/480G      2.5\"      SATA 3   \n",
       "3  KINGSTON 250GB A2000 M.2 PCIe M.2 2280 SA2000M...  M.2 2280    M.2 PCIe   \n",
       "4  KINGSTON 1TB A2000 M.2 PCIe M.2 2280 SA2000M8/...  M.2 2280    M.2 PCIe   \n",
       "\n",
       "  Technológia  Tároló kapacitás (GB)  SSD max írás (MB/s)  \\\n",
       "0         TLC                    240                  350   \n",
       "1         TLC                    500                 2000   \n",
       "2         TLC                    480                  450   \n",
       "3         TLC                    250                 1100   \n",
       "4         TLC                   1000                 2000   \n",
       "\n",
       "   SSD max olvasás (MB/s) Világítás Hűtőborda  Ár (FT)  \n",
       "0                     500       Nem       Nem    11890  \n",
       "1                    2200       Nem       Nem    22189  \n",
       "2                     500       Nem       Nem    18090  \n",
       "3                    2000       Nem       Nem    14489  \n",
       "4                    2200       Nem       Nem    39590  "
      ]
     },
     "execution_count": 285,
     "metadata": {},
     "output_type": "execute_result"
    }
   ],
   "source": [
    "df_filtered.head()"
   ]
  },
  {
   "cell_type": "code",
   "execution_count": 286,
   "metadata": {},
   "outputs": [],
   "source": [
    "X = df_filtered.iloc[:, 1: -1]\n",
    "y = df_filtered.iloc[:, -1]\n",
    "y = y.values.reshape(-1, 1)"
   ]
  },
  {
   "cell_type": "code",
   "execution_count": 287,
   "metadata": {},
   "outputs": [
    {
     "data": {
      "text/html": [
       "<div>\n",
       "<style scoped>\n",
       "    .dataframe tbody tr th:only-of-type {\n",
       "        vertical-align: middle;\n",
       "    }\n",
       "\n",
       "    .dataframe tbody tr th {\n",
       "        vertical-align: top;\n",
       "    }\n",
       "\n",
       "    .dataframe thead th {\n",
       "        text-align: right;\n",
       "    }\n",
       "</style>\n",
       "<table border=\"1\" class=\"dataframe\">\n",
       "  <thead>\n",
       "    <tr style=\"text-align: right;\">\n",
       "      <th></th>\n",
       "      <th>Tároló kapacitás (GB)</th>\n",
       "      <th>SSD max írás (MB/s)</th>\n",
       "      <th>SSD max olvasás (MB/s)</th>\n",
       "      <th>0</th>\n",
       "      <th>1</th>\n",
       "      <th>2</th>\n",
       "      <th>3</th>\n",
       "      <th>4</th>\n",
       "      <th>5</th>\n",
       "      <th>6</th>\n",
       "      <th>...</th>\n",
       "      <th>13</th>\n",
       "      <th>14</th>\n",
       "      <th>15</th>\n",
       "      <th>16</th>\n",
       "      <th>17</th>\n",
       "      <th>18</th>\n",
       "      <th>19</th>\n",
       "      <th>20</th>\n",
       "      <th>21</th>\n",
       "      <th>22</th>\n",
       "    </tr>\n",
       "  </thead>\n",
       "  <tbody>\n",
       "    <tr>\n",
       "      <th>0</th>\n",
       "      <td>240</td>\n",
       "      <td>350</td>\n",
       "      <td>500</td>\n",
       "      <td>1.0</td>\n",
       "      <td>0.0</td>\n",
       "      <td>0.0</td>\n",
       "      <td>0.0</td>\n",
       "      <td>0.0</td>\n",
       "      <td>0.0</td>\n",
       "      <td>0.0</td>\n",
       "      <td>...</td>\n",
       "      <td>1.0</td>\n",
       "      <td>0.0</td>\n",
       "      <td>0.0</td>\n",
       "      <td>0.0</td>\n",
       "      <td>0.0</td>\n",
       "      <td>1.0</td>\n",
       "      <td>0.0</td>\n",
       "      <td>1.0</td>\n",
       "      <td>0.0</td>\n",
       "      <td>1.0</td>\n",
       "    </tr>\n",
       "    <tr>\n",
       "      <th>1</th>\n",
       "      <td>500</td>\n",
       "      <td>2000</td>\n",
       "      <td>2200</td>\n",
       "      <td>0.0</td>\n",
       "      <td>0.0</td>\n",
       "      <td>0.0</td>\n",
       "      <td>0.0</td>\n",
       "      <td>0.0</td>\n",
       "      <td>0.0</td>\n",
       "      <td>1.0</td>\n",
       "      <td>...</td>\n",
       "      <td>0.0</td>\n",
       "      <td>0.0</td>\n",
       "      <td>0.0</td>\n",
       "      <td>0.0</td>\n",
       "      <td>0.0</td>\n",
       "      <td>1.0</td>\n",
       "      <td>0.0</td>\n",
       "      <td>1.0</td>\n",
       "      <td>0.0</td>\n",
       "      <td>1.0</td>\n",
       "    </tr>\n",
       "    <tr>\n",
       "      <th>2</th>\n",
       "      <td>480</td>\n",
       "      <td>450</td>\n",
       "      <td>500</td>\n",
       "      <td>1.0</td>\n",
       "      <td>0.0</td>\n",
       "      <td>0.0</td>\n",
       "      <td>0.0</td>\n",
       "      <td>0.0</td>\n",
       "      <td>0.0</td>\n",
       "      <td>0.0</td>\n",
       "      <td>...</td>\n",
       "      <td>1.0</td>\n",
       "      <td>0.0</td>\n",
       "      <td>0.0</td>\n",
       "      <td>0.0</td>\n",
       "      <td>0.0</td>\n",
       "      <td>1.0</td>\n",
       "      <td>0.0</td>\n",
       "      <td>1.0</td>\n",
       "      <td>0.0</td>\n",
       "      <td>1.0</td>\n",
       "    </tr>\n",
       "    <tr>\n",
       "      <th>3</th>\n",
       "      <td>250</td>\n",
       "      <td>1100</td>\n",
       "      <td>2000</td>\n",
       "      <td>0.0</td>\n",
       "      <td>0.0</td>\n",
       "      <td>0.0</td>\n",
       "      <td>0.0</td>\n",
       "      <td>0.0</td>\n",
       "      <td>0.0</td>\n",
       "      <td>1.0</td>\n",
       "      <td>...</td>\n",
       "      <td>0.0</td>\n",
       "      <td>0.0</td>\n",
       "      <td>0.0</td>\n",
       "      <td>0.0</td>\n",
       "      <td>0.0</td>\n",
       "      <td>1.0</td>\n",
       "      <td>0.0</td>\n",
       "      <td>1.0</td>\n",
       "      <td>0.0</td>\n",
       "      <td>1.0</td>\n",
       "    </tr>\n",
       "    <tr>\n",
       "      <th>4</th>\n",
       "      <td>1000</td>\n",
       "      <td>2000</td>\n",
       "      <td>2200</td>\n",
       "      <td>0.0</td>\n",
       "      <td>0.0</td>\n",
       "      <td>0.0</td>\n",
       "      <td>0.0</td>\n",
       "      <td>0.0</td>\n",
       "      <td>0.0</td>\n",
       "      <td>1.0</td>\n",
       "      <td>...</td>\n",
       "      <td>0.0</td>\n",
       "      <td>0.0</td>\n",
       "      <td>0.0</td>\n",
       "      <td>0.0</td>\n",
       "      <td>0.0</td>\n",
       "      <td>1.0</td>\n",
       "      <td>0.0</td>\n",
       "      <td>1.0</td>\n",
       "      <td>0.0</td>\n",
       "      <td>1.0</td>\n",
       "    </tr>\n",
       "    <tr>\n",
       "      <th>...</th>\n",
       "      <td>...</td>\n",
       "      <td>...</td>\n",
       "      <td>...</td>\n",
       "      <td>...</td>\n",
       "      <td>...</td>\n",
       "      <td>...</td>\n",
       "      <td>...</td>\n",
       "      <td>...</td>\n",
       "      <td>...</td>\n",
       "      <td>...</td>\n",
       "      <td>...</td>\n",
       "      <td>...</td>\n",
       "      <td>...</td>\n",
       "      <td>...</td>\n",
       "      <td>...</td>\n",
       "      <td>...</td>\n",
       "      <td>...</td>\n",
       "      <td>...</td>\n",
       "      <td>...</td>\n",
       "      <td>...</td>\n",
       "      <td>...</td>\n",
       "    </tr>\n",
       "    <tr>\n",
       "      <th>709</th>\n",
       "      <td>250</td>\n",
       "      <td>1300</td>\n",
       "      <td>1700</td>\n",
       "      <td>0.0</td>\n",
       "      <td>0.0</td>\n",
       "      <td>0.0</td>\n",
       "      <td>0.0</td>\n",
       "      <td>0.0</td>\n",
       "      <td>0.0</td>\n",
       "      <td>1.0</td>\n",
       "      <td>...</td>\n",
       "      <td>0.0</td>\n",
       "      <td>0.0</td>\n",
       "      <td>0.0</td>\n",
       "      <td>0.0</td>\n",
       "      <td>0.0</td>\n",
       "      <td>1.0</td>\n",
       "      <td>0.0</td>\n",
       "      <td>1.0</td>\n",
       "      <td>0.0</td>\n",
       "      <td>1.0</td>\n",
       "    </tr>\n",
       "    <tr>\n",
       "      <th>716</th>\n",
       "      <td>500</td>\n",
       "      <td>1750</td>\n",
       "      <td>2400</td>\n",
       "      <td>0.0</td>\n",
       "      <td>0.0</td>\n",
       "      <td>0.0</td>\n",
       "      <td>0.0</td>\n",
       "      <td>0.0</td>\n",
       "      <td>0.0</td>\n",
       "      <td>1.0</td>\n",
       "      <td>...</td>\n",
       "      <td>0.0</td>\n",
       "      <td>0.0</td>\n",
       "      <td>0.0</td>\n",
       "      <td>0.0</td>\n",
       "      <td>0.0</td>\n",
       "      <td>1.0</td>\n",
       "      <td>0.0</td>\n",
       "      <td>1.0</td>\n",
       "      <td>0.0</td>\n",
       "      <td>1.0</td>\n",
       "    </tr>\n",
       "    <tr>\n",
       "      <th>717</th>\n",
       "      <td>128</td>\n",
       "      <td>540</td>\n",
       "      <td>560</td>\n",
       "      <td>1.0</td>\n",
       "      <td>0.0</td>\n",
       "      <td>0.0</td>\n",
       "      <td>0.0</td>\n",
       "      <td>0.0</td>\n",
       "      <td>0.0</td>\n",
       "      <td>0.0</td>\n",
       "      <td>...</td>\n",
       "      <td>1.0</td>\n",
       "      <td>0.0</td>\n",
       "      <td>0.0</td>\n",
       "      <td>0.0</td>\n",
       "      <td>0.0</td>\n",
       "      <td>1.0</td>\n",
       "      <td>0.0</td>\n",
       "      <td>1.0</td>\n",
       "      <td>0.0</td>\n",
       "      <td>1.0</td>\n",
       "    </tr>\n",
       "    <tr>\n",
       "      <th>718</th>\n",
       "      <td>256</td>\n",
       "      <td>540</td>\n",
       "      <td>560</td>\n",
       "      <td>1.0</td>\n",
       "      <td>0.0</td>\n",
       "      <td>0.0</td>\n",
       "      <td>0.0</td>\n",
       "      <td>0.0</td>\n",
       "      <td>0.0</td>\n",
       "      <td>0.0</td>\n",
       "      <td>...</td>\n",
       "      <td>1.0</td>\n",
       "      <td>0.0</td>\n",
       "      <td>0.0</td>\n",
       "      <td>0.0</td>\n",
       "      <td>0.0</td>\n",
       "      <td>1.0</td>\n",
       "      <td>0.0</td>\n",
       "      <td>1.0</td>\n",
       "      <td>0.0</td>\n",
       "      <td>1.0</td>\n",
       "    </tr>\n",
       "    <tr>\n",
       "      <th>719</th>\n",
       "      <td>512</td>\n",
       "      <td>540</td>\n",
       "      <td>560</td>\n",
       "      <td>1.0</td>\n",
       "      <td>0.0</td>\n",
       "      <td>0.0</td>\n",
       "      <td>0.0</td>\n",
       "      <td>0.0</td>\n",
       "      <td>0.0</td>\n",
       "      <td>0.0</td>\n",
       "      <td>...</td>\n",
       "      <td>1.0</td>\n",
       "      <td>0.0</td>\n",
       "      <td>0.0</td>\n",
       "      <td>0.0</td>\n",
       "      <td>0.0</td>\n",
       "      <td>1.0</td>\n",
       "      <td>0.0</td>\n",
       "      <td>1.0</td>\n",
       "      <td>0.0</td>\n",
       "      <td>1.0</td>\n",
       "    </tr>\n",
       "  </tbody>\n",
       "</table>\n",
       "<p>630 rows × 26 columns</p>\n",
       "</div>"
      ],
      "text/plain": [
       "     Tároló kapacitás (GB)  SSD max írás (MB/s)  SSD max olvasás (MB/s)    0  \\\n",
       "0                      240                  350                     500  1.0   \n",
       "1                      500                 2000                    2200  0.0   \n",
       "2                      480                  450                     500  1.0   \n",
       "3                      250                 1100                    2000  0.0   \n",
       "4                     1000                 2000                    2200  0.0   \n",
       "..                     ...                  ...                     ...  ...   \n",
       "709                    250                 1300                    1700  0.0   \n",
       "716                    500                 1750                    2400  0.0   \n",
       "717                    128                  540                     560  1.0   \n",
       "718                    256                  540                     560  1.0   \n",
       "719                    512                  540                     560  1.0   \n",
       "\n",
       "       1    2    3    4    5    6  ...   13   14   15   16   17   18   19  \\\n",
       "0    0.0  0.0  0.0  0.0  0.0  0.0  ...  1.0  0.0  0.0  0.0  0.0  1.0  0.0   \n",
       "1    0.0  0.0  0.0  0.0  0.0  1.0  ...  0.0  0.0  0.0  0.0  0.0  1.0  0.0   \n",
       "2    0.0  0.0  0.0  0.0  0.0  0.0  ...  1.0  0.0  0.0  0.0  0.0  1.0  0.0   \n",
       "3    0.0  0.0  0.0  0.0  0.0  1.0  ...  0.0  0.0  0.0  0.0  0.0  1.0  0.0   \n",
       "4    0.0  0.0  0.0  0.0  0.0  1.0  ...  0.0  0.0  0.0  0.0  0.0  1.0  0.0   \n",
       "..   ...  ...  ...  ...  ...  ...  ...  ...  ...  ...  ...  ...  ...  ...   \n",
       "709  0.0  0.0  0.0  0.0  0.0  1.0  ...  0.0  0.0  0.0  0.0  0.0  1.0  0.0   \n",
       "716  0.0  0.0  0.0  0.0  0.0  1.0  ...  0.0  0.0  0.0  0.0  0.0  1.0  0.0   \n",
       "717  0.0  0.0  0.0  0.0  0.0  0.0  ...  1.0  0.0  0.0  0.0  0.0  1.0  0.0   \n",
       "718  0.0  0.0  0.0  0.0  0.0  0.0  ...  1.0  0.0  0.0  0.0  0.0  1.0  0.0   \n",
       "719  0.0  0.0  0.0  0.0  0.0  0.0  ...  1.0  0.0  0.0  0.0  0.0  1.0  0.0   \n",
       "\n",
       "      20   21   22  \n",
       "0    1.0  0.0  1.0  \n",
       "1    1.0  0.0  1.0  \n",
       "2    1.0  0.0  1.0  \n",
       "3    1.0  0.0  1.0  \n",
       "4    1.0  0.0  1.0  \n",
       "..   ...  ...  ...  \n",
       "709  1.0  0.0  1.0  \n",
       "716  1.0  0.0  1.0  \n",
       "717  1.0  0.0  1.0  \n",
       "718  1.0  0.0  1.0  \n",
       "719  1.0  0.0  1.0  \n",
       "\n",
       "[630 rows x 26 columns]"
      ]
     },
     "execution_count": 287,
     "metadata": {},
     "output_type": "execute_result"
    }
   ],
   "source": [
    "from sklearn.preprocessing import OneHotEncoder\n",
    "\n",
    "OH_encoder = OneHotEncoder(handle_unknown='ignore', sparse=False)\n",
    "OH_cols = pd.DataFrame(OH_encoder.fit_transform(X[['Méret', 'Csatlakozás', 'Technológia', 'Világítás', 'Hűtőborda']]))\n",
    "\n",
    "# One-hot encoding removed index; put it back\n",
    "OH_cols.index = X.index\n",
    "\n",
    "\n",
    "num_X = X.drop(['Méret', 'Csatlakozás', 'Technológia', 'Világítás', 'Hűtőborda'], axis=1)\n",
    "\n",
    "# Add one-hot encoded columns to numerical features\n",
    "OH_X = pd.concat([num_X, OH_cols], axis=1)\n",
    "OH_X"
   ]
  },
  {
   "cell_type": "code",
   "execution_count": 288,
   "metadata": {
    "scrolled": true
   },
   "outputs": [
    {
     "data": {
      "text/plain": [
       "array([[1., 0., 0., 0., 0., 0., 0., 0., 0., 0., 0., 0., 0., 1., 0., 0.,\n",
       "        0., 0., 1., 0., 1., 0., 1.]])"
      ]
     },
     "execution_count": 288,
     "metadata": {},
     "output_type": "execute_result"
    }
   ],
   "source": [
    "OH_encoder.transform(np.array(['2.5\"', 'SATA 3', 'TLC', 'Nem', 'Nem']).reshape(-1, 5))"
   ]
  },
  {
   "cell_type": "code",
   "execution_count": 289,
   "metadata": {},
   "outputs": [
    {
     "data": {
      "text/plain": [
       "array([['2.5\"', 'SATA 3', 'TLC', 'Nem', 'Nem']], dtype=object)"
      ]
     },
     "execution_count": 289,
     "metadata": {},
     "output_type": "execute_result"
    }
   ],
   "source": [
    "OH_encoder.inverse_transform([[1., 0., 0., 0., 0., 0., 0., 0., 0., 0., 0., 0., 0., 1., 0., 0.,\n",
    "        0., 0., 1., 0., 1., 0., 1.]])"
   ]
  },
  {
   "cell_type": "markdown",
   "metadata": {},
   "source": [
    "### Tanító és teszt halmazra darabolás"
   ]
  },
  {
   "cell_type": "code",
   "execution_count": 314,
   "metadata": {},
   "outputs": [],
   "source": [
    "X_train, X_test, y_train, y_test = train_test_split(OH_X.values, y, test_size=0.3, random_state=41)"
   ]
  },
  {
   "cell_type": "markdown",
   "metadata": {},
   "source": [
    "### Standardizálás"
   ]
  },
  {
   "cell_type": "code",
   "execution_count": 315,
   "metadata": {},
   "outputs": [],
   "source": [
    "from sklearn.preprocessing import StandardScaler\n",
    "sc = StandardScaler()\n",
    "sc2 = StandardScaler()\n",
    "X_train[:, :3] = sc.fit_transform(X_train[:, :3])\n",
    "X_test[:, :3] = sc.transform(X_test[:, :3])\n",
    "y_train = sc2.fit_transform(y_train)\n",
    "y_test = sc2.transform(y_test)"
   ]
  },
  {
   "cell_type": "code",
   "execution_count": 316,
   "metadata": {},
   "outputs": [
    {
     "data": {
      "text/plain": [
       "array([-0.08823952])"
      ]
     },
     "execution_count": 316,
     "metadata": {},
     "output_type": "execute_result"
    }
   ],
   "source": [
    "y_test[0]"
   ]
  },
  {
   "cell_type": "markdown",
   "metadata": {},
   "source": [
    "## Modellek"
   ]
  },
  {
   "cell_type": "markdown",
   "metadata": {},
   "source": [
    "### Linear regression"
   ]
  },
  {
   "cell_type": "code",
   "execution_count": 336,
   "metadata": {},
   "outputs": [
    {
     "name": "stdout",
     "output_type": "stream",
     "text": [
      "r2 scoe: 0.86\n"
     ]
    }
   ],
   "source": [
    "linear = LinearRegression()\n",
    "results = cross_val_score(estimator=linear, X=X_train, y=y_train, cv=10, n_jobs=-1)\n",
    "print('r2 scoe: {:.2f}'.format(results.mean()))"
   ]
  },
  {
   "cell_type": "code",
   "execution_count": 338,
   "metadata": {},
   "outputs": [
    {
     "name": "stdout",
     "output_type": "stream",
     "text": [
      "r2 scoe: 0.844\n"
     ]
    }
   ],
   "source": [
    "linear = LinearRegression()\n",
    "linear.fit(X_train, y_train)\n",
    "y_pred = linear.predict(X_test)\n",
    "\n",
    "#mean_squared_error(y_test, y_pred)\n",
    "print('r2 scoe: {:.3f}'.format(linear.score(X_test, y_test)))"
   ]
  },
  {
   "cell_type": "code",
   "execution_count": 339,
   "metadata": {},
   "outputs": [
    {
     "data": {
      "text/plain": [
       "0.0672305433655424"
      ]
     },
     "execution_count": 339,
     "metadata": {},
     "output_type": "execute_result"
    }
   ],
   "source": [
    "results.std()"
   ]
  },
  {
   "cell_type": "markdown",
   "metadata": {},
   "source": [
    "### Decision tree regressor"
   ]
  },
  {
   "cell_type": "code",
   "execution_count": 320,
   "metadata": {},
   "outputs": [
    {
     "name": "stdout",
     "output_type": "stream",
     "text": [
      "r2 scoe: 0.81\n"
     ]
    }
   ],
   "source": [
    "tree = DecisionTreeRegressor()\n",
    "results = cross_val_score(estimator=tree, X=X_train, y=y_train, cv=10, n_jobs=-1)\n",
    "print('r2 scoe: {:.2f}'.format(results.mean()))"
   ]
  },
  {
   "cell_type": "markdown",
   "metadata": {},
   "source": [
    "Hyperparameter tuning"
   ]
  },
  {
   "cell_type": "code",
   "execution_count": 321,
   "metadata": {},
   "outputs": [
    {
     "name": "stdout",
     "output_type": "stream",
     "text": [
      "\n",
      "Best r2: 0.51\n",
      "Best Parameters: {'max_depth': 90, 'max_features': 3, 'min_samples_leaf': 4, 'min_samples_split': 8}\n",
      "\n"
     ]
    }
   ],
   "source": [
    "parameters = {\n",
    "    'max_depth': [80, 90, 100, 110],\n",
    "    'max_features': [2, 3],\n",
    "    'min_samples_leaf': [3, 4, 5],\n",
    "    'min_samples_split': [8, 10, 12]\n",
    "}\n",
    "\n",
    "grid_search = GridSearchCV(estimator = tree,\n",
    "                           param_grid = parameters,\n",
    "                           scoring = 'r2',\n",
    "                           cv = 10,\n",
    "                           return_train_score = True,\n",
    "                           n_jobs = -1)\n",
    "\n",
    "grid_search.fit(X_train, y_train.ravel())\n",
    "best_r2 = grid_search.best_score_\n",
    "best_parameters = grid_search.best_params_\n",
    "print()\n",
    "print(\"Best r2: {:.2f}\".format(best_r2))\n",
    "print(\"Best Parameters:\", best_parameters)\n",
    "print()"
   ]
  },
  {
   "cell_type": "code",
   "execution_count": 322,
   "metadata": {},
   "outputs": [
    {
     "name": "stdout",
     "output_type": "stream",
     "text": [
      "r2 scoe: 0.828\n"
     ]
    }
   ],
   "source": [
    "tree = DecisionTreeRegressor()\n",
    "tree.fit(X_train, y_train)\n",
    "y_pred = tree.predict(X_test)\n",
    "\n",
    "#mean_squared_error(y_test, y_pred)\n",
    "print('r2 scoe: {:.3f}'.format(tree.score(X_test, y_test)))"
   ]
  },
  {
   "cell_type": "markdown",
   "metadata": {},
   "source": [
    "### Random forest regressor"
   ]
  },
  {
   "cell_type": "code",
   "execution_count": 323,
   "metadata": {},
   "outputs": [
    {
     "name": "stdout",
     "output_type": "stream",
     "text": [
      "r2 scoe: 0.85\n"
     ]
    }
   ],
   "source": [
    "forest = RandomForestRegressor()\n",
    "results = cross_val_score(estimator=forest, X=X_train, y=y_train, cv=10, n_jobs=-1)\n",
    "print('r2 scoe: {:.2f}'.format(results.mean()))"
   ]
  },
  {
   "cell_type": "markdown",
   "metadata": {},
   "source": [
    "Hyperparameter tuning"
   ]
  },
  {
   "cell_type": "code",
   "execution_count": 324,
   "metadata": {},
   "outputs": [
    {
     "ename": "SyntaxError",
     "evalue": "invalid syntax (<ipython-input-324-23d5d6367af1>, line 4)",
     "output_type": "error",
     "traceback": [
      "\u001b[1;36m  File \u001b[1;32m\"<ipython-input-324-23d5d6367af1>\"\u001b[1;36m, line \u001b[1;32m4\u001b[0m\n\u001b[1;33m    Hyperparameter tuning'min_samples_leaf': [1, 2, 3, 4, 5],\u001b[0m\n\u001b[1;37m                   ^\u001b[0m\n\u001b[1;31mSyntaxError\u001b[0m\u001b[1;31m:\u001b[0m invalid syntax\n"
     ]
    }
   ],
   "source": [
    "parameters = {\n",
    "    'max_depth': [None, 10, 15, 20, 30, 50],\n",
    "    'max_features': [None, 5, 10],\n",
    "    'min_samples_leaf': [1, 2, 3, 4, 5],\n",
    "    'min_samples_split': [1, 2, 8, 10, 12]\n",
    "}\n",
    "\n",
    "grid_search = GridSearchCV(estimator = forest,\n",
    "                           param_grid = parameters,\n",
    "                           scoring = 'r2',\n",
    "                           cv = 10,\n",
    "                           return_train_score = True,\n",
    "                           n_jobs = -1)\n",
    "\n",
    "grid_search.fit(X_train, y_train.ravel())\n",
    "best_r2 = grid_search.best_score_\n",
    "best_parameters = grid_search.best_params_\n",
    "print()\n",
    "print(\"Best r2: {:.3f}\".format(best_r2))\n",
    "print(\"Best Parameters:\", best_parameters)\n",
    "print()"
   ]
  },
  {
   "cell_type": "code",
   "execution_count": 333,
   "metadata": {},
   "outputs": [
    {
     "name": "stdout",
     "output_type": "stream",
     "text": [
      "r2 scoe: 0.843\n"
     ]
    }
   ],
   "source": [
    "forest = RandomForestRegressor(n_estimators=100, max_depth=110, min_samples_split=5)\n",
    "forest.fit(X_train, y_train.ravel())\n",
    "y_pred = forest.predict(X_test)\n",
    "\n",
    "#mean_squared_error(y_test, y_pred)\n",
    "print('r2 scoe: {:.3f}'.format(forest.score(X_test, y_test)))"
   ]
  },
  {
   "cell_type": "code",
   "execution_count": 327,
   "metadata": {},
   "outputs": [
    {
     "name": "stdout",
     "output_type": "stream",
     "text": [
      "r2 scoe: 0.77\n"
     ]
    }
   ],
   "source": [
    "forest = RandomForestRegressor(n_estimators=100, max_depth=110, min_samples_split=5)\n",
    "results = cross_val_score(estimator=forest, X=X_test, y=y_test, cv=10, n_jobs=-1)\n",
    "print('r2 scoe: {:.2f}'.format(results.mean()))"
   ]
  },
  {
   "cell_type": "markdown",
   "metadata": {},
   "source": [
    "### Support vector regressor"
   ]
  },
  {
   "cell_type": "code",
   "execution_count": 328,
   "metadata": {},
   "outputs": [
    {
     "name": "stdout",
     "output_type": "stream",
     "text": [
      "r2 scoe: 0.85\n"
     ]
    }
   ],
   "source": [
    "svr = SVR()\n",
    "results = cross_val_score(estimator=svr, X=X_train, y=y_train, cv=10, n_jobs=-1)\n",
    "print('r2 scoe: {:.2f}'.format(results.mean()))"
   ]
  },
  {
   "cell_type": "markdown",
   "metadata": {},
   "source": [
    "Hyperparameter tuning"
   ]
  },
  {
   "cell_type": "code",
   "execution_count": 329,
   "metadata": {},
   "outputs": [
    {
     "name": "stdout",
     "output_type": "stream",
     "text": [
      "Best r2: 0.85\n",
      "Best Parameters: {'C': 0.5, 'kernel': 'linear'}\n"
     ]
    }
   ],
   "source": [
    "parameters = [{'C': [0.25, 0.5, 0.75, 1], 'kernel': ['linear']},\n",
    "              {'C': [0.25, 0.5, 0.75, 1], 'kernel': ['rbf'], 'gamma': [0.1, 0.2, 0.3, 0.4, 0.5, 0.6, 0.7, 0.8, 0.9]}]\n",
    "\n",
    "grid_search = GridSearchCV(estimator = svr,\n",
    "                           param_grid = parameters,\n",
    "                           scoring = 'r2',\n",
    "                           cv = 10,\n",
    "                           return_train_score = True,\n",
    "                           n_jobs = -1)\n",
    "\n",
    "grid_search.fit(X_train, y_train.ravel())\n",
    "print(\"Best r2: {:.2f}\".format(grid_search.best_score_))\n",
    "print(\"Best Parameters:\", grid_search.best_params_)"
   ]
  },
  {
   "cell_type": "code",
   "execution_count": 330,
   "metadata": {},
   "outputs": [
    {
     "name": "stdout",
     "output_type": "stream",
     "text": [
      "r2 scoe: 0.837\n"
     ]
    }
   ],
   "source": [
    "svr = SVR(kernel='linear', C=0.5)\n",
    "svr.fit(X_train, y_train.ravel())\n",
    "y_pred = svr.predict(X_test)\n",
    "\n",
    "#mean_squared_error(y_test, y_pred)\n",
    "print('r2 scoe: {:.3f}'.format(svr.score(X_test, y_test)))"
   ]
  },
  {
   "cell_type": "markdown",
   "metadata": {},
   "source": [
    "### Predict"
   ]
  },
  {
   "cell_type": "code",
   "execution_count": 114,
   "metadata": {},
   "outputs": [],
   "source": [
    "#OH_encoder.transform(np.array(['2.5\"', 'SATA 3', 'TLC', 'Nem', 'Nem']).reshape(-1, 5))"
   ]
  },
  {
   "cell_type": "markdown",
   "metadata": {},
   "source": [
    "Ha minden mezo skalazva van."
   ]
  },
  {
   "cell_type": "code",
   "execution_count": 331,
   "metadata": {},
   "outputs": [
    {
     "data": {
      "text/plain": [
       "array([15580.21656089])"
      ]
     },
     "execution_count": 331,
     "metadata": {},
     "output_type": "execute_result"
    }
   ],
   "source": [
    "num_values = sc.transform([[250, 1100, 2000]])\n",
    "cat_values = OH_encoder.transform(np.array(['M.2 2280', 'M.2 PCIe', 'TLC', 'Nem', 'Nem']).reshape(-1, 5))\n",
    "#cat_values = OH_encoder.transform(np.array(['M.2 PCIe']).reshape(-1, 1))\n",
    "\n",
    "array = []\n",
    "for i in num_values:\n",
    "    for j in i:\n",
    "        array.append(j)\n",
    "for i in cat_values:\n",
    "    for j in i:\n",
    "        array.append(j)\n",
    "array\n",
    "\n",
    "result = svr.predict([array])\n",
    "sc2.inverse_transform(result)"
   ]
  },
  {
   "cell_type": "code",
   "execution_count": 334,
   "metadata": {},
   "outputs": [
    {
     "data": {
      "text/plain": [
       "array([-0.71421476])"
      ]
     },
     "execution_count": 334,
     "metadata": {},
     "output_type": "execute_result"
    }
   ],
   "source": [
    "forest.predict([array])"
   ]
  },
  {
   "cell_type": "code",
   "execution_count": 649,
   "metadata": {},
   "outputs": [
    {
     "data": {
      "text/plain": [
       "array([16799.04508357])"
      ]
     },
     "execution_count": 649,
     "metadata": {},
     "output_type": "execute_result"
    }
   ],
   "source": [
    "sc2.inverse_transform([-0.67402511])"
   ]
  },
  {
   "cell_type": "code",
   "execution_count": 591,
   "metadata": {},
   "outputs": [
    {
     "data": {
      "text/html": [
       "<div>\n",
       "<style scoped>\n",
       "    .dataframe tbody tr th:only-of-type {\n",
       "        vertical-align: middle;\n",
       "    }\n",
       "\n",
       "    .dataframe tbody tr th {\n",
       "        vertical-align: top;\n",
       "    }\n",
       "\n",
       "    .dataframe thead th {\n",
       "        text-align: right;\n",
       "    }\n",
       "</style>\n",
       "<table border=\"1\" class=\"dataframe\">\n",
       "  <thead>\n",
       "    <tr style=\"text-align: right;\">\n",
       "      <th></th>\n",
       "      <th>Megnevezés</th>\n",
       "      <th>Méret</th>\n",
       "      <th>Csatlakozás</th>\n",
       "      <th>Technológia</th>\n",
       "      <th>Tároló kapacitás (GB)</th>\n",
       "      <th>SSD max írás (MB/s)</th>\n",
       "      <th>SSD max olvasás (MB/s)</th>\n",
       "      <th>TBW (TB)</th>\n",
       "      <th>Világítás</th>\n",
       "      <th>Hűtőborda</th>\n",
       "      <th>Ár (FT)</th>\n",
       "    </tr>\n",
       "  </thead>\n",
       "  <tbody>\n",
       "    <tr>\n",
       "      <th>0</th>\n",
       "      <td>KINGSTON 240GB A400 SATA 3 2.5\" SA400S37/240G</td>\n",
       "      <td>2.5\"</td>\n",
       "      <td>SATA 3</td>\n",
       "      <td>TLC</td>\n",
       "      <td>240</td>\n",
       "      <td>350</td>\n",
       "      <td>500</td>\n",
       "      <td>80</td>\n",
       "      <td>Nem</td>\n",
       "      <td>Nem</td>\n",
       "      <td>11890</td>\n",
       "    </tr>\n",
       "    <tr>\n",
       "      <th>1</th>\n",
       "      <td>KINGSTON 500GB A2000 M.2 PCIe M.2 2280 SA2000M...</td>\n",
       "      <td>M.2 2280</td>\n",
       "      <td>M.2 PCIe</td>\n",
       "      <td>TLC</td>\n",
       "      <td>500</td>\n",
       "      <td>2000</td>\n",
       "      <td>2200</td>\n",
       "      <td>300</td>\n",
       "      <td>Nem</td>\n",
       "      <td>Nem</td>\n",
       "      <td>22189</td>\n",
       "    </tr>\n",
       "    <tr>\n",
       "      <th>2</th>\n",
       "      <td>KINGSTON 480GB A400 SATA 3 2.5\" SA400S37/480G</td>\n",
       "      <td>2.5\"</td>\n",
       "      <td>SATA 3</td>\n",
       "      <td>TLC</td>\n",
       "      <td>480</td>\n",
       "      <td>450</td>\n",
       "      <td>500</td>\n",
       "      <td>160</td>\n",
       "      <td>Nem</td>\n",
       "      <td>Nem</td>\n",
       "      <td>18090</td>\n",
       "    </tr>\n",
       "    <tr>\n",
       "      <th>3</th>\n",
       "      <td>KINGSTON 250GB A2000 M.2 PCIe M.2 2280 SA2000M...</td>\n",
       "      <td>M.2 2280</td>\n",
       "      <td>M.2 PCIe</td>\n",
       "      <td>TLC</td>\n",
       "      <td>250</td>\n",
       "      <td>1100</td>\n",
       "      <td>2000</td>\n",
       "      <td>150</td>\n",
       "      <td>Nem</td>\n",
       "      <td>Nem</td>\n",
       "      <td>14489</td>\n",
       "    </tr>\n",
       "    <tr>\n",
       "      <th>4</th>\n",
       "      <td>KINGSTON 1TB A2000 M.2 PCIe M.2 2280 SA2000M8/...</td>\n",
       "      <td>M.2 2280</td>\n",
       "      <td>M.2 PCIe</td>\n",
       "      <td>TLC</td>\n",
       "      <td>1000</td>\n",
       "      <td>2000</td>\n",
       "      <td>2200</td>\n",
       "      <td>600</td>\n",
       "      <td>Nem</td>\n",
       "      <td>Nem</td>\n",
       "      <td>39590</td>\n",
       "    </tr>\n",
       "    <tr>\n",
       "      <th>...</th>\n",
       "      <td>...</td>\n",
       "      <td>...</td>\n",
       "      <td>...</td>\n",
       "      <td>...</td>\n",
       "      <td>...</td>\n",
       "      <td>...</td>\n",
       "      <td>...</td>\n",
       "      <td>...</td>\n",
       "      <td>...</td>\n",
       "      <td>...</td>\n",
       "      <td>...</td>\n",
       "    </tr>\n",
       "    <tr>\n",
       "      <th>715</th>\n",
       "      <td>WD 250GB Blue SN500 NVMe M.2 PCIe M.2 2280 WDS...</td>\n",
       "      <td>M.2 2280</td>\n",
       "      <td>M.2 PCIe</td>\n",
       "      <td>TLC</td>\n",
       "      <td>250</td>\n",
       "      <td>1300</td>\n",
       "      <td>1700</td>\n",
       "      <td>150</td>\n",
       "      <td>Nem</td>\n",
       "      <td>Nem</td>\n",
       "      <td>19590</td>\n",
       "    </tr>\n",
       "    <tr>\n",
       "      <th>722</th>\n",
       "      <td>WD 500GB Blue SN550 NVMe M.2 PCIe M.2 2280 WDB...</td>\n",
       "      <td>M.2 2280</td>\n",
       "      <td>M.2 PCIe</td>\n",
       "      <td>TLC</td>\n",
       "      <td>500</td>\n",
       "      <td>1750</td>\n",
       "      <td>2400</td>\n",
       "      <td>300</td>\n",
       "      <td>Nem</td>\n",
       "      <td>Nem</td>\n",
       "      <td>64690</td>\n",
       "    </tr>\n",
       "    <tr>\n",
       "      <th>723</th>\n",
       "      <td>ZADAK 128GB TWSS3 SATA 3 2.5\" ZS128GTWSS3-1</td>\n",
       "      <td>2.5\"</td>\n",
       "      <td>SATA 3</td>\n",
       "      <td>TLC</td>\n",
       "      <td>128</td>\n",
       "      <td>540</td>\n",
       "      <td>560</td>\n",
       "      <td>0</td>\n",
       "      <td>Nem</td>\n",
       "      <td>Nem</td>\n",
       "      <td>10690</td>\n",
       "    </tr>\n",
       "    <tr>\n",
       "      <th>724</th>\n",
       "      <td>ZADAK 256GB TWSS3 SATA 3 2.5\" ZS256GTWSS3-1</td>\n",
       "      <td>2.5\"</td>\n",
       "      <td>SATA 3</td>\n",
       "      <td>TLC</td>\n",
       "      <td>256</td>\n",
       "      <td>540</td>\n",
       "      <td>560</td>\n",
       "      <td>0</td>\n",
       "      <td>Nem</td>\n",
       "      <td>Nem</td>\n",
       "      <td>14089</td>\n",
       "    </tr>\n",
       "    <tr>\n",
       "      <th>725</th>\n",
       "      <td>ZADAK 512GB TWSS3 SATA 3 2.5\" ZS512GTWSS3-1</td>\n",
       "      <td>2.5\"</td>\n",
       "      <td>SATA 3</td>\n",
       "      <td>TLC</td>\n",
       "      <td>512</td>\n",
       "      <td>540</td>\n",
       "      <td>560</td>\n",
       "      <td>0</td>\n",
       "      <td>Nem</td>\n",
       "      <td>Nem</td>\n",
       "      <td>24790</td>\n",
       "    </tr>\n",
       "  </tbody>\n",
       "</table>\n",
       "<p>617 rows × 11 columns</p>\n",
       "</div>"
      ],
      "text/plain": [
       "                                            Megnevezés     Méret Csatlakozás  \\\n",
       "0        KINGSTON 240GB A400 SATA 3 2.5\" SA400S37/240G      2.5\"      SATA 3   \n",
       "1    KINGSTON 500GB A2000 M.2 PCIe M.2 2280 SA2000M...  M.2 2280    M.2 PCIe   \n",
       "2        KINGSTON 480GB A400 SATA 3 2.5\" SA400S37/480G      2.5\"      SATA 3   \n",
       "3    KINGSTON 250GB A2000 M.2 PCIe M.2 2280 SA2000M...  M.2 2280    M.2 PCIe   \n",
       "4    KINGSTON 1TB A2000 M.2 PCIe M.2 2280 SA2000M8/...  M.2 2280    M.2 PCIe   \n",
       "..                                                 ...       ...         ...   \n",
       "715  WD 250GB Blue SN500 NVMe M.2 PCIe M.2 2280 WDS...  M.2 2280    M.2 PCIe   \n",
       "722  WD 500GB Blue SN550 NVMe M.2 PCIe M.2 2280 WDB...  M.2 2280    M.2 PCIe   \n",
       "723        ZADAK 128GB TWSS3 SATA 3 2.5\" ZS128GTWSS3-1      2.5\"      SATA 3   \n",
       "724        ZADAK 256GB TWSS3 SATA 3 2.5\" ZS256GTWSS3-1      2.5\"      SATA 3   \n",
       "725        ZADAK 512GB TWSS3 SATA 3 2.5\" ZS512GTWSS3-1      2.5\"      SATA 3   \n",
       "\n",
       "    Technológia  Tároló kapacitás (GB)  SSD max írás (MB/s)  \\\n",
       "0           TLC                    240                  350   \n",
       "1           TLC                    500                 2000   \n",
       "2           TLC                    480                  450   \n",
       "3           TLC                    250                 1100   \n",
       "4           TLC                   1000                 2000   \n",
       "..          ...                    ...                  ...   \n",
       "715         TLC                    250                 1300   \n",
       "722         TLC                    500                 1750   \n",
       "723         TLC                    128                  540   \n",
       "724         TLC                    256                  540   \n",
       "725         TLC                    512                  540   \n",
       "\n",
       "     SSD max olvasás (MB/s)  TBW (TB) Világítás Hűtőborda  Ár (FT)  \n",
       "0                       500        80       Nem       Nem    11890  \n",
       "1                      2200       300       Nem       Nem    22189  \n",
       "2                       500       160       Nem       Nem    18090  \n",
       "3                      2000       150       Nem       Nem    14489  \n",
       "4                      2200       600       Nem       Nem    39590  \n",
       "..                      ...       ...       ...       ...      ...  \n",
       "715                    1700       150       Nem       Nem    19590  \n",
       "722                    2400       300       Nem       Nem    64690  \n",
       "723                     560         0       Nem       Nem    10690  \n",
       "724                     560         0       Nem       Nem    14089  \n",
       "725                     560         0       Nem       Nem    24790  \n",
       "\n",
       "[617 rows x 11 columns]"
      ]
     },
     "execution_count": 591,
     "metadata": {},
     "output_type": "execute_result"
    }
   ],
   "source": [
    "df_filtered"
   ]
  },
  {
   "cell_type": "markdown",
   "metadata": {},
   "source": [
    "Ha nincsenek skálázva az adatok."
   ]
  },
  {
   "cell_type": "code",
   "execution_count": 178,
   "metadata": {},
   "outputs": [],
   "source": [
    "array = [480, 450, 500]\n",
    "asd = OH_encoder.transform(np.array(['2.5\"', 'SATA 3', 'TLC', 'Nem', 'Nem']).reshape(-1, 5))\n",
    "#asd = OH_encoder.transform(np.array(['SATA 3']).reshape(-1, 1))\n",
    "\n",
    "for i in asd:\n",
    "    for j in i:\n",
    "        array.append(j)\n",
    "#array"
   ]
  },
  {
   "cell_type": "code",
   "execution_count": 317,
   "metadata": {},
   "outputs": [
    {
     "data": {
      "text/plain": [
       "array([[11292302.32448463]])"
      ]
     },
     "execution_count": 317,
     "metadata": {},
     "output_type": "execute_result"
    }
   ],
   "source": [
    "linear.predict([array])"
   ]
  },
  {
   "cell_type": "code",
   "execution_count": 101,
   "metadata": {},
   "outputs": [
    {
     "data": {
      "text/plain": [
       "array([[-0.26354206, -0.61958195, -0.66794449, -0.2704257 ]])"
      ]
     },
     "execution_count": 101,
     "metadata": {},
     "output_type": "execute_result"
    }
   ],
   "source": [
    "sc.transform([[480, 450, 500, 160]])"
   ]
  },
  {
   "cell_type": "code",
   "execution_count": 354,
   "metadata": {},
   "outputs": [
    {
     "data": {
      "text/plain": [
       "(617, 27)"
      ]
     },
     "execution_count": 354,
     "metadata": {},
     "output_type": "execute_result"
    }
   ],
   "source": [
    "np.concatenate((X_train, X_test), axis=0).shape"
   ]
  },
  {
   "cell_type": "code",
   "execution_count": null,
   "metadata": {},
   "outputs": [],
   "source": []
  },
  {
   "cell_type": "code",
   "execution_count": 253,
   "metadata": {},
   "outputs": [
    {
     "data": {
      "text/plain": [
       "2000"
      ]
     },
     "execution_count": 253,
     "metadata": {},
     "output_type": "execute_result"
    }
   ],
   "source": [
    "df_filtered['Tároló kapacitás (GB)'].max()"
   ]
  },
  {
   "cell_type": "code",
   "execution_count": 48,
   "metadata": {},
   "outputs": [],
   "source": [
    "#Best r2: 0.85\n",
    "#Best Parameters: {'max_depth': 110, 'max_features': None, 'min_samples_leaf': 1, 'min_samples_split': 5, 'n_estimators': 100}"
   ]
  },
  {
   "cell_type": "markdown",
   "metadata": {},
   "source": [
    "Adatok és objektumok kimentése publikáláshoz"
   ]
  },
  {
   "cell_type": "code",
   "execution_count": 340,
   "metadata": {},
   "outputs": [],
   "source": [
    "filenames = ['finalized_model.sav', 'sc_X.sav', 'sc_y.sav', 'oh_enc.sav']\n",
    "objects = [linear, sc, sc2, OH_encoder]\n",
    "for i in range(len(filenames)):\n",
    "    pickle.dump(objects[i], open(filenames[i], 'wb'))\n",
    "\n",
    "df_filtered.to_csv('prepeared_data.csv', index=False, encoding='utf-8')"
   ]
  },
  {
   "cell_type": "code",
   "execution_count": 180,
   "metadata": {},
   "outputs": [],
   "source": []
  },
  {
   "cell_type": "code",
   "execution_count": 189,
   "metadata": {},
   "outputs": [],
   "source": [
    "filename = 'finalized_model.sav'\n",
    "pickle.dump(forest, open(filename, 'wb'))"
   ]
  },
  {
   "cell_type": "code",
   "execution_count": 182,
   "metadata": {},
   "outputs": [],
   "source": [
    "filename = 'sc_y.sav'\n",
    "pickle.dump(sc2, open(filename, 'wb'))"
   ]
  },
  {
   "cell_type": "code",
   "execution_count": 183,
   "metadata": {},
   "outputs": [],
   "source": [
    "filename = 'sc_X.sav'\n",
    "pickle.dump(sc, open(filename, 'wb'))"
   ]
  },
  {
   "cell_type": "code",
   "execution_count": 184,
   "metadata": {},
   "outputs": [],
   "source": [
    "filename = 'oh_enc.sav'\n",
    "pickle.dump(OH_encoder, open(filename, 'wb'))"
   ]
  },
  {
   "cell_type": "code",
   "execution_count": 185,
   "metadata": {},
   "outputs": [
    {
     "data": {
      "text/plain": [
       "21383.662611255673"
      ]
     },
     "execution_count": 185,
     "metadata": {},
     "output_type": "execute_result"
    }
   ],
   "source": [
    "sc2.inverse_transform([[-0.51533502]])[0][0]"
   ]
  },
  {
   "cell_type": "code",
   "execution_count": 341,
   "metadata": {},
   "outputs": [
    {
     "data": {
      "text/html": [
       "<div>\n",
       "<style scoped>\n",
       "    .dataframe tbody tr th:only-of-type {\n",
       "        vertical-align: middle;\n",
       "    }\n",
       "\n",
       "    .dataframe tbody tr th {\n",
       "        vertical-align: top;\n",
       "    }\n",
       "\n",
       "    .dataframe thead th {\n",
       "        text-align: right;\n",
       "    }\n",
       "</style>\n",
       "<table border=\"1\" class=\"dataframe\">\n",
       "  <thead>\n",
       "    <tr style=\"text-align: right;\">\n",
       "      <th></th>\n",
       "      <th>Méret</th>\n",
       "      <th>Csatlakozás</th>\n",
       "      <th>Technológia</th>\n",
       "    </tr>\n",
       "  </thead>\n",
       "  <tbody>\n",
       "    <tr>\n",
       "      <th>0</th>\n",
       "      <td>2.5\"</td>\n",
       "      <td>SATA 3</td>\n",
       "      <td>TLC</td>\n",
       "    </tr>\n",
       "    <tr>\n",
       "      <th>1</th>\n",
       "      <td>M.2 2280</td>\n",
       "      <td>M.2 PCIe</td>\n",
       "      <td>TLC</td>\n",
       "    </tr>\n",
       "    <tr>\n",
       "      <th>5</th>\n",
       "      <td>M.2 2280</td>\n",
       "      <td>M.2 PCIe</td>\n",
       "      <td>MLC</td>\n",
       "    </tr>\n",
       "    <tr>\n",
       "      <th>7</th>\n",
       "      <td>M.2 2280</td>\n",
       "      <td>M.2 PCIe</td>\n",
       "      <td>Optane</td>\n",
       "    </tr>\n",
       "    <tr>\n",
       "      <th>8</th>\n",
       "      <td>mSATA</td>\n",
       "      <td>mSATA</td>\n",
       "      <td>MLC</td>\n",
       "    </tr>\n",
       "    <tr>\n",
       "      <th>11</th>\n",
       "      <td>2.5\"</td>\n",
       "      <td>SATA 3</td>\n",
       "      <td>MLC</td>\n",
       "    </tr>\n",
       "    <tr>\n",
       "      <th>33</th>\n",
       "      <td>2.5\"</td>\n",
       "      <td>SATA 3</td>\n",
       "      <td>QLC</td>\n",
       "    </tr>\n",
       "    <tr>\n",
       "      <th>38</th>\n",
       "      <td>M.2 2280</td>\n",
       "      <td>M.2 SATA</td>\n",
       "      <td>TLC</td>\n",
       "    </tr>\n",
       "    <tr>\n",
       "      <th>39</th>\n",
       "      <td>M.2 2280</td>\n",
       "      <td>M.2 PCIe</td>\n",
       "      <td>QLC</td>\n",
       "    </tr>\n",
       "    <tr>\n",
       "      <th>51</th>\n",
       "      <td>M.2 2280</td>\n",
       "      <td>M.2 SATA</td>\n",
       "      <td>MLC</td>\n",
       "    </tr>\n",
       "    <tr>\n",
       "      <th>107</th>\n",
       "      <td>M.2 2242</td>\n",
       "      <td>M.2 SATA</td>\n",
       "      <td>TLC</td>\n",
       "    </tr>\n",
       "    <tr>\n",
       "      <th>109</th>\n",
       "      <td>mSATA</td>\n",
       "      <td>mSATA</td>\n",
       "      <td>TLC</td>\n",
       "    </tr>\n",
       "    <tr>\n",
       "      <th>200</th>\n",
       "      <td>2.5\"</td>\n",
       "      <td>PATA/IDE</td>\n",
       "      <td>MLC</td>\n",
       "    </tr>\n",
       "    <tr>\n",
       "      <th>252</th>\n",
       "      <td>HHHL/PCI Express</td>\n",
       "      <td>PCI Express</td>\n",
       "      <td>TLC</td>\n",
       "    </tr>\n",
       "    <tr>\n",
       "      <th>263</th>\n",
       "      <td>M.2 2230</td>\n",
       "      <td>M.2 PCIe</td>\n",
       "      <td>TLC</td>\n",
       "    </tr>\n",
       "    <tr>\n",
       "      <th>478</th>\n",
       "      <td>M.2 2280</td>\n",
       "      <td>SATA 3</td>\n",
       "      <td>TLC</td>\n",
       "    </tr>\n",
       "    <tr>\n",
       "      <th>554</th>\n",
       "      <td>2.5\"</td>\n",
       "      <td>SATA 2</td>\n",
       "      <td>MLC</td>\n",
       "    </tr>\n",
       "    <tr>\n",
       "      <th>667</th>\n",
       "      <td>M.2 2242</td>\n",
       "      <td>M.2 SATA</td>\n",
       "      <td>MLC</td>\n",
       "    </tr>\n",
       "    <tr>\n",
       "      <th>676</th>\n",
       "      <td>M.2 2260</td>\n",
       "      <td>M.2 SATA</td>\n",
       "      <td>MLC</td>\n",
       "    </tr>\n",
       "    <tr>\n",
       "      <th>685</th>\n",
       "      <td>Half Slim</td>\n",
       "      <td>SATA 3</td>\n",
       "      <td>MLC</td>\n",
       "    </tr>\n",
       "  </tbody>\n",
       "</table>\n",
       "</div>"
      ],
      "text/plain": [
       "                Méret  Csatlakozás Technológia\n",
       "0                2.5\"       SATA 3         TLC\n",
       "1            M.2 2280     M.2 PCIe         TLC\n",
       "5            M.2 2280     M.2 PCIe         MLC\n",
       "7            M.2 2280     M.2 PCIe      Optane\n",
       "8               mSATA        mSATA         MLC\n",
       "11               2.5\"       SATA 3         MLC\n",
       "33               2.5\"       SATA 3         QLC\n",
       "38           M.2 2280     M.2 SATA         TLC\n",
       "39           M.2 2280     M.2 PCIe         QLC\n",
       "51           M.2 2280     M.2 SATA         MLC\n",
       "107          M.2 2242     M.2 SATA         TLC\n",
       "109             mSATA        mSATA         TLC\n",
       "200              2.5\"     PATA/IDE         MLC\n",
       "252  HHHL/PCI Express  PCI Express         TLC\n",
       "263          M.2 2230     M.2 PCIe         TLC\n",
       "478          M.2 2280       SATA 3         TLC\n",
       "554              2.5\"       SATA 2         MLC\n",
       "667          M.2 2242     M.2 SATA         MLC\n",
       "676          M.2 2260     M.2 SATA         MLC\n",
       "685         Half Slim       SATA 3         MLC"
      ]
     },
     "execution_count": 341,
     "metadata": {},
     "output_type": "execute_result"
    }
   ],
   "source": [
    "asd = df_filtered[df_filtered[['Méret', 'Csatlakozás', 'Technológia']].duplicated() == False]\n",
    "asd[['Méret', 'Csatlakozás', 'Technológia']]"
   ]
  },
  {
   "cell_type": "code",
   "execution_count": 192,
   "metadata": {},
   "outputs": [
    {
     "data": {
      "text/html": [
       "<div>\n",
       "<style scoped>\n",
       "    .dataframe tbody tr th:only-of-type {\n",
       "        vertical-align: middle;\n",
       "    }\n",
       "\n",
       "    .dataframe tbody tr th {\n",
       "        vertical-align: top;\n",
       "    }\n",
       "\n",
       "    .dataframe thead th {\n",
       "        text-align: right;\n",
       "    }\n",
       "</style>\n",
       "<table border=\"1\" class=\"dataframe\">\n",
       "  <thead>\n",
       "    <tr style=\"text-align: right;\">\n",
       "      <th></th>\n",
       "      <th>Megnevezés</th>\n",
       "      <th>Méret</th>\n",
       "      <th>Csatlakozás</th>\n",
       "      <th>Technológia</th>\n",
       "      <th>Tároló kapacitás (GB)</th>\n",
       "      <th>SSD max írás (MB/s)</th>\n",
       "      <th>SSD max olvasás (MB/s)</th>\n",
       "      <th>Világítás</th>\n",
       "      <th>Hűtőborda</th>\n",
       "      <th>Ár (FT)</th>\n",
       "    </tr>\n",
       "  </thead>\n",
       "  <tbody>\n",
       "    <tr>\n",
       "      <th>0</th>\n",
       "      <td>KINGSTON 240GB A400 SATA 3 2.5\" SA400S37/240G</td>\n",
       "      <td>2.5\"</td>\n",
       "      <td>SATA 3</td>\n",
       "      <td>TLC</td>\n",
       "      <td>240</td>\n",
       "      <td>350</td>\n",
       "      <td>500</td>\n",
       "      <td>Nem</td>\n",
       "      <td>Nem</td>\n",
       "      <td>11890</td>\n",
       "    </tr>\n",
       "    <tr>\n",
       "      <th>1</th>\n",
       "      <td>KINGSTON 500GB A2000 M.2 PCIe M.2 2280 SA2000M...</td>\n",
       "      <td>M.2 2280</td>\n",
       "      <td>M.2 PCIe</td>\n",
       "      <td>TLC</td>\n",
       "      <td>500</td>\n",
       "      <td>2000</td>\n",
       "      <td>2200</td>\n",
       "      <td>Nem</td>\n",
       "      <td>Nem</td>\n",
       "      <td>22189</td>\n",
       "    </tr>\n",
       "    <tr>\n",
       "      <th>5</th>\n",
       "      <td>SAMSUNG 500GB 970 EVO Plus M.2 PCIe M.2 2280 M...</td>\n",
       "      <td>M.2 2280</td>\n",
       "      <td>M.2 PCIe</td>\n",
       "      <td>MLC</td>\n",
       "      <td>500</td>\n",
       "      <td>3200</td>\n",
       "      <td>3500</td>\n",
       "      <td>Nem</td>\n",
       "      <td>Nem</td>\n",
       "      <td>30390</td>\n",
       "    </tr>\n",
       "    <tr>\n",
       "      <th>7</th>\n",
       "      <td>INTEL 256GB Optane H10 M.2 PCIe M.2 2280 HBRPE...</td>\n",
       "      <td>M.2 2280</td>\n",
       "      <td>M.2 PCIe</td>\n",
       "      <td>Optane</td>\n",
       "      <td>256</td>\n",
       "      <td>650</td>\n",
       "      <td>1450</td>\n",
       "      <td>Nem</td>\n",
       "      <td>Nem</td>\n",
       "      <td>18790</td>\n",
       "    </tr>\n",
       "    <tr>\n",
       "      <th>8</th>\n",
       "      <td>TRANSCEND 32GB MSA370 mSATA TS32GMSA370</td>\n",
       "      <td>mSATA</td>\n",
       "      <td>mSATA</td>\n",
       "      <td>MLC</td>\n",
       "      <td>32</td>\n",
       "      <td>40</td>\n",
       "      <td>260</td>\n",
       "      <td>Nem</td>\n",
       "      <td>Nem</td>\n",
       "      <td>15890</td>\n",
       "    </tr>\n",
       "    <tr>\n",
       "      <th>11</th>\n",
       "      <td>SAMSUNG 500GB 860 EVO SATA 3 2.5\" MZ-76E500B/E...</td>\n",
       "      <td>2.5\"</td>\n",
       "      <td>SATA 3</td>\n",
       "      <td>MLC</td>\n",
       "      <td>500</td>\n",
       "      <td>520</td>\n",
       "      <td>550</td>\n",
       "      <td>Nem</td>\n",
       "      <td>Nem</td>\n",
       "      <td>28090</td>\n",
       "    </tr>\n",
       "    <tr>\n",
       "      <th>33</th>\n",
       "      <td>SAMSUNG 1TB 870 QVO SATA 3 2.5\" MZ-77Q1T0BW</td>\n",
       "      <td>2.5\"</td>\n",
       "      <td>SATA 3</td>\n",
       "      <td>QLC</td>\n",
       "      <td>1000</td>\n",
       "      <td>520</td>\n",
       "      <td>550</td>\n",
       "      <td>Nem</td>\n",
       "      <td>Nem</td>\n",
       "      <td>36690</td>\n",
       "    </tr>\n",
       "    <tr>\n",
       "      <th>38</th>\n",
       "      <td>WD 500GB Blue M.2 SATA M.2 2280 WDS500G2B0B</td>\n",
       "      <td>M.2 2280</td>\n",
       "      <td>M.2 SATA</td>\n",
       "      <td>TLC</td>\n",
       "      <td>500</td>\n",
       "      <td>530</td>\n",
       "      <td>560</td>\n",
       "      <td>Nem</td>\n",
       "      <td>Nem</td>\n",
       "      <td>19690</td>\n",
       "    </tr>\n",
       "    <tr>\n",
       "      <th>39</th>\n",
       "      <td>INTEL 512GB 660P M.2 PCIe M.2 2280 SSDPEKNW512...</td>\n",
       "      <td>M.2 2280</td>\n",
       "      <td>M.2 PCIe</td>\n",
       "      <td>QLC</td>\n",
       "      <td>512</td>\n",
       "      <td>1000</td>\n",
       "      <td>1500</td>\n",
       "      <td>Nem</td>\n",
       "      <td>Nem</td>\n",
       "      <td>20490</td>\n",
       "    </tr>\n",
       "    <tr>\n",
       "      <th>51</th>\n",
       "      <td>SAMSUNG 250GB 860 EVO M.2 SATA M.2 2280 MZ-N6E...</td>\n",
       "      <td>M.2 2280</td>\n",
       "      <td>M.2 SATA</td>\n",
       "      <td>MLC</td>\n",
       "      <td>250</td>\n",
       "      <td>520</td>\n",
       "      <td>550</td>\n",
       "      <td>Nem</td>\n",
       "      <td>Nem</td>\n",
       "      <td>17990</td>\n",
       "    </tr>\n",
       "    <tr>\n",
       "      <th>107</th>\n",
       "      <td>TRANSCEND 240GB MTS420 M.2 SATA M.2 2242 TS240...</td>\n",
       "      <td>M.2 2242</td>\n",
       "      <td>M.2 SATA</td>\n",
       "      <td>TLC</td>\n",
       "      <td>240</td>\n",
       "      <td>500</td>\n",
       "      <td>560</td>\n",
       "      <td>Nem</td>\n",
       "      <td>Nem</td>\n",
       "      <td>13090</td>\n",
       "    </tr>\n",
       "    <tr>\n",
       "      <th>109</th>\n",
       "      <td>KINGSTON 240GB UV500 mSATA 2.5\" SUV500MS/240G</td>\n",
       "      <td>mSATA</td>\n",
       "      <td>mSATA</td>\n",
       "      <td>TLC</td>\n",
       "      <td>240</td>\n",
       "      <td>500</td>\n",
       "      <td>520</td>\n",
       "      <td>Nem</td>\n",
       "      <td>Nem</td>\n",
       "      <td>15890</td>\n",
       "    </tr>\n",
       "    <tr>\n",
       "      <th>200</th>\n",
       "      <td>TRANSCEND 32GB Internal PATA/IDE 2.5\" TS32GPSD330</td>\n",
       "      <td>2.5\"</td>\n",
       "      <td>PATA/IDE</td>\n",
       "      <td>MLC</td>\n",
       "      <td>32</td>\n",
       "      <td>67</td>\n",
       "      <td>120</td>\n",
       "      <td>Nem</td>\n",
       "      <td>Nem</td>\n",
       "      <td>17590</td>\n",
       "    </tr>\n",
       "    <tr>\n",
       "      <th>252</th>\n",
       "      <td>GIGABYTE 1TB AORUS RGB AIC NVMe PCI Express HH...</td>\n",
       "      <td>HHHL/PCI Express</td>\n",
       "      <td>PCI Express</td>\n",
       "      <td>TLC</td>\n",
       "      <td>1000</td>\n",
       "      <td>3080</td>\n",
       "      <td>3480</td>\n",
       "      <td>Igen</td>\n",
       "      <td>Nem</td>\n",
       "      <td>98990</td>\n",
       "    </tr>\n",
       "    <tr>\n",
       "      <th>263</th>\n",
       "      <td>TOSHIBA 128GB BG4 M.2 PCIe M.2 2230 KBG40ZNS128G</td>\n",
       "      <td>M.2 2230</td>\n",
       "      <td>M.2 PCIe</td>\n",
       "      <td>TLC</td>\n",
       "      <td>128</td>\n",
       "      <td>800</td>\n",
       "      <td>2000</td>\n",
       "      <td>Nem</td>\n",
       "      <td>Nem</td>\n",
       "      <td>16890</td>\n",
       "    </tr>\n",
       "    <tr>\n",
       "      <th>478</th>\n",
       "      <td>GOODRAM 1TB PX500 SATA 3 M.2 2280 SSDPR-PX500-...</td>\n",
       "      <td>M.2 2280</td>\n",
       "      <td>SATA 3</td>\n",
       "      <td>TLC</td>\n",
       "      <td>1000</td>\n",
       "      <td>1650</td>\n",
       "      <td>2050</td>\n",
       "      <td>Nem</td>\n",
       "      <td>Nem</td>\n",
       "      <td>49889</td>\n",
       "    </tr>\n",
       "    <tr>\n",
       "      <th>554</th>\n",
       "      <td>OWC 250GB Mercury Electra 3G SATA 2 2.5\" OWCS3...</td>\n",
       "      <td>2.5\"</td>\n",
       "      <td>SATA 2</td>\n",
       "      <td>MLC</td>\n",
       "      <td>250</td>\n",
       "      <td>275</td>\n",
       "      <td>285</td>\n",
       "      <td>Nem</td>\n",
       "      <td>Nem</td>\n",
       "      <td>17390</td>\n",
       "    </tr>\n",
       "    <tr>\n",
       "      <th>667</th>\n",
       "      <td>TRANSCEND 128GB MTS400 M.2 SATA M.2 2242 TS128...</td>\n",
       "      <td>M.2 2242</td>\n",
       "      <td>M.2 SATA</td>\n",
       "      <td>MLC</td>\n",
       "      <td>128</td>\n",
       "      <td>160</td>\n",
       "      <td>510</td>\n",
       "      <td>Nem</td>\n",
       "      <td>Nem</td>\n",
       "      <td>17990</td>\n",
       "    </tr>\n",
       "    <tr>\n",
       "      <th>676</th>\n",
       "      <td>TRANSCEND 256GB 600S M.2 SATA M.2 2260 TS256GM...</td>\n",
       "      <td>M.2 2260</td>\n",
       "      <td>M.2 SATA</td>\n",
       "      <td>MLC</td>\n",
       "      <td>256</td>\n",
       "      <td>400</td>\n",
       "      <td>520</td>\n",
       "      <td>Nem</td>\n",
       "      <td>Nem</td>\n",
       "      <td>36990</td>\n",
       "    </tr>\n",
       "    <tr>\n",
       "      <th>685</th>\n",
       "      <td>TRANSCEND 64GB HSD370 SATA 3 Half Slim TS64GHS...</td>\n",
       "      <td>Half Slim</td>\n",
       "      <td>SATA 3</td>\n",
       "      <td>MLC</td>\n",
       "      <td>64</td>\n",
       "      <td>320</td>\n",
       "      <td>550</td>\n",
       "      <td>Nem</td>\n",
       "      <td>Nem</td>\n",
       "      <td>19790</td>\n",
       "    </tr>\n",
       "  </tbody>\n",
       "</table>\n",
       "</div>"
      ],
      "text/plain": [
       "                                            Megnevezés             Méret  \\\n",
       "0        KINGSTON 240GB A400 SATA 3 2.5\" SA400S37/240G              2.5\"   \n",
       "1    KINGSTON 500GB A2000 M.2 PCIe M.2 2280 SA2000M...          M.2 2280   \n",
       "5    SAMSUNG 500GB 970 EVO Plus M.2 PCIe M.2 2280 M...          M.2 2280   \n",
       "7    INTEL 256GB Optane H10 M.2 PCIe M.2 2280 HBRPE...          M.2 2280   \n",
       "8              TRANSCEND 32GB MSA370 mSATA TS32GMSA370             mSATA   \n",
       "11   SAMSUNG 500GB 860 EVO SATA 3 2.5\" MZ-76E500B/E...              2.5\"   \n",
       "33         SAMSUNG 1TB 870 QVO SATA 3 2.5\" MZ-77Q1T0BW              2.5\"   \n",
       "38         WD 500GB Blue M.2 SATA M.2 2280 WDS500G2B0B          M.2 2280   \n",
       "39   INTEL 512GB 660P M.2 PCIe M.2 2280 SSDPEKNW512...          M.2 2280   \n",
       "51   SAMSUNG 250GB 860 EVO M.2 SATA M.2 2280 MZ-N6E...          M.2 2280   \n",
       "107  TRANSCEND 240GB MTS420 M.2 SATA M.2 2242 TS240...          M.2 2242   \n",
       "109      KINGSTON 240GB UV500 mSATA 2.5\" SUV500MS/240G             mSATA   \n",
       "200  TRANSCEND 32GB Internal PATA/IDE 2.5\" TS32GPSD330              2.5\"   \n",
       "252  GIGABYTE 1TB AORUS RGB AIC NVMe PCI Express HH...  HHHL/PCI Express   \n",
       "263   TOSHIBA 128GB BG4 M.2 PCIe M.2 2230 KBG40ZNS128G          M.2 2230   \n",
       "478  GOODRAM 1TB PX500 SATA 3 M.2 2280 SSDPR-PX500-...          M.2 2280   \n",
       "554  OWC 250GB Mercury Electra 3G SATA 2 2.5\" OWCS3...              2.5\"   \n",
       "667  TRANSCEND 128GB MTS400 M.2 SATA M.2 2242 TS128...          M.2 2242   \n",
       "676  TRANSCEND 256GB 600S M.2 SATA M.2 2260 TS256GM...          M.2 2260   \n",
       "685  TRANSCEND 64GB HSD370 SATA 3 Half Slim TS64GHS...         Half Slim   \n",
       "\n",
       "     Csatlakozás Technológia  Tároló kapacitás (GB)  SSD max írás (MB/s)  \\\n",
       "0         SATA 3         TLC                    240                  350   \n",
       "1       M.2 PCIe         TLC                    500                 2000   \n",
       "5       M.2 PCIe         MLC                    500                 3200   \n",
       "7       M.2 PCIe      Optane                    256                  650   \n",
       "8          mSATA         MLC                     32                   40   \n",
       "11        SATA 3         MLC                    500                  520   \n",
       "33        SATA 3         QLC                   1000                  520   \n",
       "38      M.2 SATA         TLC                    500                  530   \n",
       "39      M.2 PCIe         QLC                    512                 1000   \n",
       "51      M.2 SATA         MLC                    250                  520   \n",
       "107     M.2 SATA         TLC                    240                  500   \n",
       "109        mSATA         TLC                    240                  500   \n",
       "200     PATA/IDE         MLC                     32                   67   \n",
       "252  PCI Express         TLC                   1000                 3080   \n",
       "263     M.2 PCIe         TLC                    128                  800   \n",
       "478       SATA 3         TLC                   1000                 1650   \n",
       "554       SATA 2         MLC                    250                  275   \n",
       "667     M.2 SATA         MLC                    128                  160   \n",
       "676     M.2 SATA         MLC                    256                  400   \n",
       "685       SATA 3         MLC                     64                  320   \n",
       "\n",
       "     SSD max olvasás (MB/s) Világítás Hűtőborda  Ár (FT)  \n",
       "0                       500       Nem       Nem    11890  \n",
       "1                      2200       Nem       Nem    22189  \n",
       "5                      3500       Nem       Nem    30390  \n",
       "7                      1450       Nem       Nem    18790  \n",
       "8                       260       Nem       Nem    15890  \n",
       "11                      550       Nem       Nem    28090  \n",
       "33                      550       Nem       Nem    36690  \n",
       "38                      560       Nem       Nem    19690  \n",
       "39                     1500       Nem       Nem    20490  \n",
       "51                      550       Nem       Nem    17990  \n",
       "107                     560       Nem       Nem    13090  \n",
       "109                     520       Nem       Nem    15890  \n",
       "200                     120       Nem       Nem    17590  \n",
       "252                    3480      Igen       Nem    98990  \n",
       "263                    2000       Nem       Nem    16890  \n",
       "478                    2050       Nem       Nem    49889  \n",
       "554                     285       Nem       Nem    17390  \n",
       "667                     510       Nem       Nem    17990  \n",
       "676                     520       Nem       Nem    36990  \n",
       "685                     550       Nem       Nem    19790  "
      ]
     },
     "execution_count": 192,
     "metadata": {},
     "output_type": "execute_result"
    }
   ],
   "source": [
    "df_filtered[df_filtered[['Méret', 'Csatlakozás', 'Technológia']].duplicated() == False]"
   ]
  },
  {
   "cell_type": "code",
   "execution_count": 187,
   "metadata": {},
   "outputs": [
    {
     "data": {
      "text/plain": [
       "0      False\n",
       "1      False\n",
       "2      False\n",
       "3      False\n",
       "4      False\n",
       "       ...  \n",
       "709    False\n",
       "716    False\n",
       "717    False\n",
       "718    False\n",
       "719    False\n",
       "Length: 630, dtype: bool"
      ]
     },
     "execution_count": 187,
     "metadata": {},
     "output_type": "execute_result"
    }
   ],
   "source": [
    "df_filtered.duplicated()"
   ]
  },
  {
   "cell_type": "code",
   "execution_count": null,
   "metadata": {},
   "outputs": [],
   "source": []
  },
  {
   "cell_type": "code",
   "execution_count": null,
   "metadata": {},
   "outputs": [],
   "source": []
  }
 ],
 "metadata": {
  "kernelspec": {
   "display_name": "Python 3",
   "language": "python",
   "name": "python3"
  },
  "language_info": {
   "codemirror_mode": {
    "name": "ipython",
    "version": 3
   },
   "file_extension": ".py",
   "mimetype": "text/x-python",
   "name": "python",
   "nbconvert_exporter": "python",
   "pygments_lexer": "ipython3",
   "version": "3.8.5"
  }
 },
 "nbformat": 4,
 "nbformat_minor": 4
}
